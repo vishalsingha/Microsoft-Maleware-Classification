{
 "cells": [
  {
   "cell_type": "code",
   "execution_count": 434,
   "id": "42a33d15",
   "metadata": {},
   "outputs": [
    {
     "name": "stdout",
     "output_type": "stream",
     "text": [
      "Requirement already satisfied: xgboost in /opt/conda/lib/python3.7/site-packages (1.4.2)\n",
      "Requirement already satisfied: numpy in /opt/conda/lib/python3.7/site-packages (from xgboost) (1.19.5)\n",
      "Requirement already satisfied: scipy in /opt/conda/lib/python3.7/site-packages (from xgboost) (1.6.3)\n",
      "Requirement already satisfied: py7zr in /opt/conda/lib/python3.7/site-packages (0.16.1)\n",
      "Requirement already satisfied: brotli>=1.0.9 in /opt/conda/lib/python3.7/site-packages (from py7zr) (1.0.9)\n",
      "Requirement already satisfied: importlib-metadata in /opt/conda/lib/python3.7/site-packages (from py7zr) (4.2.0)\n",
      "Requirement already satisfied: texttable in /opt/conda/lib/python3.7/site-packages (from py7zr) (1.6.3)\n",
      "Requirement already satisfied: pyppmd>=0.14.0 in /opt/conda/lib/python3.7/site-packages (from py7zr) (0.15.0)\n",
      "Requirement already satisfied: pyzstd<0.15.0,>=0.14.4 in /opt/conda/lib/python3.7/site-packages (from py7zr) (0.14.4)\n",
      "Requirement already satisfied: bcj-cffi<0.6.0,>=0.5.1 in /opt/conda/lib/python3.7/site-packages (from py7zr) (0.5.1)\n",
      "Requirement already satisfied: multivolumefile>=0.2.3 in /opt/conda/lib/python3.7/site-packages (from py7zr) (0.2.3)\n",
      "Requirement already satisfied: pycryptodomex>=3.6.6 in /opt/conda/lib/python3.7/site-packages (from py7zr) (3.10.1)\n",
      "Requirement already satisfied: cffi>=1.14.0 in /opt/conda/lib/python3.7/site-packages (from bcj-cffi<0.6.0,>=0.5.1->py7zr) (1.14.5)\n",
      "Requirement already satisfied: pycparser in /opt/conda/lib/python3.7/site-packages (from cffi>=1.14.0->bcj-cffi<0.6.0,>=0.5.1->py7zr) (2.20)\n",
      "Requirement already satisfied: zipp>=0.5 in /opt/conda/lib/python3.7/site-packages (from importlib-metadata->py7zr) (3.4.1)\n",
      "Requirement already satisfied: typing-extensions>=3.6.4 in /opt/conda/lib/python3.7/site-packages (from importlib-metadata->py7zr) (3.7.4.3)\n",
      "Requirement already satisfied: lightgbm in /opt/conda/lib/python3.7/site-packages (3.2.1)\n",
      "Requirement already satisfied: wheel in /opt/conda/lib/python3.7/site-packages (from lightgbm) (0.36.2)\n",
      "Requirement already satisfied: numpy in /opt/conda/lib/python3.7/site-packages (from lightgbm) (1.19.5)\n",
      "Requirement already satisfied: scikit-learn!=0.22.0 in /opt/conda/lib/python3.7/site-packages (from lightgbm) (0.24.2)\n",
      "Requirement already satisfied: scipy in /opt/conda/lib/python3.7/site-packages (from lightgbm) (1.6.3)\n",
      "Requirement already satisfied: joblib>=0.11 in /opt/conda/lib/python3.7/site-packages (from scikit-learn!=0.22.0->lightgbm) (1.0.1)\n",
      "Requirement already satisfied: threadpoolctl>=2.0.0 in /opt/conda/lib/python3.7/site-packages (from scikit-learn!=0.22.0->lightgbm) (2.1.0)\n"
     ]
    }
   ],
   "source": [
    "! pip install xgboost\n",
    "!pip install py7zr\n",
    "!pip install lightgbm"
   ]
  },
  {
   "cell_type": "code",
   "execution_count": 435,
   "id": "133c0a6e",
   "metadata": {},
   "outputs": [],
   "source": [
    "import warnings\n",
    "warnings.filterwarnings(\"ignore\")\n",
    "import shutil\n",
    "import os\n",
    "import tqdm\n",
    "import pandas as pd\n",
    "import matplotlib\n",
    "matplotlib.use(u'nbAgg')\n",
    "import matplotlib.pyplot as plt\n",
    "import seaborn as sns\n",
    "import numpy as np\n",
    "import pickle\n",
    "from sklearn.manifold import TSNE\n",
    "from sklearn import preprocessing\n",
    "import pandas as pd\n",
    "from multiprocessing import Process# this is used for multithreading\n",
    "import multiprocessing\n",
    "import codecs# this is used for file operations \n",
    "import random as r\n",
    "from xgboost import XGBClassifier\n",
    "from sklearn.model_selection import RandomizedSearchCV\n",
    "from sklearn.tree import DecisionTreeClassifier\n",
    "from sklearn.calibration import CalibratedClassifierCV\n",
    "from sklearn.neighbors import KNeighborsClassifier\n",
    "from sklearn.metrics import log_loss\n",
    "from sklearn.metrics import confusion_matrix\n",
    "from sklearn.model_selection import train_test_split\n",
    "from sklearn.linear_model import LogisticRegression\n",
    "from sklearn.ensemble import RandomForestClassifier"
   ]
  },
  {
   "cell_type": "code",
   "execution_count": 436,
   "id": "1b46e2c0",
   "metadata": {},
   "outputs": [],
   "source": [
    "!wget --header=\"Host: storage.googleapis.com\" --header=\"User-Agent: Mozilla/5.0 (Windows NT 10.0; Win64; x64) AppleWebKit/537.36 (KHTML, like Gecko) Chrome/91.0.4472.77 Safari/537.36\" --header=\"Accept: text/html,application/xhtml+xml,application/xml;q=0.9,image/avif,image/webp,image/apng,*/*;q=0.8,application/signed-exchange;v=b3;q=0.9\" --header=\"Accept-Language: en-US,en;q=0.9\" --header=\"Referer: https://www.kaggle.com/\" \"https://storage.googleapis.com/kagglesdsdata/competitions/4117/46665/train.7z?GoogleAccessId=web-data@kaggle-161607.iam.gserviceaccount.com&Expires=1623603938&Signature=skQ6FEfg0rcl1z8GB9PmF5nyF2ncVpayj1WqYChbofi4JRWH5wxJjsgeQ1S%2BZc%2B4PUuK5lxxfTOLpeM8l5oSqihUVr%2Fgpzs9BT2UV2WLpLWX2oVwVgrXjo0nxD3%2BeWLxWk1NBDXOn9RsbWXVIK1K8izH1GqIkXacouEy%2F7dxV2wM9V8amlTXJm7zycTI%2Bd5ytPuqs4e9rEdodPLg59rqtlQrXCn3%2BOKykzmMrMmez0fvOmZw0Fw3KjaukwNrQDS7cIQ3TIt5OGDhNc13EICrEnQDYcEXJUCH2RkJGRxj0G%2FbaO2h%2F4vYLoxYRzm8EfMBVh3r7HwRI70ZDtoBHkCT2g%3D%3D&response-content-disposition=attachment%3B+filename%3Dtrain.7z\" -c -O 'train.7z'"
   ]
  },
  {
   "cell_type": "code",
   "execution_count": 437,
   "id": "6d0b5b91",
   "metadata": {},
   "outputs": [],
   "source": [
    "!py7zr x train.7z"
   ]
  },
  {
   "cell_type": "code",
   "execution_count": 438,
   "id": "b5fefc6f",
   "metadata": {},
   "outputs": [],
   "source": [
    "#separating byte files and asm files \n",
    "\n",
    "source = 'train'\n",
    "destination_1 = 'byteFiles'\n",
    "destination_2 = 'asmFiles'\n",
    "\n",
    "# we will check if the folder 'byteFiles' exists if it not there we will create a folder with the same name\n",
    "if not os.path.isdir(destination_1):\n",
    "    os.makedirs(destination_1)\n",
    "if not os.path.isdir(destination_2):\n",
    "    os.makedirs(destination_2)\n",
    "\n",
    "# if we have folder called 'train' (train folder contains both .asm files and .bytes files) we will rename it 'asmFiles'\n",
    "# for every file that we have in our 'asmFiles' directory we check if it is ending with .bytes, if yes we will move it to\n",
    "# 'byteFiles' folder\n",
    "\n",
    "# so by the end of this snippet we will separate all the .byte files and .asm files\n",
    "if os.path.isdir(source):\n",
    "    data_files = os.listdir(source)\n",
    "    for file in data_files:\n",
    "        if (file.endswith(\"bytes\")):\n",
    "            shutil.move(source+'/'+file,destination_1)\n",
    "        if (file.endswith(\"asm\")):\n",
    "            shutil.move(source+'/'+file,destination_2)"
   ]
  },
  {
   "cell_type": "markdown",
   "id": "f2780698",
   "metadata": {},
   "source": [
    "<h2>3.1. Distribution of malware classes in whole data set </h2>"
   ]
  },
  {
   "cell_type": "code",
   "execution_count": 439,
   "id": "65a57aee",
   "metadata": {},
   "outputs": [
    {
     "data": {
      "image/png": "[encoded data removed]",
      "text/plain": [
       "<Figure size 432x288 with 1 Axes>"
      ]
     },
     "metadata": {
      "needs_background": "light"
     },
     "output_type": "display_data"
    }
   ],
   "source": [
    " %matplotlib inline\n",
    "\n",
    "Y=pd.read_csv(\"trainLabels.csv\")\n",
    "total = len(Y)*1.\n",
    "ax=sns.countplot(x=\"Class\", data=Y)\n",
    "for p in ax.patches:\n",
    "        ax.annotate('{:.1f}%'.format(100*p.get_height()/total), (p.get_x()+0.1, p.get_height()+5))\n",
    "\n",
    "#put 11 ticks (therefore 10 steps), from 0 to the total number of rows in the dataframe\n",
    "ax.yaxis.set_ticks(np.linspace(0, total, 11))\n",
    "\n",
    "#adjust the ticklabel to the desired format, without changing the position of the ticks. \n",
    "ax.set_yticklabels(map('{:.1f}%'.format, 100*ax.yaxis.get_majorticklocs()/total))\n",
    "plt.show()"
   ]
  },
  {
   "cell_type": "markdown",
   "id": "bc9c7456",
   "metadata": {},
   "source": [
    "## Feature extraction"
   ]
  },
  {
   "cell_type": "markdown",
   "id": "cb270295",
   "metadata": {},
   "source": [
    "### 1.Bytes Files"
   ]
  },
  {
   "cell_type": "markdown",
   "id": "a1c36965",
   "metadata": {},
   "source": [
    "#### 1.1 Bytes filesize"
   ]
  },
  {
   "cell_type": "code",
   "execution_count": 440,
   "id": "48694db4",
   "metadata": {},
   "outputs": [],
   "source": [
    "for i in range(1, 11):\n",
    "    for file in os.listdir(f'bytes/bytes{i}'):\n",
    "        shutil.move(f'bytes/bytes{i}/'+file, 'byteFiles')"
   ]
  },
  {
   "cell_type": "code",
   "execution_count": 441,
   "id": "31eaac77",
   "metadata": {},
   "outputs": [
    {
     "name": "stdout",
     "output_type": "stream",
     "text": [
      "                         ID      size  Class\n",
      "0  7y28ZxJs9SKVYom13vbA.txt  2.261719      6\n",
      "1  ipnL25WtfDEumwS9hNkU.txt  6.714844      3\n",
      "2  70f4QazO1NlpXMST2LcE.txt  1.628906      6\n",
      "3  BASrsZoQNCtedvFkT5Xz.txt  1.640625      6\n",
      "4  AeQbnIpdNBfg8aDTRMlc.txt  0.363281      8\n"
     ]
    }
   ],
   "source": [
    "#file sizes of byte files\n",
    "\n",
    "files=os.listdir('byteFiles')\n",
    "filenames=Y['Id'].tolist()\n",
    "class_y=Y['Class'].tolist()\n",
    "class_bytes=[]\n",
    "sizebytes=[]\n",
    "fnames=[]\n",
    "for file in files:\n",
    "    # print(os.stat('byteFiles/0A32eTdBKayjCWhZqDOQ.txt'))\n",
    "    # os.stat_result(st_mode=33206, st_ino=1125899906874507, st_dev=3561571700, st_nlink=1, st_uid=0, st_gid=0, \n",
    "    # st_size=3680109, st_atime=1519638522, st_mtime=1519638522, st_ctime=1519638522)\n",
    "    # read more about os.stat: here https://www.tutorialspoint.com/python/os_stat.htm\n",
    "    statinfo=os.stat('byteFiles/'+file)\n",
    "    # split the file name at '.' and take the first part of it i.e the file name\n",
    "    file=file.split('.')[0]\n",
    "    if any(file == filename for filename in filenames):\n",
    "        i=filenames.index(file)\n",
    "        class_bytes.append(class_y[i])\n",
    "        # converting into Mb's\n",
    "        sizebytes.append(statinfo.st_size/(1024.0*1024.0))\n",
    "        fnames.append(file+ '.txt')\n",
    "data_size_byte=pd.DataFrame({'ID':fnames,'size':sizebytes,'Class':class_bytes})\n",
    "print (data_size_byte.head())"
   ]
  },
  {
   "cell_type": "code",
   "execution_count": 442,
   "id": "33e9ed51",
   "metadata": {},
   "outputs": [
    {
     "data": {
      "image/png": "[encoded data removed]",
      "text/plain": [
       "<Figure size 432x288 with 1 Axes>"
      ]
     },
     "metadata": {
      "needs_background": "light"
     },
     "output_type": "display_data"
    }
   ],
   "source": [
    "#boxplot of byte files\n",
    "ax = sns.boxplot(x=\"Class\", y=\"size\", data=data_size_byte)\n",
    "plt.title(\"boxplot of .bytes file sizes\")\n",
    "plt.show()"
   ]
  },
  {
   "cell_type": "markdown",
   "id": "7751e3de",
   "metadata": {},
   "source": [
    "#### 1.2 bytes unigram features"
   ]
  },
  {
   "cell_type": "code",
   "execution_count": null,
   "id": "785872cb",
   "metadata": {},
   "outputs": [],
   "source": [
    "#removal of addres from byte files\n",
    "# contents of .byte files\n",
    "# ----------------\n",
    "#00401000 56 8D 44 24 08 50 8B F1 E8 1C 1B 00 00 C7 06 08 \n",
    "#-------------------\n",
    "#we remove the starting address 00401000\n",
    "\n",
    "files = os.listdir('byteFiles')\n",
    "filenames=[]\n",
    "array=[]\n",
    "for file in files:\n",
    "    if(file.endswith(\"bytes\")):\n",
    "        file=file.split('.')[0]\n",
    "        text_file = open('byteFiles/'+file+\".txt\", 'w+')\n",
    "        with open('byteFiles/'+file+\".bytes\",\"r\") as fp:\n",
    "            lines=\"\"\n",
    "            for line in fp:\n",
    "                a=line.rstrip().split(\" \")[1:]\n",
    "                b=' '.join(a)\n",
    "                b=b+\"\\n\"\n",
    "                text_file.write(b)\n",
    "            fp.close()\n",
    "            os.remove('byteFiles/'+file+\".bytes\")\n",
    "        text_file.close()\n",
    "\n",
    "files = os.listdir('byteFiles')\n",
    "filenames2=[]\n",
    "feature_matrix = np.zeros((len(files),257),dtype=int)\n",
    "k=0\n",
    "\n",
    "\n",
    "#program to convert into bag of words of bytefiles\n",
    "#this is custom-built bag of words this is unigram bag of words\n",
    "byte_feature_file=open('result.csv','w+')\n",
    "byte_feature_file.write(\"ID,0,1,2,3,4,5,6,7,8,9,0a,0b,0c,0d,0e,0f,10,11,12,13,14,15,16,17,18,19,1a,1b,1c,1d,1e,1f,20,21,22,23,24,25,26,27,28,29,2a,2b,2c,2d,2e,2f,30,31,32,33,34,35,36,37,38,39,3a,3b,3c,3d,3e,3f,40,41,42,43,44,45,46,47,48,49,4a,4b,4c,4d,4e,4f,50,51,52,53,54,55,56,57,58,59,5a,5b,5c,5d,5e,5f,60,61,62,63,64,65,66,67,68,69,6a,6b,6c,6d,6e,6f,70,71,72,73,74,75,76,77,78,79,7a,7b,7c,7d,7e,7f,80,81,82,83,84,85,86,87,88,89,8a,8b,8c,8d,8e,8f,90,91,92,93,94,95,96,97,98,99,9a,9b,9c,9d,9e,9f,a0,a1,a2,a3,a4,a5,a6,a7,a8,a9,aa,ab,ac,ad,ae,af,b0,b1,b2,b3,b4,b5,b6,b7,b8,b9,ba,bb,bc,bd,be,bf,c0,c1,c2,c3,c4,c5,c6,c7,c8,c9,ca,cb,cc,cd,ce,cf,d0,d1,d2,d3,d4,d5,d6,d7,d8,d9,da,db,dc,dd,de,df,e0,e1,e2,e3,e4,e5,e6,e7,e8,e9,ea,eb,ec,ed,ee,ef,f0,f1,f2,f3,f4,f5,f6,f7,f8,f9,fa,fb,fc,fd,fe,ff,??\")\n",
    "byte_feature_file.write(\"\\n\")\n",
    "for file in files:\n",
    "    filenames2.append(file)\n",
    "    byte_feature_file.write(file+\",\")\n",
    "    if(file.endswith(\"txt\")):\n",
    "        with open('byteFiles/'+file,\"r\") as byte_flie:\n",
    "            for lines in byte_flie:\n",
    "                line=lines.rstrip().split(\" \")\n",
    "                for hex_code in line:\n",
    "                    if hex_code=='??':\n",
    "                        feature_matrix[k][256]+=1\n",
    "                    else:\n",
    "                        feature_matrix[k][int(hex_code,16)]+=1\n",
    "        byte_flie.close()\n",
    "    for i, row in enumerate(feature_matrix[k]):\n",
    "        if i!=len(feature_matrix[k])-1:\n",
    "            byte_feature_file.write(str(row)+\",\")\n",
    "        else:\n",
    "            byte_feature_file.write(str(row))\n",
    "    byte_feature_file.write(\"\\n\")\n",
    "    \n",
    "    k += 1\n",
    "\n",
    "byte_feature_file.close()"
   ]
  },
  {
   "cell_type": "markdown",
   "id": "3156d534",
   "metadata": {},
   "source": [
    "#### 1.3 Bytes bigram features"
   ]
  },
  {
   "cell_type": "code",
   "execution_count": 443,
   "id": "95a6048f",
   "metadata": {},
   "outputs": [
    {
     "data": {
      "text/plain": [
       "'Done'"
      ]
     },
     "execution_count": 443,
     "metadata": {},
     "output_type": "execute_result"
    }
   ],
   "source": [
    "# split the bytesfiles into 10 folder for multiprocessing\n",
    "\n",
    "split = 10\n",
    "\n",
    "def split_bytes(split):\n",
    "    # making empty folders\n",
    "    os.mkdir('bytes')\n",
    "    for i in range(1, split+1):\n",
    "        os.mkdir(f'bytes/bytes{i}')\n",
    "        \n",
    "    for idx, file in enumerate(os.listdir('byteFiles')):\n",
    "        for i in range(split):\n",
    "            if idx%split==i:\n",
    "                shutil.move('byteFiles/'+file, f'bytes/bytes{i+1}')\n",
    "    return \"Done\"\n",
    "\n",
    "split_bytes(10)"
   ]
  },
  {
   "cell_type": "code",
   "execution_count": 73,
   "id": "ca851216",
   "metadata": {},
   "outputs": [
    {
     "name": "stdout",
     "output_type": "stream",
     "text": [
      "fun1 started..\n",
      "fun2 started..\n",
      "fun3 started..\n",
      "fun4 started..\n",
      "fun5 started..\n",
      "fun6 started..\n",
      "fun7 started..\n",
      "fun8 started..\n",
      "fun9 started..\n",
      "fun10 started..\n",
      "Done\n"
     ]
    }
   ],
   "source": [
    "# extract the features of all the files \n",
    "\n",
    "# Since multiprocessing was not working with jupyter notebook. So I have enterd the code into a python file and run in by jupyter notebook\n",
    "\n",
    "\n",
    "################################################code inside ectract_bigram.py#####################################################\n",
    "\n",
    "# import tqdm\n",
    "# import os\n",
    "# import itertools\n",
    "# import collections\n",
    "# import multiprocessing\n",
    "# from multiprocess import Process\n",
    "\n",
    "# files = os.listdir('byteFiles')\n",
    "\n",
    "\n",
    "# # unigram feature list\n",
    "# hexcode_list = ['00', '11', '22', '33', '44', '55', '66', '77', '88', '99', '0A', '0B', '0C', '0D', '0E', '0F', '10', '11', '12', '13', '14', '15', '16', '17', '18', '19', '1A', '1B', '1C', '1D', '1E', '1F', '20', '21', '22', '23', '24', '25', '26', '27', '28', '29', '2A', '2B', '2C', '2D', '2E', '2F', '30', '31', '32', '33', '34', '35', '36', '37', '38', '39', '3A', '3B', '3C', '3D', '3E', '3F', '40', '41', '42', '43', '44', '45', '46', '47', '48', '49', '4A', '4B', '4C', '4D', '4E', '4F', '50', '51', '52', '53', '54', '55', '56', '57', '58', '59', '5A', '5B', '5C', '5D', '5E', '5F', '60', '61', '62', '63', '64', '65', '66', '67', '68', '69', '6A', '6B', '6C', '6D', '6E', '6F', '70', '71', '72', '73', '74', '75', '76', '77', '78', '79', '7A', '7B', '7C', '7D', '7E', '7F', '80', '81', '82', '83', '84', '85', '86', '87', '88', '89', '8A', '8B', '8C', '8D', '8E', '8F', '90', '91', '92', '93', '94', '95', '96', '97', '98', '99', '9A', '9B', '9C', '9D', '9E', '9F', 'A0', 'A1', 'A2', 'A3', 'A4', 'A5', 'A6', 'A7', 'A8', 'A9', 'AA', 'AB', 'AC', 'AD', 'AE', 'AF', 'B0', 'B1', 'B2', 'B3', 'B4', 'B5', 'B6', 'B7', 'B8', 'B9', 'BA', 'BB', 'BC', 'BD', 'BE', 'BF', 'C0', 'C1', 'C2', 'C3', 'C4', 'C5', 'C6', 'C7', 'C8', 'C9', 'CA', 'CB', 'CC', 'CD', 'CE', 'CF', 'D0', 'D1', 'D2', 'D3', 'D4', 'D5', 'D6', 'D7', 'D8', 'D9', 'DA', 'DB', 'DC', 'DD', 'dE', 'DF', 'E0', 'E1', 'E2', 'E3', 'E4', 'E5', 'E6', 'E7', 'E8', 'E9', 'EA', 'EB', 'EC', 'ED', 'EE', 'Ef', 'F0', 'F1', 'F2', 'F3', 'F4', 'F5', 'F6', 'F7', 'F8', 'F9', 'FA', 'FB', 'FC', 'FD', 'FE', 'FF', '??']\n",
    "\n",
    "# # combination of unigram feature taken two at a time\n",
    "# bigrams_features = list(itertools.combinations(hexcode_list, 2))\n",
    "\n",
    "\n",
    "# # function to process folder1\n",
    "\n",
    "# def fun1():\n",
    "#     print('fun1 started...')\n",
    "\n",
    "#     byte_feature_file=open('result_bigram1.csv','w+')\n",
    "#     byte_feature_file.write('filename,')\n",
    " \n",
    "#     # write bigram features names\n",
    "#     byte_feature_file.write(','.join(['_'.join(list(name)) for name in bigrams_features]))\n",
    "        \n",
    "#     # iterate for each file of .bytes file\n",
    "#     for file in os.listdir('bytes/bytes1'):\n",
    "#         byte_feature_file.write(\"\\n\")\n",
    "#         byte_feature_file.write(file+\",\")\n",
    "#         if(file.endswith(\"txt\")):\n",
    "#             # open file\n",
    "#             with open('bytes/bytes1/'+file,\"r\") as byte_flie:\n",
    "#                 # read the file\n",
    "#                 content = byte_flie.readlines()\n",
    "#                 # replace \\n and space from content\n",
    "#                 content = [line.replace('\\n', '').rstrip().split(\" \") for line in content]\n",
    "#                 content = [' '.join(line) for line in content]\n",
    "#                 # finding all the bigrams for content\n",
    "#                 bigram_content = [b for l in content for b in zip(l.split(\" \")[:-1], l.split(\" \")[1:])]\n",
    "#                 # counting each bigram in content\n",
    "#                 counter_dict = collections.Counter(bigram_content)\n",
    "#                 bigram_feature_val = []\n",
    "#                 for idx in range(len(bigrams_features)):\n",
    "#                     try:\n",
    "#                         bigram_feature_val.append(str(counter_dict[bigrams_features[idx]]))\n",
    "#                     except:\n",
    "#                         bigram_feature_val.append(str(0))\n",
    "#                 if len(bigram_feature_val)==len(bigrams_features):\n",
    "#                     byte_feature_file.write(','.join(bigram_feature_val))\n",
    "#                 else:\n",
    "#                     print(\"Got the list of length\",len(bigram_feature_val), \"and expected\", len(bigrams_features))\n",
    "#                     break\n",
    "                    \n",
    "# # function to process folder2\n",
    "\n",
    "# def fun2():\n",
    "#     print('fun2 started...')\n",
    "    \n",
    "#     byte_feature_file=open('result_bigram2.csv','w+')\n",
    "#     byte_feature_file.write('filename,')\n",
    "\n",
    "#     # write bigram features names\n",
    "#     byte_feature_file.write(','.join(['_'.join(list(name)) for name in bigrams_features]))\n",
    "    \n",
    "#     # iterate for each file of .bytes file\n",
    "#     for file in os.listdir('bytes/bytes2'):\n",
    "#         byte_feature_file.write(\"\\n\")\n",
    "#         byte_feature_file.write(file+\",\")\n",
    "#         if(file.endswith(\"txt\")):\n",
    "#             # open file\n",
    "#             with open('bytes/bytes2/'+file,\"r\") as byte_flie:\n",
    "#                 # read the file\n",
    "#                 content = byte_flie.readlines()\n",
    "#                 # replace \\n and space from content\n",
    "#                 content = [line.replace('\\n', '').rstrip().split(\" \") for line in content]\n",
    "#                 content = [' '.join(line) for line in content]\n",
    "#                 # finding all the bigrams for content\n",
    "#                 bigram_content = [b for l in content for b in zip(l.split(\" \")[:-1], l.split(\" \")[1:])]\n",
    "#                 # counting each bigram in content\n",
    "#                 counter_dict = collections.Counter(bigram_content)\n",
    "#                 bigram_feature_val = []\n",
    "#                 for idx in range(len(bigrams_features)):\n",
    "#                     try:\n",
    "#                         bigram_feature_val.append(str(counter_dict[bigrams_features[idx]]))\n",
    "#                     except:\n",
    "#                         bigram_feature_val.append(str(0))\n",
    "#                 if len(bigram_feature_val)==len(bigrams_features):                                                                                                           byte_feature_file.write(','.join(bigram_feature_val))\n",
    "# #                     byte_feature_file.write(\"\\n\")\n",
    "#                 else:\n",
    "#                     print(\"Got the list of length\",len(bigram_feature_val), \"and expected\", len(bigrams_features))\n",
    "#                     break\n",
    "                \n",
    "# # function to process folder3\n",
    "                \n",
    "# def fun3():\n",
    "#     print('fun3 started...')\n",
    "#     byte_feature_file=open('result_bigram3.csv','w+')\n",
    "#     byte_feature_file.write('filename,')\n",
    "\n",
    "#     # write bigram features names\n",
    "#     byte_feature_file.write(','.join(['_'.join(list(name)) for name in bigrams_features]))\n",
    "    \n",
    "    \n",
    "#     # iterate for each file of .bytes file\n",
    "#     for file in os.listdir('bytes/bytes3'):\n",
    "#         byte_feature_file.write(\"\\n\")\n",
    "#         byte_feature_file.write(file+\",\")\n",
    "#         if(file.endswith(\"txt\")):\n",
    "#             # open file\n",
    "#             with open('bytes/bytes3/'+file,\"r\") as byte_flie:\n",
    "#                 # read the file\n",
    "#                 content = byte_flie.readlines()\n",
    "#                 # replace \\n and space from content\n",
    "#                 content = [line.replace('\\n', '').rstrip().split(\" \") for line in content]\n",
    "#                 content = [' '.join(line) for line in content]\n",
    "#                 # finding all the bigrams for content\n",
    "#                 bigram_content = [b for l in content for b in zip(l.split(\" \")[:-1], l.split(\" \")[1:])]\n",
    "#                 # counting each bigram in content\n",
    "#                 counter_dict = collections.Counter(bigram_content)\n",
    "#                 bigram_feature_val = []\n",
    "#                 for idx in range(len(bigrams_features)):\n",
    "#                     try:\n",
    "#                         bigram_feature_val.append(str(counter_dict[bigrams_features[idx]]))\n",
    "#                     except:\n",
    "#                         bigram_feature_val.append(str(0))\n",
    "#                 if len(bigram_feature_val)==len(bigrams_features):   \n",
    "#                     byte_feature_file.write(','.join(bigram_feature_val))\n",
    "#                 else:\n",
    "#                     print(\"Got the list of length\",len(bigram_feature_val), \"and expected\", len(bigrams_features))\n",
    "#                     break\n",
    "                    \n",
    "# # function to process folder4\n",
    "\n",
    "# def fun4():\n",
    "#     print('fun4 started...')\n",
    "\n",
    "#     byte_feature_file=open('result_bigram4.csv','w+')\n",
    "#     byte_feature_file.write('filename,')\n",
    "\n",
    "    \n",
    "#     # write bigram features names\n",
    "#     byte_feature_file.write(','.join(['_'.join(list(name)) for name in bigrams_features]))\n",
    "#     byte_feature_file.write(\"\\n\")\n",
    "    \n",
    "#     # iterate for each file of .bytes file\n",
    "#     for file in os.listdir('bytes/bytes4'):\n",
    "#         byte_feature_file.write(\"\\n\")\n",
    "#         byte_feature_file.write(file+\",\")\n",
    "#         if(file.endswith(\"txt\")):\n",
    "#             # open file\n",
    "#             with open('bytes/bytes4/'+file,\"r\") as byte_flie:\n",
    "#                 # read the file\n",
    "#                 content = byte_flie.readlines()\n",
    "#                 # replace \\n and space from content\n",
    "#                 content = [line.replace('\\n', '').rstrip().split(\" \") for line in content]\n",
    "#                 content = [' '.join(line) for line in content]\n",
    "#                 # finding all the bigrams for content\n",
    "#                 bigram_content = [b for l in content for b in zip(l.split(\" \")[:-1], l.split(\" \")[1:])]\n",
    "#                 # counting each bigram in content\n",
    "#                 counter_dict = collections.Counter(bigram_content)\n",
    "#                 bigram_feature_val = []\n",
    "#                 for idx in range(len(bigrams_features)):\n",
    "#                     try:\n",
    "#                         bigram_feature_val.append(str(counter_dict[bigrams_features[idx]]))\n",
    "#                     except:\n",
    "#                         bigram_feature_val.append(str(0))\n",
    "#                 if len(bigram_feature_val)==len(bigrams_features): \n",
    "#                     byte_feature_file.write(','.join(bigram_feature_val))\n",
    "#                 else:\n",
    "#                     print(\"Got the list of length\",len(bigram_feature_val), \"and expected\", len(bigrams_features))\n",
    "#                     break\n",
    "                    \n",
    "# # function to process folder5\n",
    "\n",
    "# def fun5():\n",
    "#     print('fun5 started...')\n",
    "#     byte_feature_file=open('result_bigram5.csv','w+')\n",
    "#     byte_feature_file.write('filename,')\n",
    "    \n",
    "#     # write bigram features names\n",
    "#     byte_feature_file.write(','.join(['_'.join(list(name)) for name in bigrams_features]))\n",
    "    \n",
    "#     # iterate for each file of .bytes file\n",
    "#     for file in os.listdir('bytes/bytes5'):\n",
    "#         byte_feature_file.write(\"\\n\")\n",
    "#         byte_feature_file.write(file+\",\")\n",
    "#         if(file.endswith(\"txt\")):\n",
    "#             # open file\n",
    "#             with open('bytes/bytes5/'+file,\"r\") as byte_flie:\n",
    "#                 # read the file\n",
    "#                 content = byte_flie.readlines()\n",
    "#                 # replace \\n and space from content\n",
    "#                 content = [line.replace('\\n', '').rstrip().split(\" \") for line in content]\n",
    "#                 content = [' '.join(line) for line in content]\n",
    "#                 # finding all the bigrams for content\n",
    "#                 bigram_content = [b for l in content for b in zip(l.split(\" \")[:-1], l.split(\" \")[1:])]\n",
    "#                 # counting each bigram in content\n",
    "#                 counter_dict = collections.Counter(bigram_content)\n",
    "#                 bigram_feature_val = []\n",
    "#                 for idx in range(len(bigrams_features)):\n",
    "#                     try:\n",
    "#                         bigram_feature_val.append(str(counter_dict[bigrams_features[idx]]))\n",
    "#                     except:\n",
    "#                         bigram_feature_val.append(str(0))\n",
    "#                 if len(bigram_feature_val)==len(bigrams_features):\n",
    "#                     byte_feature_file.write(','.join(bigram_feature_val))\n",
    "#                 else:\n",
    "#                     print(\"Got the list of length\",len(bigram_feature_val), \"and expected\", len(bigrams_features))\n",
    "#                     break\n",
    "\n",
    "\n",
    "# # function to process folder6\n",
    "\n",
    "# def fun6():\n",
    "#     print('fun6 started...')\n",
    "\n",
    "\n",
    "#     byte_feature_file=open('result_bigram6.csv','w+')\n",
    "#     byte_feature_file.write('filename,')\n",
    " \n",
    "#     # write bigram features names\n",
    "#     byte_feature_file.write(','.join(['_'.join(list(name)) for name in bigrams_features]))\n",
    "        \n",
    "#     # iterate for each file of .bytes file\n",
    "#     for file in os.listdir('bytes/bytes6'):\n",
    "#         byte_feature_file.write(\"\\n\")\n",
    "#         byte_feature_file.write(file+\",\")\n",
    "#         if(file.endswith(\"txt\")):\n",
    "#             # open file\n",
    "#             with open('bytes/bytes6/'+file,\"r\") as byte_flie:\n",
    "#                 # read the file\n",
    "#                 content = byte_flie.readlines()\n",
    "#                 # replace \\n and space from content\n",
    "#                 content = [line.replace('\\n', '').rstrip().split(\" \") for line in content]\n",
    "#                 content = [' '.join(line) for line in content]\n",
    "#                 # finding all the bigrams for content\n",
    "#                 bigram_content = [b for l in content for b in zip(l.split(\" \")[:-1], l.split(\" \")[1:])]\n",
    "#                 # counting each bigram in content\n",
    "#                 counter_dict = collections.Counter(bigram_content)\n",
    "#                 bigram_feature_val = []\n",
    "#                 for idx in range(len(bigrams_features)):\n",
    "#                     try:\n",
    "#                         bigram_feature_val.append(str(counter_dict[bigrams_features[idx]]))\n",
    "#                     except:\n",
    "#                         bigram_feature_val.append(str(0))\n",
    "#                 if len(bigram_feature_val)==len(bigrams_features):\n",
    "#                     byte_feature_file.write(','.join(bigram_feature_val))\n",
    "#                 else:\n",
    "#                     print(\"Got the list of length\",len(bigram_feature_val), \"and expected\", len(bigrams_features))\n",
    "#                     break\n",
    "                    \n",
    "# # function to process folder7\n",
    "\n",
    "# def fun7():\n",
    "#     print('fun7 started...')\n",
    "\n",
    "    \n",
    "#     byte_feature_file=open('result_bigram7.csv','w+')\n",
    "#     byte_feature_file.write('filename,')\n",
    "\n",
    "#     # write bigram features names\n",
    "#     byte_feature_file.write(','.join(['_'.join(list(name)) for name in bigrams_features]))\n",
    "    \n",
    "#     # iterate for each file of .bytes file\n",
    "#     for file in os.listdir('bytes/bytes7'):\n",
    "#         byte_feature_file.write(\"\\n\")\n",
    "#         byte_feature_file.write(file+\",\")\n",
    "#         if(file.endswith(\"txt\")):\n",
    "#             # open file\n",
    "#             with open('bytes/bytes7/'+file,\"r\") as byte_flie:\n",
    "#                 # read the file\n",
    "#                 content = byte_flie.readlines()\n",
    "#                 # replace \\n and space from content\n",
    "#                 content = [line.replace('\\n', '').rstrip().split(\" \") for line in content]\n",
    "#                 content = [' '.join(line) for line in content]\n",
    "#                 # finding all the bigrams for content\n",
    "#                 bigram_content = [b for l in content for b in zip(l.split(\" \")[:-1], l.split(\" \")[1:])]\n",
    "#                 # counting each bigram in content\n",
    "#                 counter_dict = collections.Counter(bigram_content)\n",
    "#                 bigram_feature_val = []\n",
    "#                 for idx in range(len(bigrams_features)):\n",
    "#                     try:\n",
    "#                         bigram_feature_val.append(str(counter_dict[bigrams_features[idx]]))\n",
    "#                     except:\n",
    "#                         bigram_feature_val.append(str(0))\n",
    "#                 if len(bigram_feature_val)==len(bigrams_features):                                                                                                           byte_feature_file.write(','.join(bigram_feature_val))\n",
    "# #                     byte_feature_file.write(\"\\n\")\n",
    "#                 else:\n",
    "#                     print(\"Got the list of length\",len(bigram_feature_val), \"and expected\", len(bigrams_features))\n",
    "#                     break\n",
    "                \n",
    "# # function to process folder8\n",
    "                \n",
    "# def fun8():\n",
    "#     print('fun8 started...')\n",
    "\n",
    "#     byte_feature_file=open('result_bigram8.csv','w+')\n",
    "#     byte_feature_file.write('filename,')\n",
    "\n",
    "#     # write bigram features names\n",
    "#     byte_feature_file.write(','.join(['_'.join(list(name)) for name in bigrams_features]))\n",
    "    \n",
    "    \n",
    "#     # iterate for each file of .bytes file\n",
    "#     for file in os.listdir('bytes/bytes8'):\n",
    "#         byte_feature_file.write(\"\\n\")\n",
    "#         byte_feature_file.write(file+\",\")\n",
    "#         if(file.endswith(\"txt\")):\n",
    "#             # open file\n",
    "#             with open('bytes/bytes8/'+file,\"r\") as byte_flie:\n",
    "#                 # read the file\n",
    "#                 content = byte_flie.readlines()\n",
    "#                 # replace \\n and space from content\n",
    "#                 content = [line.replace('\\n', '').rstrip().split(\" \") for line in content]\n",
    "#                 content = [' '.join(line) for line in content]\n",
    "#                 # finding all the bigrams for content\n",
    "#                 bigram_content = [b for l in content for b in zip(l.split(\" \")[:-1], l.split(\" \")[1:])]\n",
    "#                 # counting each bigram in content\n",
    "#                 counter_dict = collections.Counter(bigram_content)\n",
    "#                 bigram_feature_val = []\n",
    "#                 for idx in range(len(bigrams_features)):\n",
    "#                     try:\n",
    "#                         bigram_feature_val.append(str(counter_dict[bigrams_features[idx]]))\n",
    "#                     except:\n",
    "#                         bigram_feature_val.append(str(0))\n",
    "#                 if len(bigram_feature_val)==len(bigrams_features):   \n",
    "#                     byte_feature_file.write(','.join(bigram_feature_val))\n",
    "#                 else:\n",
    "#                     print(\"Got the list of length\",len(bigram_feature_val), \"and expected\", len(bigrams_features))\n",
    "#                     break\n",
    "                    \n",
    "# # function to process folder9\n",
    "\n",
    "# def fun9():\n",
    "#     print('fun9 started...')\n",
    "\n",
    "#     byte_feature_file=open('result_bigram9.csv','w+')\n",
    "#     byte_feature_file.write('filename,')\n",
    "\n",
    "    \n",
    "#     # write bigram features names\n",
    "#     byte_feature_file.write(','.join(['_'.join(list(name)) for name in bigrams_features]))\n",
    "#     byte_feature_file.write(\"\\n\")\n",
    "    \n",
    "#     # iterate for each file of .bytes file\n",
    "#     for file in os.listdir('bytes/bytes9'):\n",
    "#         byte_feature_file.write(\"\\n\")\n",
    "#         byte_feature_file.write(file+\",\")\n",
    "#         if(file.endswith(\"txt\")):\n",
    "#             # open file\n",
    "#             with open('bytes/bytes9/'+file,\"r\") as byte_flie:\n",
    "#                 # read the file\n",
    "#                 content = byte_flie.readlines()\n",
    "#                 # replace \\n and space from content\n",
    "#                 content = [line.replace('\\n', '').rstrip().split(\" \") for line in content]\n",
    "#                 content = [' '.join(line) for line in content]\n",
    "#                 # finding all the bigrams for content\n",
    "#                 bigram_content = [b for l in content for b in zip(l.split(\" \")[:-1], l.split(\" \")[1:])]\n",
    "#                 # counting each bigram in content\n",
    "#                 counter_dict = collections.Counter(bigram_content)\n",
    "#                 bigram_feature_val = []\n",
    "#                 for idx in range(len(bigrams_features)):\n",
    "#                     try:\n",
    "#                         bigram_feature_val.append(str(counter_dict[bigrams_features[idx]]))\n",
    "#                     except:\n",
    "#                         bigram_feature_val.append(str(0))\n",
    "#                 if len(bigram_feature_val)==len(bigrams_features): \n",
    "#                     byte_feature_file.write(','.join(bigram_feature_val))\n",
    "#                 else:\n",
    "#                     print(\"Got the list of length\",len(bigram_feature_val), \"and expected\", len(bigrams_features))\n",
    "#                     break\n",
    "                    \n",
    "# # function to process folder10\n",
    "\n",
    "# def fun10():\n",
    "#     print('fun10 started...')\n",
    "\n",
    "#     byte_feature_file=open('result_bigram10.csv','w+')\n",
    "#     byte_feature_file.write('filename,')\n",
    "    \n",
    "#     # write bigram features names\n",
    "#     byte_feature_file.write(','.join(['_'.join(list(name)) for name in bigrams_features]))\n",
    "    \n",
    "#     # iterate for each file of .bytes file\n",
    "#     for file in os.listdir('bytes/bytes10'):\n",
    "#         byte_feature_file.write(\"\\n\")\n",
    "#         byte_feature_file.write(file+\",\")\n",
    "#         if(file.endswith(\"txt\")):\n",
    "#             # open file\n",
    "#             with open('bytes/bytes10/'+file,\"r\") as byte_flie:\n",
    "#                 # read the file\n",
    "#                 content = byte_flie.readlines()\n",
    "#                 # replace \\n and space from content\n",
    "#                 content = [line.replace('\\n', '').rstrip().split(\" \") for line in content]\n",
    "#                 content = [' '.join(line) for line in content]\n",
    "#                 # finding all the bigrams for content\n",
    "#                 bigram_content = [b for l in content for b in zip(l.split(\" \")[:-1], l.split(\" \")[1:])]\n",
    "#                 # counting each bigram in content\n",
    "#                 counter_dict = collections.Counter(bigram_content)\n",
    "#                 bigram_feature_val = []\n",
    "#                 for idx in range(len(bigrams_features)):\n",
    "#                     try:\n",
    "#                         bigram_feature_val.append(str(counter_dict[bigrams_features[idx]]))\n",
    "#                     except:\n",
    "#                         bigram_feature_val.append(str(0))\n",
    "#                 if len(bigram_feature_val)==len(bigrams_features):\n",
    "#                     byte_feature_file.write(','.join(bigram_feature_val))\n",
    "#                 else:\n",
    "#                     print(\"Got the list of length\",len(bigram_feature_val), \"and expected\", len(bigrams_features))\n",
    "#                     break\n",
    "                    \n",
    "                    \n",
    "                    \n",
    "# def main():\n",
    "#     #the below code is used for multiprogramming\n",
    "#     #the number of process depends upon the number of cores present System\n",
    "#     #process is used to call multiprogramming\n",
    "#     manager=multiprocessing.Manager() \n",
    "#     p1=Process(target=fun1)\n",
    "#     p2=Process(target=fun2)\n",
    "#     p3=Process(target=fun3)\n",
    "#     p4=Process(target=fun4)\n",
    "#     p5=Process(target=fun5)\n",
    "#     p6=Process(target=fun6)\n",
    "#     p7=Process(target=fun7)\n",
    "#     p8=Process(target=fun8)\n",
    "#     p9=Process(target=fun9)\n",
    "#     p10=Process(target=fun10)\n",
    "\n",
    "#     #p1.start() is used to start the thread execution\n",
    "#     p1.start()\n",
    "#     p2.start()\n",
    "#     p3.start()\n",
    "#     p4.start()\n",
    "#     p5.start()\n",
    "#     p6.start()\n",
    "#     p7.start()\n",
    "#     p8.start()\n",
    "#     p9.start()\n",
    "#     p10.start()\n",
    "\n",
    "#     #After completion all the threads are joined\n",
    "#     p1.join()\n",
    "#     p2.join()\n",
    "#     p3.join()\n",
    "#     p4.join()\n",
    "#     p5.join()\n",
    "#     p6.join()\n",
    "#     p7.join()\n",
    "#     p8.join()\n",
    "#     p9.join()\n",
    "#     p10.join()\n",
    "\n",
    "\n",
    "# if __name__==\"__main__\":\n",
    "#     main()\n",
    "\n",
    "########################################################Completed###############################################                   \n",
    "\n",
    "! python extract_bigram.py"
   ]
  },
  {
   "cell_type": "markdown",
   "id": "008afefa",
   "metadata": {},
   "source": [
    "### 2. ASM  files"
   ]
  },
  {
   "cell_type": "markdown",
   "id": "f7ed1ec8",
   "metadata": {},
   "source": [
    "#### 2.1 asm files size"
   ]
  },
  {
   "cell_type": "code",
   "execution_count": 444,
   "id": "a01315ff",
   "metadata": {},
   "outputs": [
    {
     "name": "stdout",
     "output_type": "stream",
     "text": [
      "                         ID       size  Class\n",
      "0  c4jU5YD9AmPipweFb7lO.txt  20.559470      2\n",
      "1  cxHojJW4LKR1XOMPf2Zb.txt   0.191948      3\n",
      "2  17zD8kITZONlBWYdfvr6.txt   0.120752      3\n",
      "3  3nxujXtip8hGHb6ZQdA4.txt   5.205242      6\n",
      "4  bCxz7M1oONFSUDvuKV9d.txt   0.122619      3\n"
     ]
    }
   ],
   "source": [
    "#file sizes of byte files\n",
    "\n",
    "files=os.listdir('asmFiles')\n",
    "filenames=Y['Id'].tolist()\n",
    "class_y=Y['Class'].tolist()\n",
    "class_bytes=[]\n",
    "sizebytes=[]\n",
    "fnames=[]\n",
    "for file in files:\n",
    "    # print(os.stat('byteFiles/0A32eTdBKayjCWhZqDOQ.txt'))\n",
    "    # os.stat_result(st_mode=33206, st_ino=1125899906874507, st_dev=3561571700, st_nlink=1, st_uid=0, st_gid=0, \n",
    "    # st_size=3680109, st_atime=1519638522, st_mtime=1519638522, st_ctime=1519638522)\n",
    "    # read more about os.stat: here https://www.tutorialspoint.com/python/os_stat.htm\n",
    "    statinfo=os.stat('asmFiles/'+file)\n",
    "    # split the file name at '.' and take the first part of it i.e the file name\n",
    "    file=file.split('.')[0]\n",
    "    if any(file == filename for filename in filenames):\n",
    "        i=filenames.index(file)\n",
    "        class_bytes.append(class_y[i])\n",
    "        # converting into Mb's\n",
    "        sizebytes.append(statinfo.st_size/(1024.0*1024.0))\n",
    "        fnames.append(file+ '.txt')\n",
    "asm_size_byte=pd.DataFrame({'ID':fnames,'size':sizebytes,'Class':class_bytes})\n",
    "print (asm_size_byte.head())"
   ]
  },
  {
   "cell_type": "code",
   "execution_count": 445,
   "id": "6da18691",
   "metadata": {},
   "outputs": [
    {
     "data": {
      "image/png": "[encoded data removed]",
      "text/plain": [
       "<Figure size 432x288 with 1 Axes>"
      ]
     },
     "metadata": {
      "needs_background": "light"
     },
     "output_type": "display_data"
    }
   ],
   "source": [
    "#boxplot of asm files\n",
    "ax = sns.boxplot(x=\"Class\", y=\"size\", data=asm_size_byte)\n",
    "plt.title(\"boxplot of .asm file sizes\")\n",
    "plt.show()"
   ]
  },
  {
   "cell_type": "markdown",
   "id": "8910c01c",
   "metadata": {},
   "source": [
    "#### 2.2 extracting asm-image features"
   ]
  },
  {
   "cell_type": "code",
   "execution_count": 446,
   "id": "8954b544",
   "metadata": {},
   "outputs": [
    {
     "name": "stdout",
     "output_type": "stream",
     "text": [
      "bytes image plot\n"
     ]
    },
    {
     "data": {
      "image/png": "[encoded data removed]",
      "text/plain": [
       "<Figure size 432x288 with 1 Axes>"
      ]
     },
     "metadata": {
      "needs_background": "light"
     },
     "output_type": "display_data"
    },
    {
     "name": "stdout",
     "output_type": "stream",
     "text": [
      "asm image plot\n"
     ]
    },
    {
     "data": {
      "image/png": "[encoded data removed]",
      "text/plain": [
       "<Figure size 432x288 with 1 Axes>"
      ]
     },
     "metadata": {
      "needs_background": "light"
     },
     "output_type": "display_data"
    }
   ],
   "source": [
    "import array as array\n",
    "\n",
    "# plotting bytes file\n",
    "print('bytes image plot')\n",
    "f = open('bytes/bytes10/0cdnSIvN489sFUwYlrMQ.txt', 'rb')\n",
    "ln = os.path.getsize('bytes/bytes10/0cdnSIvN489sFUwYlrMQ.txt')\n",
    "width = int(ln**0.5)\n",
    "rem = ln%width\n",
    "a = array.array(\"B\")\n",
    "a.fromfile(f, ln-rem)\n",
    "f.close()\n",
    "g = np.reshape(a, (int(len(a)/width), width))\n",
    "g = np.uint8(g)\n",
    "plt.imshow(g, 'gray')\n",
    "plt.show()\n",
    "\n",
    "print('asm image plot')\n",
    "# plotting asm file\n",
    "f = open('asmFiles/01azqd4InC7m9JpocGv5.asm', 'rb')\n",
    "ln = os.path.getsize('asmFiles/01azqd4InC7m9JpocGv5.asm')\n",
    "width = int(ln**0.5)\n",
    "rem = ln%width\n",
    "a = array.array(\"B\")\n",
    "a.fromfile(f, ln-rem)\n",
    "f.close()\n",
    "g = np.reshape(a, (int(len(a)/width), width))\n",
    "g = np.uint8(g)\n",
    "plt.imshow(g, 'gray')\n",
    "plt.show()"
   ]
  },
  {
   "cell_type": "code",
   "execution_count": null,
   "id": "360ec42f",
   "metadata": {},
   "outputs": [],
   "source": [
    "## extracting 800 feature from asm files\n",
    "\n",
    "asm_files = os.listdir('asmFiles')\n",
    "\n",
    "asm_img_features = np.zeros((len(asm_files), 800))\n",
    "filename = []\n",
    "\n",
    "for idx, file in tqdm.tqdm(enumerate(asm_files)):\n",
    "    filename.append(file.split('.')[0])\n",
    "    f = open('asmFiles/'+file, 'rb')\n",
    "    ln = os.path.getsize('asmFiles/'+file)\n",
    "    width = int(ln**0.5)\n",
    "    rem = ln%width\n",
    "    a = array.array(\"B\")\n",
    "    a.fromfile(f, ln-rem)\n",
    "    f.close()\n",
    "    g = np.reshape(a, (1, int(len(a)/width)*width))\n",
    "    g = np.uint8(g)\n",
    "    asm_img_features[idx, :] = g[0, 0:800]"
   ]
  },
  {
   "cell_type": "code",
   "execution_count": null,
   "id": "024fe432",
   "metadata": {},
   "outputs": [],
   "source": [
    "# saving features into csv\n",
    "img_features = pd.DataFrame(asm_img_features)\n",
    "img_features['filename'] = filename\n",
    "img_features.to_csv('asm_img_features.csv', index = False)"
   ]
  },
  {
   "cell_type": "markdown",
   "id": "10d90318",
   "metadata": {},
   "source": [
    "### Loading features files"
   ]
  },
  {
   "cell_type": "markdown",
   "id": "1b0d5fe5",
   "metadata": {},
   "source": [
    "#### 1. Bigram feature selection by svd"
   ]
  },
  {
   "cell_type": "code",
   "execution_count": 394,
   "id": "3dfd135e",
   "metadata": {},
   "outputs": [],
   "source": [
    "# loading bigram files\n",
    "\n",
    "biagram1 = pd.read_csv('result_bigram1.csv')\n",
    "biagram2 = pd.read_csv('result_bigram2.csv')\n",
    "biagram3 = pd.read_csv('result_bigram3.csv')\n",
    "biagram4 = pd.read_csv('result_bigram4.csv')\n",
    "biagram5 = pd.read_csv('result_bigram5.csv')\n",
    "biagram6 = pd.read_csv('result_bigram6.csv')\n",
    "biagram7 = pd.read_csv('result_bigram7.csv')\n",
    "biagram8 = pd.read_csv('result_bigram8.csv')\n",
    "biagram9 = pd.read_csv('result_bigram9.csv')\n",
    "biagram10 = pd.read_csv('result_bigram10.csv')\n",
    "\n",
    "bytes_bigram = pd.concat([biagram1, biagram2, biagram3, biagram4, biagram5, biagram6, biagram7, biagram8, biagram9, biagram10], axis = 0)\n",
    "\n",
    "del biagram1\n",
    "del biagram2\n",
    "del biagram3\n",
    "del biagram4\n",
    "del biagram5\n",
    "del biagram6\n",
    "del biagram7\n",
    "del biagram8\n",
    "del biagram9\n",
    "del biagram10\n",
    "\n",
    "import gc\n",
    "gc.collect()"
   ]
  },
  {
   "cell_type": "code",
   "execution_count": 223,
   "id": "6f784c07",
   "metadata": {},
   "outputs": [],
   "source": [
    "from sklearn.decomposition import TruncatedSVD\n",
    "# feature selection using SVD\n",
    "\n",
    "svd_input = bytes_bigram.drop('filename', axis = 1)\n",
    "# intialize svd\n",
    "svd = TruncatedSVD(n_components=1000, n_iter=7, random_state=42)\n",
    "\n",
    "# fit, transform and save \n",
    "svd.fit(svd_input)\n",
    "bytes_bigram_red = svd.transform(svd_input)\n",
    "df_bigram_red = pd.DataFrame(bytes_bigram_red, columns = [f'bigram{i}' for i in range(1000)])\n",
    "df_bigram_red['ID'] =  bytes_bigram['filename'].values\n",
    "df_bigram_red.to_csv('bigram_svd.csv', index = False)"
   ]
  },
  {
   "cell_type": "code",
   "execution_count": 224,
   "id": "4fd84f77",
   "metadata": {},
   "outputs": [
    {
     "name": "stdout",
     "output_type": "stream",
     "text": [
      "Total variance explained by taking 1000 dimention: 98.0576103233371 %\n"
     ]
    }
   ],
   "source": [
    "print('Total variance explained by taking 1000 dimention:', svd.explained_variance_ratio_.sum()*100, '%')"
   ]
  },
  {
   "cell_type": "code",
   "execution_count": 225,
   "id": "23711847",
   "metadata": {},
   "outputs": [
    {
     "data": {
      "text/plain": [
       "44"
      ]
     },
     "execution_count": 225,
     "metadata": {},
     "output_type": "execute_result"
    }
   ],
   "source": [
    "del svd_input\n",
    "del bytes_bigram\n",
    "del bytes_bigram_red\n",
    "\n",
    "gc.collect()"
   ]
  },
  {
   "cell_type": "code",
   "execution_count": 447,
   "id": "79897e5d",
   "metadata": {},
   "outputs": [],
   "source": [
    "# bytes files\n",
    "bigram_svd = pd.read_csv('bigram_svd.csv')\n",
    "unigram_bytes = pd.read_csv('result.csv')\n",
    "asm_img = pd.read_csv('asm_img_features.csv')\n",
    "asm_img = asm_img.rename(columns = lambda x:'img'+str(x))\n",
    "asm_img['imgfilename'] = asm_img['imgfilename'] + '.txt'\n",
    "asm_bow = pd.read_csv('asmoutputfile.csv')\n",
    "asm_bow['ID'] = asm_bow['ID'] + '.txt'\n",
    "asm_bow = asm_bow.rename(columns = lambda x:re.sub('[^A-Za-z0-9_]+', '', x))"
   ]
  },
  {
   "cell_type": "code",
   "execution_count": 448,
   "id": "5fa93b2c",
   "metadata": {},
   "outputs": [
    {
     "data": {
      "image/png": "[encoded data removed]",
      "text/plain": [
       "<Figure size 432x288 with 2 Axes>"
      ]
     },
     "metadata": {
      "needs_background": "light"
     },
     "output_type": "display_data"
    }
   ],
   "source": [
    "#multivariate analysis on byte files\n",
    "#this is with perplexity 50\n",
    "from sklearn.manifold import TSNE\n",
    "label = data_size_byte['Class']\n",
    "tsne_in = pd.merge(left=bigram_svd, right=data_size_byte, left_on='ID', right_on='ID').drop(['ID', 'size', 'Class'], axis = 1)\n",
    "xtsne=TSNE(perplexity=50)\n",
    "results=xtsne.fit_transform(tsne_in)\n",
    "vis_x = results[:, 0]\n",
    "vis_y = results[:, 1]\n",
    "plt.scatter(vis_x, vis_y, c=label, cmap=plt.cm.get_cmap(\"jet\", 9))\n",
    "plt.colorbar(ticks=range(10))\n",
    "plt.clim(0.5, 9)\n",
    "plt.show()"
   ]
  },
  {
   "cell_type": "code",
   "execution_count": 449,
   "id": "9a8023d2",
   "metadata": {},
   "outputs": [
    {
     "data": {
      "image/png": "[encoded data removed]",
      "text/plain": [
       "<Figure size 432x288 with 2 Axes>"
      ]
     },
     "metadata": {
      "needs_background": "light"
     },
     "output_type": "display_data"
    }
   ],
   "source": [
    "# tsne for img-asm features\n",
    "label = asm_size_byte['Class']\n",
    "tsne_in = pd.merge(left=asm_img, right=asm_size_byte, left_on='imgfilename', right_on='ID').drop(['ID', 'Class', 'imgfilename', 'size'], axis = 1)\n",
    "xtsne=TSNE(perplexity=30)\n",
    "results=xtsne.fit_transform(tsne_in)\n",
    "vis_x = results[:, 0]\n",
    "vis_y = results[:, 1]\n",
    "plt.scatter(vis_x, vis_y, c=label, cmap=plt.cm.get_cmap(\"jet\", 9))\n",
    "plt.colorbar(ticks=range(10))\n",
    "plt.clim(0.5, 9)\n",
    "plt.show()"
   ]
  },
  {
   "cell_type": "markdown",
   "id": "4d52adea",
   "metadata": {},
   "source": [
    "We have till now:\n",
    "* Bytes\n",
    "    * unigram_bytes ===> 257 features + filename\n",
    "    * byets_bigram  ===> 32896 features + filename   =====after svd ===> 1000 feature + ID\n",
    "    * data_size_byte===> 1 size + filename\n",
    "\n",
    "* ASM\n",
    "    * asm_img       ===> 800 features + filename\n",
    "    * asm_bow       ===> 51 features + filename\n",
    "    * asm_size_byte ===> 1 size + filename"
   ]
  },
  {
   "cell_type": "markdown",
   "id": "97a4eb09",
   "metadata": {},
   "source": [
    "## Concatenate all features"
   ]
  },
  {
   "cell_type": "code",
   "execution_count": 450,
   "id": "059b77b1",
   "metadata": {},
   "outputs": [
    {
     "name": "stdout",
     "output_type": "stream",
     "text": [
      "Shape of bytes features (10868, 1260)\n",
      "Shape of asm features (10868, 854)\n"
     ]
    }
   ],
   "source": [
    "# for bytes file\n",
    "bytes_features = pd.merge(left=bigram_svd, right=unigram_bytes, left_on='ID', right_on='ID')\n",
    "bytes_features = pd.merge(left=bytes_features, right=data_size_byte, left_on='ID', right_on='ID')\n",
    "print('Shape of bytes features', bytes_features.shape)\n",
    "\n",
    "# for asm file\n",
    "asm_features = pd.merge(left=asm_img, right=asm_bow , left_on='imgfilename', right_on='ID')\n",
    "asm_features = asm_features.drop('imgfilename', axis = 1)\n",
    "asm_features = pd.merge(left=asm_features, right=asm_size_byte , left_on='ID', right_on='ID')\n",
    "print('Shape of asm features', asm_features.shape)"
   ]
  },
  {
   "cell_type": "code",
   "execution_count": 451,
   "id": "d6ab89f9",
   "metadata": {},
   "outputs": [
    {
     "name": "stdout",
     "output_type": "stream",
     "text": [
      "Shape of df : (10868, 2112)\n"
     ]
    }
   ],
   "source": [
    "df = pd.merge(left=bytes_features, right=asm_features , left_on='ID', right_on='ID')\n",
    "df = df.drop('Class_y', axis = 1)\n",
    "print('Shape of df :',  df.shape)"
   ]
  },
  {
   "cell_type": "code",
   "execution_count": 452,
   "id": "feff201f",
   "metadata": {},
   "outputs": [],
   "source": [
    "Y = df['Class_x']\n",
    "X = df.drop(['Class_x', 'ID'], axis = 1)"
   ]
  },
  {
   "cell_type": "code",
   "execution_count": 464,
   "id": "63ec1079",
   "metadata": {},
   "outputs": [
    {
     "name": "stdout",
     "output_type": "stream",
     "text": [
      "Training data shape : (8151, 2110)\n",
      "Validation data shape : (2717, 2110)\n"
     ]
    }
   ],
   "source": [
    "from sklearn.model_selection import train_test_split\n",
    "from sklearn.preprocessing import StandardScaler\n",
    "\n",
    "x_train, x_val, y_train, y_val = train_test_split(X, Y, test_size = 0.25, stratify = Y)\n",
    "print('Training data shape :', x_train.shape)\n",
    "print('Validation data shape :', x_val.shape)"
   ]
  },
  {
   "cell_type": "markdown",
   "id": "e3b07ec1",
   "metadata": {},
   "source": [
    "# Feature selection"
   ]
  },
  {
   "cell_type": "code",
   "execution_count": 465,
   "id": "aa734cf8",
   "metadata": {},
   "outputs": [],
   "source": [
    "from sklearn.ensemble import RandomForestClassifier\n",
    "# LightGBM model\n",
    "import tqdm\n",
    "from lightgbm import LGBMClassifier\n",
    "from sklearn.calibration import calibration_curve\n",
    "import xgboost as xgb\n",
    "from sklearn.metrics import log_loss\n",
    "from sklearn.calibration import CalibratedClassifierCV\n",
    "from sklearn.model_selection import cross_val_score\n",
    "\n",
    "def select_features(clf, x_train, x_val, num_feature, plot_graph, plot_top_10):\n",
    "    feature_imp_idx = np.argsort(clf.feature_importances_)[::-1]\n",
    "    if plot_graph:\n",
    "        feature_imp_descending = clf.feature_importances_[feature_imp_idx]\n",
    "        feature_name_descending = [x_train.columns[i] for i in feature_imp_idx]\n",
    "        feature_imp_descending_cum = np.cumsum(feature_imp_descending)\n",
    "        plt.barh(feature_name_descending, feature_imp_descending_cum)\n",
    "        plt.title('Feature importance plot')\n",
    "        plt.ylabel('feature_name')\n",
    "        plt.xlabel('feature_imp_val')\n",
    "        plt.show()\n",
    "    if plot_top_10:\n",
    "        # plotting 10 most important features\n",
    "        top_10 = feature_imp_idx[:10]\n",
    "        top_10_features_val = clf.feature_importances_[top_10]\n",
    "        top_10_features = [x_train.columns[i] for i in top_10]\n",
    "        plt.bar(top_10_features, top_10_features_val)\n",
    "        plt.title('Top 10 most important features')\n",
    "        plt.xlabel('feature_name')\n",
    "        plt.ylabel('feature_imp_val')\n",
    "        plt.show()\n",
    "\n",
    "    x_train_f = x_train.iloc[:, feature_imp_idx[:num_feature]]\n",
    "    x_val_f = x_val.iloc[:, feature_imp_idx[:num_feature]]\n",
    "    return x_train_f, x_val_f"
   ]
  },
  {
   "cell_type": "code",
   "execution_count": 472,
   "id": "29608f3c",
   "metadata": {},
   "outputs": [
    {
     "name": "stderr",
     "output_type": "stream",
     "text": [
      "100%|██████████| 9/9 [00:36<00:00,  4.03s/it]\n"
     ]
    },
    {
     "data": {
      "image/png": "[encoded data removed]",
      "text/plain": [
       "<Figure size 432x288 with 1 Axes>"
      ]
     },
     "metadata": {
      "needs_background": "light"
     },
     "output_type": "display_data"
    }
   ],
   "source": [
    "clf_r = RandomForestClassifier(n_estimators = 100)\n",
    "clf_r.fit(x_train, y_train)\n",
    "\n",
    "num_feature_list = [50, 100, 200, 250, 275, 300, 350, 600, 1000]\n",
    "train_loss_list = []\n",
    "val_loss_list = []\n",
    "for num in tqdm.tqdm(num_feature_list):\n",
    "    x_train_f, x_val_f = select_features(clf_r, x_train, x_val, num, False, False)\n",
    "    clf = RandomForestClassifier(n_estimators = 100)\n",
    "    clf.fit(x_train_f, y_train)\n",
    "    loss_train =  log_loss(y_train, clf.predict_proba(x_train_f))\n",
    "    loss_val = log_loss(y_val, clf.predict_proba(x_val_f))\n",
    "    train_loss_list.append(loss_train)\n",
    "    val_loss_list.append(loss_val)\n",
    "\n",
    "plt.plot(num_feature_list, val_loss_list)\n",
    "plt.title('loss vs num of feature selected')\n",
    "plt.xlabel('num features')\n",
    "plt.ylabel('log loss')\n",
    "plt.legend(['Validation'])\n",
    "plt.show()\n",
    "    "
   ]
  },
  {
   "cell_type": "markdown",
   "id": "c9c39be0",
   "metadata": {},
   "source": [
    "Since the above graph show minimum logloss on validation set on selecting 200 features, Lets take num_feature = 200"
   ]
  },
  {
   "cell_type": "code",
   "execution_count": 473,
   "id": "8878998c",
   "metadata": {},
   "outputs": [
    {
     "data": {
      "image/png": "[encoded data removed]",
      "text/plain": [
       "<Figure size 432x288 with 1 Axes>"
      ]
     },
     "metadata": {
      "needs_background": "light"
     },
     "output_type": "display_data"
    },
    {
     "data": {
      "image/png": "[encoded data removed]",
      "text/plain": [
       "<Figure size 432x288 with 1 Axes>"
      ]
     },
     "metadata": {
      "needs_background": "light"
     },
     "output_type": "display_data"
    },
    {
     "name": "stdout",
     "output_type": "stream",
     "text": [
      "shape of training data (8151, 200)\n",
      "shape of validation data (2717, 200)\n"
     ]
    }
   ],
   "source": [
    "x_train_f, x_val_f = select_features(clf_r, x_train, x_val, 200, True, True)\n",
    "print('shape of training data', x_train_f.shape)\n",
    "print('shape of validation data', x_val_f.shape)"
   ]
  },
  {
   "cell_type": "markdown",
   "id": "4fe880a9",
   "metadata": {},
   "source": [
    "# Modelling"
   ]
  },
  {
   "cell_type": "code",
   "execution_count": 474,
   "id": "7095454a",
   "metadata": {},
   "outputs": [
    {
     "name": "stdout",
     "output_type": "stream",
     "text": [
      "Requirement already satisfied: optuna in /opt/conda/lib/python3.7/site-packages (2.8.0)\n",
      "Requirement already satisfied: cmaes>=0.8.2 in /opt/conda/lib/python3.7/site-packages (from optuna) (0.8.2)\n",
      "Requirement already satisfied: alembic in /opt/conda/lib/python3.7/site-packages (from optuna) (1.6.5)\n",
      "Requirement already satisfied: cliff in /opt/conda/lib/python3.7/site-packages (from optuna) (3.8.0)\n",
      "Requirement already satisfied: scipy!=1.4.0 in /opt/conda/lib/python3.7/site-packages (from optuna) (1.6.3)\n",
      "Requirement already satisfied: numpy in /opt/conda/lib/python3.7/site-packages (from optuna) (1.19.5)\n",
      "Requirement already satisfied: colorlog in /opt/conda/lib/python3.7/site-packages (from optuna) (5.0.1)\n",
      "Requirement already satisfied: tqdm in /opt/conda/lib/python3.7/site-packages (from optuna) (4.61.0)\n",
      "Requirement already satisfied: sqlalchemy>=1.1.0 in /opt/conda/lib/python3.7/site-packages (from optuna) (1.4.15)\n",
      "Requirement already satisfied: packaging>=20.0 in /opt/conda/lib/python3.7/site-packages (from optuna) (20.9)\n",
      "Requirement already satisfied: pyparsing>=2.0.2 in /opt/conda/lib/python3.7/site-packages (from packaging>=20.0->optuna) (2.4.7)\n",
      "Requirement already satisfied: importlib-metadata in /opt/conda/lib/python3.7/site-packages (from sqlalchemy>=1.1.0->optuna) (4.2.0)\n",
      "Requirement already satisfied: greenlet!=0.4.17 in /opt/conda/lib/python3.7/site-packages (from sqlalchemy>=1.1.0->optuna) (1.1.0)\n",
      "Requirement already satisfied: python-dateutil in /opt/conda/lib/python3.7/site-packages (from alembic->optuna) (2.8.1)\n",
      "Requirement already satisfied: Mako in /opt/conda/lib/python3.7/site-packages (from alembic->optuna) (1.1.4)\n",
      "Requirement already satisfied: python-editor>=0.3 in /opt/conda/lib/python3.7/site-packages (from alembic->optuna) (1.0.4)\n",
      "Requirement already satisfied: pbr!=2.1.0,>=2.0.0 in /opt/conda/lib/python3.7/site-packages (from cliff->optuna) (5.6.0)\n",
      "Requirement already satisfied: PyYAML>=3.12 in /opt/conda/lib/python3.7/site-packages (from cliff->optuna) (5.4.1)\n",
      "Requirement already satisfied: stevedore>=2.0.1 in /opt/conda/lib/python3.7/site-packages (from cliff->optuna) (3.3.0)\n",
      "Requirement already satisfied: PrettyTable>=0.7.2 in /opt/conda/lib/python3.7/site-packages (from cliff->optuna) (2.1.0)\n",
      "Requirement already satisfied: cmd2>=1.0.0 in /opt/conda/lib/python3.7/site-packages (from cliff->optuna) (2.1.2)\n",
      "Requirement already satisfied: colorama>=0.3.7 in /opt/conda/lib/python3.7/site-packages (from cmd2>=1.0.0->cliff->optuna) (0.4.4)\n",
      "Requirement already satisfied: attrs>=16.3.0 in /opt/conda/lib/python3.7/site-packages (from cmd2>=1.0.0->cliff->optuna) (21.2.0)\n",
      "Requirement already satisfied: typing-extensions in /opt/conda/lib/python3.7/site-packages (from cmd2>=1.0.0->cliff->optuna) (3.7.4.3)\n",
      "Requirement already satisfied: pyperclip>=1.6 in /opt/conda/lib/python3.7/site-packages (from cmd2>=1.0.0->cliff->optuna) (1.8.2)\n",
      "Requirement already satisfied: wcwidth>=0.1.7 in /opt/conda/lib/python3.7/site-packages (from cmd2>=1.0.0->cliff->optuna) (0.2.5)\n",
      "Requirement already satisfied: zipp>=0.5 in /opt/conda/lib/python3.7/site-packages (from importlib-metadata->sqlalchemy>=1.1.0->optuna) (3.4.1)\n",
      "Requirement already satisfied: MarkupSafe>=0.9.2 in /opt/conda/lib/python3.7/site-packages (from Mako->alembic->optuna) (1.1.1)\n",
      "Requirement already satisfied: six>=1.5 in /opt/conda/lib/python3.7/site-packages (from python-dateutil->alembic->optuna) (1.15.0)\n"
     ]
    }
   ],
   "source": [
    "! pip install optuna\n",
    "import optuna"
   ]
  },
  {
   "cell_type": "markdown",
   "id": "b30c4ad5",
   "metadata": {},
   "source": [
    "## 1. Logistic Regression"
   ]
  },
  {
   "cell_type": "code",
   "execution_count": 430,
   "id": "5bcf6dcb",
   "metadata": {},
   "outputs": [
    {
     "name": "stdout",
     "output_type": "stream",
     "text": [
      "log_loss for c =  1e-05 is 1.211007400143872\n",
      "log_loss for c =  0.0001 is 1.2170735073159578\n",
      "log_loss for c =  0.001 is 1.1881978272467912\n",
      "log_loss for c =  0.01 is 1.1962007387326843\n",
      "log_loss for c =  0.1 is 1.171352477878957\n",
      "log_loss for c =  1 is 1.201423564487005\n",
      "log_loss for c =  10 is 1.2157676602922833\n",
      "log_loss for c =  100 is 1.1924800824637163\n",
      "log_loss for c =  1000 is 1.219310315927912\n"
     ]
    },
    {
     "data": {
      "image/png": "[encoded data removed]",
      "text/plain": [
       "<Figure size 432x288 with 1 Axes>"
      ]
     },
     "metadata": {
      "needs_background": "light"
     },
     "output_type": "display_data"
    }
   ],
   "source": [
    "alpha = [10 ** x for x in range(-5, 4)]\n",
    "cv_log_error_array=[]\n",
    "for i in alpha:\n",
    "    logisticR=LogisticRegression(penalty='l2',C=i,class_weight='balanced')\n",
    "    logisticR.fit(x_train_f,y_train)\n",
    "    sig_clf = CalibratedClassifierCV(logisticR, method=\"sigmoid\")\n",
    "    sig_clf.fit(x_train_f, y_train)\n",
    "    predict_y = sig_clf.predict_proba(x_val_f)\n",
    "    cv_log_error_array.append(log_loss(y_val, predict_y, labels=logisticR.classes_, eps=1e-15))\n",
    "    \n",
    "for i in range(len(cv_log_error_array)):\n",
    "    print ('log_loss for c = ',alpha[i],'is',cv_log_error_array[i])\n",
    "\n",
    "best_alpha = np.argmin(cv_log_error_array)\n",
    "fig, ax = plt.subplots()\n",
    "ax.plot(alpha, cv_log_error_array,c='g')\n",
    "for i, txt in enumerate(np.round(cv_log_error_array,3)):\n",
    "    ax.annotate((alpha[i],np.round(txt,3)), (alpha[i],cv_log_error_array[i]))\n",
    "plt.grid()\n",
    "plt.title(\"Cross Validation Error for each alpha\")\n",
    "plt.xlabel(\"Alpha i's\")\n",
    "plt.ylabel(\"Error measure\")\n",
    "plt.show()\n"
   ]
  },
  {
   "cell_type": "markdown",
   "id": "fc9f76a5",
   "metadata": {},
   "source": [
    "## 2. Random Forest"
   ]
  },
  {
   "cell_type": "code",
   "execution_count": 431,
   "id": "f65f0da3",
   "metadata": {},
   "outputs": [
    {
     "name": "stdout",
     "output_type": "stream",
     "text": [
      "log_loss for c =  10 is 0.02303558781822392\n",
      "log_loss for c =  50 is 0.019646048646380414\n",
      "log_loss for c =  100 is 0.019144437426392213\n",
      "log_loss for c =  500 is 0.019155154782139337\n",
      "log_loss for c =  1000 is 0.019288736495693515\n",
      "log_loss for c =  2000 is 0.019275034893247063\n",
      "log_loss for c =  3000 is 0.01927914248031234\n"
     ]
    },
    {
     "data": {
      "image/png": "[encoded data removed]",
      "text/plain": [
       "<Figure size 432x288 with 1 Axes>"
      ]
     },
     "metadata": {
      "needs_background": "light"
     },
     "output_type": "display_data"
    }
   ],
   "source": [
    "alpha=[10,50,100,500,1000,2000,3000]\n",
    "cv_log_error_array=[]\n",
    "train_log_error_array=[]\n",
    "from sklearn.ensemble import RandomForestClassifier\n",
    "for i in alpha:\n",
    "    r_cfl=RandomForestClassifier(n_estimators=i,random_state=42,n_jobs=-1)\n",
    "    r_cfl.fit(x_train,y_train)\n",
    "    sig_clf = CalibratedClassifierCV(r_cfl, method=\"sigmoid\")\n",
    "    sig_clf.fit(x_train, y_train)\n",
    "    predict_y = sig_clf.predict_proba(x_val)\n",
    "    cv_log_error_array.append(log_loss(y_val, predict_y, labels=r_cfl.classes_, eps=1e-15))\n",
    "\n",
    "for i in range(len(cv_log_error_array)):\n",
    "    print ('log_loss for c = ',alpha[i],'is',cv_log_error_array[i])\n",
    "\n",
    "\n",
    "best_alpha = np.argmin(cv_log_error_array)\n",
    "\n",
    "fig, ax = plt.subplots()\n",
    "ax.plot(alpha, cv_log_error_array,c='g')\n",
    "for i, txt in enumerate(np.round(cv_log_error_array,3)):\n",
    "    ax.annotate((alpha[i],np.round(txt,3)), (alpha[i],cv_log_error_array[i]))\n",
    "plt.grid()\n",
    "plt.title(\"Cross Validation Error for each alpha\")\n",
    "plt.xlabel(\"Alpha i's\")\n",
    "plt.ylabel(\"Error measure\")\n",
    "plt.show()\n"
   ]
  },
  {
   "cell_type": "markdown",
   "id": "ac7b3c95",
   "metadata": {},
   "source": [
    "## 3. LightGBM"
   ]
  },
  {
   "cell_type": "code",
   "execution_count": 477,
   "id": "ab0b97f5",
   "metadata": {},
   "outputs": [
    {
     "name": "stderr",
     "output_type": "stream",
     "text": [
      "100%|██████████| 9/9 [01:16<00:00,  8.53s/it]\n"
     ]
    },
    {
     "data": {
      "image/png": "[encoded data removed]",
      "text/plain": [
       "<Figure size 432x288 with 1 Axes>"
      ]
     },
     "metadata": {
      "needs_background": "light"
     },
     "output_type": "display_data"
    }
   ],
   "source": [
    "clf_lgb = LGBMClassifier(n_estimators = 100)\n",
    "clf_lgb.fit(x_train, y_train)\n",
    "\n",
    "num_feature_list = [50, 100, 200, 250, 275, 300, 350, 600, 1000]\n",
    "train_loss_list = []\n",
    "val_loss_list = []\n",
    "for num in tqdm.tqdm(num_feature_list):\n",
    "    x_train_f, x_val_f = select_features(clf_lgb, x_train, x_val, num, False, False)\n",
    "    clf = LGBMClassifier(n_estimators = 100)\n",
    "    clf.fit(x_train_f, y_train)\n",
    "    loss_train =  log_loss(y_train, clf.predict_proba(x_train_f))\n",
    "    loss_val = log_loss(y_val, clf.predict_proba(x_val_f))\n",
    "    train_loss_list.append(loss_train)\n",
    "    val_loss_list.append(loss_val)\n",
    "\n",
    "plt.plot(num_feature_list, val_loss_list)\n",
    "plt.title('loss vs num of feature selected')\n",
    "plt.xlabel('num features')\n",
    "plt.ylabel('log loss')\n",
    "plt.legend(['Validation'])\n",
    "plt.show()\n"
   ]
  },
  {
   "cell_type": "code",
   "execution_count": 479,
   "id": "3eab4188",
   "metadata": {},
   "outputs": [
    {
     "data": {
      "image/png": "[encoded data removed]",
      "text/plain": [
       "<Figure size 432x288 with 1 Axes>"
      ]
     },
     "metadata": {
      "needs_background": "light"
     },
     "output_type": "display_data"
    },
    {
     "data": {
      "image/png": "[encoded data removed]",
      "text/plain": [
       "<Figure size 432x288 with 1 Axes>"
      ]
     },
     "metadata": {
      "needs_background": "light"
     },
     "output_type": "display_data"
    },
    {
     "name": "stdout",
     "output_type": "stream",
     "text": [
      "shape of training data (8151, 1000)\n",
      "shape of validation data (2717, 1000)\n"
     ]
    }
   ],
   "source": [
    "x_train_lgb, x_val_lgb = select_features(clf_r, x_train, x_val, 300, True, True)\n",
    "print('shape of training data', x_train_f.shape)\n",
    "print('shape of validation data', x_val_f.shape)"
   ]
  },
  {
   "cell_type": "code",
   "execution_count": 483,
   "id": "0d00ab3a",
   "metadata": {},
   "outputs": [
    {
     "name": "stderr",
     "output_type": "stream",
     "text": [
      "\u001b[32m[I 2021-07-08 12:43:10,846]\u001b[0m A new study created in memory with name: no-name-beffae61-d6ce-416c-bdf9-da361cff6078\u001b[0m\n",
      "\u001b[32m[I 2021-07-08 12:43:14,157]\u001b[0m Trial 0 finished with value: 0.018625230123759093 and parameters: {'n_estimators': 250, 'num_leaves': 18, 'learning_rate': 0.06483654677881186, 'lambda_l1': 0.5842758637053559, 'lambda_l2': 0.0003856187762510298, 'feature_fraction': 0.7876404159381585, 'bagging_fraction': 0.7053339332309309, 'bagging_freq': 4, 'min_child_samples': 28}. Best is trial 0 with value: 0.018625230123759093.\u001b[0m\n"
     ]
    },
    {
     "name": "stdout",
     "output_type": "stream",
     "text": [
      "[LightGBM] [Warning] lambda_l1 is set=9.489443946399512e-07, reg_alpha=0.0 will be ignored. Current value: lambda_l1=9.489443946399512e-07\n",
      "[LightGBM] [Warning] bagging_fraction is set=0.5324180871142659, subsample=1.0 will be ignored. Current value: bagging_fraction=0.5324180871142659\n",
      "[LightGBM] [Warning] lambda_l2 is set=0.0002523618545857657, reg_lambda=0.0 will be ignored. Current value: lambda_l2=0.0002523618545857657\n",
      "[LightGBM] [Warning] feature_fraction is set=0.860504376640514, colsample_bytree=1.0 will be ignored. Current value: feature_fraction=0.860504376640514\n",
      "[LightGBM] [Warning] bagging_freq is set=7, subsample_freq=0 will be ignored. Current value: bagging_freq=7\n"
     ]
    },
    {
     "name": "stderr",
     "output_type": "stream",
     "text": [
      "\u001b[32m[I 2021-07-08 12:43:16,940]\u001b[0m Trial 1 finished with value: 0.013852143755019522 and parameters: {'n_estimators': 100, 'num_leaves': 17, 'learning_rate': 0.0708025474393647, 'lambda_l1': 9.489443946399512e-07, 'lambda_l2': 0.0002523618545857657, 'feature_fraction': 0.860504376640514, 'bagging_fraction': 0.5324180871142659, 'bagging_freq': 7, 'min_child_samples': 75}. Best is trial 1 with value: 0.013852143755019522.\u001b[0m\n"
     ]
    },
    {
     "name": "stdout",
     "output_type": "stream",
     "text": [
      "[LightGBM] [Warning] lambda_l1 is set=1.534241669620604e-05, reg_alpha=0.0 will be ignored. Current value: lambda_l1=1.534241669620604e-05\n",
      "[LightGBM] [Warning] bagging_fraction is set=0.8121092712373235, subsample=1.0 will be ignored. Current value: bagging_fraction=0.8121092712373235\n",
      "[LightGBM] [Warning] lambda_l2 is set=7.933836694913398, reg_lambda=0.0 will be ignored. Current value: lambda_l2=7.933836694913398\n",
      "[LightGBM] [Warning] feature_fraction is set=0.8424436162138722, colsample_bytree=1.0 will be ignored. Current value: feature_fraction=0.8424436162138722\n",
      "[LightGBM] [Warning] bagging_freq is set=7, subsample_freq=0 will be ignored. Current value: bagging_freq=7\n"
     ]
    },
    {
     "name": "stderr",
     "output_type": "stream",
     "text": [
      "\u001b[32m[I 2021-07-08 12:43:22,494]\u001b[0m Trial 2 finished with value: 0.014016422363348673 and parameters: {'n_estimators': 250, 'num_leaves': 27, 'learning_rate': 0.043510617365657145, 'lambda_l1': 1.534241669620604e-05, 'lambda_l2': 7.933836694913398, 'feature_fraction': 0.8424436162138722, 'bagging_fraction': 0.8121092712373235, 'bagging_freq': 7, 'min_child_samples': 86}. Best is trial 1 with value: 0.013852143755019522.\u001b[0m\n"
     ]
    },
    {
     "name": "stdout",
     "output_type": "stream",
     "text": [
      "[LightGBM] [Warning] lambda_l1 is set=2.912077567534174e-07, reg_alpha=0.0 will be ignored. Current value: lambda_l1=2.912077567534174e-07\n",
      "[LightGBM] [Warning] bagging_fraction is set=0.9327949083044225, subsample=1.0 will be ignored. Current value: bagging_fraction=0.9327949083044225\n",
      "[LightGBM] [Warning] lambda_l2 is set=1.604958669267916e-05, reg_lambda=0.0 will be ignored. Current value: lambda_l2=1.604958669267916e-05\n",
      "[LightGBM] [Warning] feature_fraction is set=0.7358995620023565, colsample_bytree=1.0 will be ignored. Current value: feature_fraction=0.7358995620023565\n",
      "[LightGBM] [Warning] bagging_freq is set=6, subsample_freq=0 will be ignored. Current value: bagging_freq=6\n"
     ]
    },
    {
     "name": "stderr",
     "output_type": "stream",
     "text": [
      "\u001b[32m[I 2021-07-08 12:43:27,272]\u001b[0m Trial 3 finished with value: 0.017399992747688643 and parameters: {'n_estimators': 200, 'num_leaves': 31, 'learning_rate': 0.08903906996077529, 'lambda_l1': 2.912077567534174e-07, 'lambda_l2': 1.604958669267916e-05, 'feature_fraction': 0.7358995620023565, 'bagging_fraction': 0.9327949083044225, 'bagging_freq': 6, 'min_child_samples': 32}. Best is trial 1 with value: 0.013852143755019522.\u001b[0m\n"
     ]
    },
    {
     "name": "stdout",
     "output_type": "stream",
     "text": [
      "[LightGBM] [Warning] lambda_l1 is set=1.211509923459117e-08, reg_alpha=0.0 will be ignored. Current value: lambda_l1=1.211509923459117e-08\n",
      "[LightGBM] [Warning] bagging_fraction is set=0.8022100617433587, subsample=1.0 will be ignored. Current value: bagging_fraction=0.8022100617433587\n",
      "[LightGBM] [Warning] lambda_l2 is set=0.0002641345040915622, reg_lambda=0.0 will be ignored. Current value: lambda_l2=0.0002641345040915622\n",
      "[LightGBM] [Warning] feature_fraction is set=0.893341648950179, colsample_bytree=1.0 will be ignored. Current value: feature_fraction=0.893341648950179\n",
      "[LightGBM] [Warning] bagging_freq is set=4, subsample_freq=0 will be ignored. Current value: bagging_freq=4\n"
     ]
    },
    {
     "name": "stderr",
     "output_type": "stream",
     "text": [
      "\u001b[32m[I 2021-07-08 12:43:30,312]\u001b[0m Trial 4 finished with value: 21.330904229171935 and parameters: {'n_estimators': 200, 'num_leaves': 22, 'learning_rate': 0.21523001791922625, 'lambda_l1': 1.211509923459117e-08, 'lambda_l2': 0.0002641345040915622, 'feature_fraction': 0.893341648950179, 'bagging_fraction': 0.8022100617433587, 'bagging_freq': 4, 'min_child_samples': 86}. Best is trial 1 with value: 0.013852143755019522.\u001b[0m\n"
     ]
    },
    {
     "name": "stdout",
     "output_type": "stream",
     "text": [
      "[LightGBM] [Warning] lambda_l1 is set=1.1207253068135339, reg_alpha=0.0 will be ignored. Current value: lambda_l1=1.1207253068135339\n",
      "[LightGBM] [Warning] bagging_fraction is set=0.7465419715319952, subsample=1.0 will be ignored. Current value: bagging_fraction=0.7465419715319952\n",
      "[LightGBM] [Warning] lambda_l2 is set=9.436324332097954, reg_lambda=0.0 will be ignored. Current value: lambda_l2=9.436324332097954\n",
      "[LightGBM] [Warning] feature_fraction is set=0.43717324468000707, colsample_bytree=1.0 will be ignored. Current value: feature_fraction=0.43717324468000707\n",
      "[LightGBM] [Warning] bagging_freq is set=4, subsample_freq=0 will be ignored. Current value: bagging_freq=4\n"
     ]
    },
    {
     "name": "stderr",
     "output_type": "stream",
     "text": [
      "\u001b[32m[I 2021-07-08 12:43:33,786]\u001b[0m Trial 5 finished with value: 0.017401077038807417 and parameters: {'n_estimators': 250, 'num_leaves': 28, 'learning_rate': 0.045827109181183, 'lambda_l1': 1.1207253068135339, 'lambda_l2': 9.436324332097954, 'feature_fraction': 0.43717324468000707, 'bagging_fraction': 0.7465419715319952, 'bagging_freq': 4, 'min_child_samples': 58}. Best is trial 1 with value: 0.013852143755019522.\u001b[0m\n"
     ]
    },
    {
     "name": "stdout",
     "output_type": "stream",
     "text": [
      "[LightGBM] [Warning] lambda_l1 is set=0.00044525677505945595, reg_alpha=0.0 will be ignored. Current value: lambda_l1=0.00044525677505945595\n",
      "[LightGBM] [Warning] bagging_fraction is set=0.6765189276827006, subsample=1.0 will be ignored. Current value: bagging_fraction=0.6765189276827006\n",
      "[LightGBM] [Warning] lambda_l2 is set=0.03558289381862065, reg_lambda=0.0 will be ignored. Current value: lambda_l2=0.03558289381862065\n",
      "[LightGBM] [Warning] feature_fraction is set=0.43868224719114157, colsample_bytree=1.0 will be ignored. Current value: feature_fraction=0.43868224719114157\n",
      "[LightGBM] [Warning] bagging_freq is set=1, subsample_freq=0 will be ignored. Current value: bagging_freq=1\n"
     ]
    },
    {
     "name": "stderr",
     "output_type": "stream",
     "text": [
      "\u001b[32m[I 2021-07-08 12:43:37,223]\u001b[0m Trial 6 finished with value: 0.01896848028614186 and parameters: {'n_estimators': 250, 'num_leaves': 20, 'learning_rate': 0.10798673187224554, 'lambda_l1': 0.00044525677505945595, 'lambda_l2': 0.03558289381862065, 'feature_fraction': 0.43868224719114157, 'bagging_fraction': 0.6765189276827006, 'bagging_freq': 1, 'min_child_samples': 14}. Best is trial 1 with value: 0.013852143755019522.\u001b[0m\n"
     ]
    },
    {
     "name": "stdout",
     "output_type": "stream",
     "text": [
      "[LightGBM] [Warning] lambda_l1 is set=0.033048168897954366, reg_alpha=0.0 will be ignored. Current value: lambda_l1=0.033048168897954366\n",
      "[LightGBM] [Warning] bagging_fraction is set=0.43889179296797465, subsample=1.0 will be ignored. Current value: bagging_fraction=0.43889179296797465\n",
      "[LightGBM] [Warning] lambda_l2 is set=5.162974777132721e-05, reg_lambda=0.0 will be ignored. Current value: lambda_l2=5.162974777132721e-05\n",
      "[LightGBM] [Warning] feature_fraction is set=0.8044419435769874, colsample_bytree=1.0 will be ignored. Current value: feature_fraction=0.8044419435769874\n",
      "[LightGBM] [Warning] bagging_freq is set=5, subsample_freq=0 will be ignored. Current value: bagging_freq=5\n"
     ]
    },
    {
     "name": "stderr",
     "output_type": "stream",
     "text": [
      "\u001b[32m[I 2021-07-08 12:43:38,300]\u001b[0m Trial 7 finished with value: 15.39435413384103 and parameters: {'n_estimators': 100, 'num_leaves': 33, 'learning_rate': 0.4167985413790431, 'lambda_l1': 0.033048168897954366, 'lambda_l2': 5.162974777132721e-05, 'feature_fraction': 0.8044419435769874, 'bagging_fraction': 0.43889179296797465, 'bagging_freq': 5, 'min_child_samples': 16}. Best is trial 1 with value: 0.013852143755019522.\u001b[0m\n"
     ]
    },
    {
     "name": "stdout",
     "output_type": "stream",
     "text": [
      "[LightGBM] [Warning] lambda_l1 is set=0.1957369160499568, reg_alpha=0.0 will be ignored. Current value: lambda_l1=0.1957369160499568\n",
      "[LightGBM] [Warning] bagging_fraction is set=0.8744091973756853, subsample=1.0 will be ignored. Current value: bagging_fraction=0.8744091973756853\n",
      "[LightGBM] [Warning] lambda_l2 is set=1.8332406625026287e-05, reg_lambda=0.0 will be ignored. Current value: lambda_l2=1.8332406625026287e-05\n",
      "[LightGBM] [Warning] feature_fraction is set=0.4941075492984853, colsample_bytree=1.0 will be ignored. Current value: feature_fraction=0.4941075492984853\n",
      "[LightGBM] [Warning] bagging_freq is set=3, subsample_freq=0 will be ignored. Current value: bagging_freq=3\n"
     ]
    },
    {
     "name": "stderr",
     "output_type": "stream",
     "text": [
      "\u001b[32m[I 2021-07-08 12:43:40,652]\u001b[0m Trial 8 finished with value: 0.016126970446340278 and parameters: {'n_estimators': 200, 'num_leaves': 27, 'learning_rate': 0.08657931555907902, 'lambda_l1': 0.1957369160499568, 'lambda_l2': 1.8332406625026287e-05, 'feature_fraction': 0.4941075492984853, 'bagging_fraction': 0.8744091973756853, 'bagging_freq': 3, 'min_child_samples': 41}. Best is trial 1 with value: 0.013852143755019522.\u001b[0m\n"
     ]
    },
    {
     "name": "stdout",
     "output_type": "stream",
     "text": [
      "[LightGBM] [Warning] lambda_l1 is set=1.2290265023580475e-05, reg_alpha=0.0 will be ignored. Current value: lambda_l1=1.2290265023580475e-05\n",
      "[LightGBM] [Warning] bagging_fraction is set=0.8168818625114285, subsample=1.0 will be ignored. Current value: bagging_fraction=0.8168818625114285\n",
      "[LightGBM] [Warning] lambda_l2 is set=4.81800494287372e-06, reg_lambda=0.0 will be ignored. Current value: lambda_l2=4.81800494287372e-06\n",
      "[LightGBM] [Warning] feature_fraction is set=0.6288460551759731, colsample_bytree=1.0 will be ignored. Current value: feature_fraction=0.6288460551759731\n",
      "[LightGBM] [Warning] bagging_freq is set=3, subsample_freq=0 will be ignored. Current value: bagging_freq=3\n"
     ]
    },
    {
     "name": "stderr",
     "output_type": "stream",
     "text": [
      "\u001b[32m[I 2021-07-08 12:43:47,758]\u001b[0m Trial 9 finished with value: 0.019677501332030247 and parameters: {'n_estimators': 200, 'num_leaves': 40, 'learning_rate': 0.02768382262921526, 'lambda_l1': 1.2290265023580475e-05, 'lambda_l2': 4.81800494287372e-06, 'feature_fraction': 0.6288460551759731, 'bagging_fraction': 0.8168818625114285, 'bagging_freq': 3, 'min_child_samples': 8}. Best is trial 1 with value: 0.013852143755019522.\u001b[0m\n"
     ]
    },
    {
     "name": "stdout",
     "output_type": "stream",
     "text": [
      "[LightGBM] [Warning] lambda_l1 is set=1.0853282080173077e-08, reg_alpha=0.0 will be ignored. Current value: lambda_l1=1.0853282080173077e-08\n",
      "[LightGBM] [Warning] bagging_fraction is set=0.5015414075741673, subsample=1.0 will be ignored. Current value: bagging_fraction=0.5015414075741673\n",
      "[LightGBM] [Warning] lambda_l2 is set=1.0322950607548333e-07, reg_lambda=0.0 will be ignored. Current value: lambda_l2=1.0322950607548333e-07\n",
      "[LightGBM] [Warning] feature_fraction is set=0.9993676064013274, colsample_bytree=1.0 will be ignored. Current value: feature_fraction=0.9993676064013274\n",
      "[LightGBM] [Warning] bagging_freq is set=7, subsample_freq=0 will be ignored. Current value: bagging_freq=7\n"
     ]
    },
    {
     "name": "stderr",
     "output_type": "stream",
     "text": [
      "\u001b[32m[I 2021-07-08 12:43:53,517]\u001b[0m Trial 10 finished with value: 0.05727090713731572 and parameters: {'n_estimators': 150, 'num_leaves': 15, 'learning_rate': 0.014798089315286318, 'lambda_l1': 1.0853282080173077e-08, 'lambda_l2': 1.0322950607548333e-07, 'feature_fraction': 0.9993676064013274, 'bagging_fraction': 0.5015414075741673, 'bagging_freq': 7, 'min_child_samples': 66}. Best is trial 1 with value: 0.013852143755019522.\u001b[0m\n"
     ]
    },
    {
     "name": "stdout",
     "output_type": "stream",
     "text": [
      "[LightGBM] [Warning] lambda_l1 is set=5.93385758897211e-06, reg_alpha=0.0 will be ignored. Current value: lambda_l1=5.93385758897211e-06\n",
      "[LightGBM] [Warning] bagging_fraction is set=0.6060475779503007, subsample=1.0 will be ignored. Current value: bagging_fraction=0.6060475779503007\n",
      "[LightGBM] [Warning] lambda_l2 is set=0.056316419053982464, reg_lambda=0.0 will be ignored. Current value: lambda_l2=0.056316419053982464\n",
      "[LightGBM] [Warning] feature_fraction is set=0.9556000619538225, colsample_bytree=1.0 will be ignored. Current value: feature_fraction=0.9556000619538225\n",
      "[LightGBM] [Warning] bagging_freq is set=7, subsample_freq=0 will be ignored. Current value: bagging_freq=7\n"
     ]
    },
    {
     "name": "stderr",
     "output_type": "stream",
     "text": [
      "\u001b[32m[I 2021-07-08 12:43:56,271]\u001b[0m Trial 11 finished with value: 0.08224625814422222 and parameters: {'n_estimators': 100, 'num_leaves': 37, 'learning_rate': 0.019196186851650622, 'lambda_l1': 5.93385758897211e-06, 'lambda_l2': 0.056316419053982464, 'feature_fraction': 0.9556000619538225, 'bagging_fraction': 0.6060475779503007, 'bagging_freq': 7, 'min_child_samples': 95}. Best is trial 1 with value: 0.013852143755019522.\u001b[0m\n"
     ]
    },
    {
     "name": "stdout",
     "output_type": "stream",
     "text": [
      "[LightGBM] [Warning] lambda_l1 is set=0.0003283493215630729, reg_alpha=0.0 will be ignored. Current value: lambda_l1=0.0003283493215630729\n",
      "[LightGBM] [Warning] bagging_fraction is set=0.6108618877495513, subsample=1.0 will be ignored. Current value: bagging_fraction=0.6108618877495513\n",
      "[LightGBM] [Warning] lambda_l2 is set=0.02513392908265159, reg_lambda=0.0 will be ignored. Current value: lambda_l2=0.02513392908265159\n",
      "[LightGBM] [Warning] feature_fraction is set=0.8806449177339403, colsample_bytree=1.0 will be ignored. Current value: feature_fraction=0.8806449177339403\n",
      "[LightGBM] [Warning] bagging_freq is set=7, subsample_freq=0 will be ignored. Current value: bagging_freq=7\n"
     ]
    },
    {
     "name": "stderr",
     "output_type": "stream",
     "text": [
      "\u001b[32m[I 2021-07-08 12:43:58,745]\u001b[0m Trial 12 finished with value: 0.01938347239623085 and parameters: {'n_estimators': 100, 'num_leaves': 24, 'learning_rate': 0.03759521559044167, 'lambda_l1': 0.0003283493215630729, 'lambda_l2': 0.02513392908265159, 'feature_fraction': 0.8806449177339403, 'bagging_fraction': 0.6108618877495513, 'bagging_freq': 7, 'min_child_samples': 79}. Best is trial 1 with value: 0.013852143755019522.\u001b[0m\n"
     ]
    },
    {
     "name": "stdout",
     "output_type": "stream",
     "text": [
      "[LightGBM] [Warning] lambda_l1 is set=1.299579190543475e-06, reg_alpha=0.0 will be ignored. Current value: lambda_l1=1.299579190543475e-06\n",
      "[LightGBM] [Warning] bagging_fraction is set=0.9918860299254447, subsample=1.0 will be ignored. Current value: bagging_fraction=0.9918860299254447\n",
      "[LightGBM] [Warning] lambda_l2 is set=7.152401371536316, reg_lambda=0.0 will be ignored. Current value: lambda_l2=7.152401371536316\n",
      "[LightGBM] [Warning] feature_fraction is set=0.6272442747455091, colsample_bytree=1.0 will be ignored. Current value: feature_fraction=0.6272442747455091\n",
      "[LightGBM] [Warning] bagging_freq is set=6, subsample_freq=0 will be ignored. Current value: bagging_freq=6\n"
     ]
    },
    {
     "name": "stderr",
     "output_type": "stream",
     "text": [
      "\u001b[32m[I 2021-07-08 12:44:00,998]\u001b[0m Trial 13 finished with value: 0.011094750935057237 and parameters: {'n_estimators': 100, 'num_leaves': 16, 'learning_rate': 0.18877753881798146, 'lambda_l1': 1.299579190543475e-06, 'lambda_l2': 7.152401371536316, 'feature_fraction': 0.6272442747455091, 'bagging_fraction': 0.9918860299254447, 'bagging_freq': 6, 'min_child_samples': 100}. Best is trial 13 with value: 0.011094750935057237.\u001b[0m\n"
     ]
    },
    {
     "name": "stdout",
     "output_type": "stream",
     "text": [
      "[LightGBM] [Warning] lambda_l1 is set=2.2504671664063473e-07, reg_alpha=0.0 will be ignored. Current value: lambda_l1=2.2504671664063473e-07\n",
      "[LightGBM] [Warning] bagging_fraction is set=0.5230073407507154, subsample=1.0 will be ignored. Current value: bagging_fraction=0.5230073407507154\n",
      "[LightGBM] [Warning] lambda_l2 is set=2.5264318037868166e-07, reg_lambda=0.0 will be ignored. Current value: lambda_l2=2.5264318037868166e-07\n",
      "[LightGBM] [Warning] feature_fraction is set=0.6432662729774712, colsample_bytree=1.0 will be ignored. Current value: feature_fraction=0.6432662729774712\n",
      "[LightGBM] [Warning] bagging_freq is set=6, subsample_freq=0 will be ignored. Current value: bagging_freq=6\n"
     ]
    },
    {
     "name": "stderr",
     "output_type": "stream",
     "text": [
      "\u001b[32m[I 2021-07-08 12:44:01,884]\u001b[0m Trial 14 finished with value: 15.063838803080301 and parameters: {'n_estimators': 100, 'num_leaves': 15, 'learning_rate': 0.7958271622355041, 'lambda_l1': 2.2504671664063473e-07, 'lambda_l2': 2.5264318037868166e-07, 'feature_fraction': 0.6432662729774712, 'bagging_fraction': 0.5230073407507154, 'bagging_freq': 6, 'min_child_samples': 98}. Best is trial 13 with value: 0.011094750935057237.\u001b[0m\n"
     ]
    },
    {
     "name": "stdout",
     "output_type": "stream",
     "text": [
      "[LightGBM] [Warning] lambda_l1 is set=5.026799533351992e-07, reg_alpha=0.0 will be ignored. Current value: lambda_l1=5.026799533351992e-07\n",
      "[LightGBM] [Warning] bagging_fraction is set=0.4167173624535293, subsample=1.0 will be ignored. Current value: bagging_fraction=0.4167173624535293\n",
      "[LightGBM] [Warning] lambda_l2 is set=0.0025833044143749816, reg_lambda=0.0 will be ignored. Current value: lambda_l2=0.0025833044143749816\n",
      "[LightGBM] [Warning] feature_fraction is set=0.5685891735283486, colsample_bytree=1.0 will be ignored. Current value: feature_fraction=0.5685891735283486\n",
      "[LightGBM] [Warning] bagging_freq is set=6, subsample_freq=0 will be ignored. Current value: bagging_freq=6\n"
     ]
    },
    {
     "name": "stderr",
     "output_type": "stream",
     "text": [
      "\u001b[32m[I 2021-07-08 12:44:03,095]\u001b[0m Trial 15 finished with value: 12.242136980628631 and parameters: {'n_estimators': 100, 'num_leaves': 17, 'learning_rate': 0.21560155711516024, 'lambda_l1': 5.026799533351992e-07, 'lambda_l2': 0.0025833044143749816, 'feature_fraction': 0.5685891735283486, 'bagging_fraction': 0.4167173624535293, 'bagging_freq': 6, 'min_child_samples': 72}. Best is trial 13 with value: 0.011094750935057237.\u001b[0m\n"
     ]
    },
    {
     "name": "stdout",
     "output_type": "stream",
     "text": [
      "[LightGBM] [Warning] lambda_l1 is set=0.0065536308048182905, reg_alpha=0.0 will be ignored. Current value: lambda_l1=0.0065536308048182905\n",
      "[LightGBM] [Warning] bagging_fraction is set=0.549173971804319, subsample=1.0 will be ignored. Current value: bagging_fraction=0.549173971804319\n",
      "[LightGBM] [Warning] lambda_l2 is set=0.39511901365275015, reg_lambda=0.0 will be ignored. Current value: lambda_l2=0.39511901365275015\n",
      "[LightGBM] [Warning] feature_fraction is set=0.6958383221009752, colsample_bytree=1.0 will be ignored. Current value: feature_fraction=0.6958383221009752\n",
      "[LightGBM] [Warning] bagging_freq is set=5, subsample_freq=0 will be ignored. Current value: bagging_freq=5\n"
     ]
    },
    {
     "name": "stderr",
     "output_type": "stream",
     "text": [
      "\u001b[32m[I 2021-07-08 12:44:05,447]\u001b[0m Trial 16 finished with value: 0.011810696257267763 and parameters: {'n_estimators': 150, 'num_leaves': 15, 'learning_rate': 0.17641241784277195, 'lambda_l1': 0.0065536308048182905, 'lambda_l2': 0.39511901365275015, 'feature_fraction': 0.6958383221009752, 'bagging_fraction': 0.549173971804319, 'bagging_freq': 5, 'min_child_samples': 96}. Best is trial 13 with value: 0.011094750935057237.\u001b[0m\n"
     ]
    },
    {
     "name": "stdout",
     "output_type": "stream",
     "text": [
      "[LightGBM] [Warning] lambda_l1 is set=0.005347166081798191, reg_alpha=0.0 will be ignored. Current value: lambda_l1=0.005347166081798191\n",
      "[LightGBM] [Warning] bagging_fraction is set=0.9906988049953059, subsample=1.0 will be ignored. Current value: bagging_fraction=0.9906988049953059\n",
      "[LightGBM] [Warning] lambda_l2 is set=0.8651080545243832, reg_lambda=0.0 will be ignored. Current value: lambda_l2=0.8651080545243832\n",
      "[LightGBM] [Warning] feature_fraction is set=0.6894361331427646, colsample_bytree=1.0 will be ignored. Current value: feature_fraction=0.6894361331427646\n",
      "[LightGBM] [Warning] bagging_freq is set=5, subsample_freq=0 will be ignored. Current value: bagging_freq=5\n"
     ]
    },
    {
     "name": "stderr",
     "output_type": "stream",
     "text": [
      "\u001b[32m[I 2021-07-08 12:44:08,866]\u001b[0m Trial 17 finished with value: 0.012950725028616475 and parameters: {'n_estimators': 150, 'num_leaves': 21, 'learning_rate': 0.1807427563151778, 'lambda_l1': 0.005347166081798191, 'lambda_l2': 0.8651080545243832, 'feature_fraction': 0.6894361331427646, 'bagging_fraction': 0.9906988049953059, 'bagging_freq': 5, 'min_child_samples': 99}. Best is trial 13 with value: 0.011094750935057237.\u001b[0m\n"
     ]
    },
    {
     "name": "stdout",
     "output_type": "stream",
     "text": [
      "[LightGBM] [Warning] lambda_l1 is set=9.450465708065853, reg_alpha=0.0 will be ignored. Current value: lambda_l1=9.450465708065853\n",
      "[LightGBM] [Warning] bagging_fraction is set=0.6064512009468166, subsample=1.0 will be ignored. Current value: bagging_fraction=0.6064512009468166\n",
      "[LightGBM] [Warning] lambda_l2 is set=0.8554970697019961, reg_lambda=0.0 will be ignored. Current value: lambda_l2=0.8554970697019961\n",
      "[LightGBM] [Warning] feature_fraction is set=0.5540983954468983, colsample_bytree=1.0 will be ignored. Current value: feature_fraction=0.5540983954468983\n",
      "[LightGBM] [Warning] bagging_freq is set=5, subsample_freq=0 will be ignored. Current value: bagging_freq=5\n"
     ]
    },
    {
     "name": "stderr",
     "output_type": "stream",
     "text": [
      "\u001b[32m[I 2021-07-08 12:44:10,057]\u001b[0m Trial 18 finished with value: 0.05856928658654 and parameters: {'n_estimators': 150, 'num_leaves': 15, 'learning_rate': 0.41417336310989034, 'lambda_l1': 9.450465708065853, 'lambda_l2': 0.8554970697019961, 'feature_fraction': 0.5540983954468983, 'bagging_fraction': 0.6064512009468166, 'bagging_freq': 5, 'min_child_samples': 90}. Best is trial 13 with value: 0.011094750935057237.\u001b[0m\n"
     ]
    },
    {
     "name": "stdout",
     "output_type": "stream",
     "text": [
      "[LightGBM] [Warning] lambda_l1 is set=0.0035922879692084973, reg_alpha=0.0 will be ignored. Current value: lambda_l1=0.0035922879692084973\n",
      "[LightGBM] [Warning] bagging_fraction is set=0.46304064827684294, subsample=1.0 will be ignored. Current value: bagging_fraction=0.46304064827684294\n",
      "[LightGBM] [Warning] lambda_l2 is set=0.7222403366161184, reg_lambda=0.0 will be ignored. Current value: lambda_l2=0.7222403366161184\n",
      "[LightGBM] [Warning] feature_fraction is set=0.7349825791873827, colsample_bytree=1.0 will be ignored. Current value: feature_fraction=0.7349825791873827\n",
      "[LightGBM] [Warning] bagging_freq is set=2, subsample_freq=0 will be ignored. Current value: bagging_freq=2\n"
     ]
    },
    {
     "name": "stderr",
     "output_type": "stream",
     "text": [
      "\u001b[32m[I 2021-07-08 12:44:12,311]\u001b[0m Trial 19 finished with value: 0.012312432270091671 and parameters: {'n_estimators': 150, 'num_leaves': 24, 'learning_rate': 0.34854714658887287, 'lambda_l1': 0.0035922879692084973, 'lambda_l2': 0.7222403366161184, 'feature_fraction': 0.7349825791873827, 'bagging_fraction': 0.46304064827684294, 'bagging_freq': 2, 'min_child_samples': 52}. Best is trial 13 with value: 0.011094750935057237.\u001b[0m\n"
     ]
    },
    {
     "name": "stdout",
     "output_type": "stream",
     "text": [
      "[LightGBM] [Warning] lambda_l1 is set=4.031051338842615e-05, reg_alpha=0.0 will be ignored. Current value: lambda_l1=4.031051338842615e-05\n",
      "[LightGBM] [Warning] bagging_fraction is set=0.9716393892164132, subsample=1.0 will be ignored. Current value: bagging_fraction=0.9716393892164132\n",
      "[LightGBM] [Warning] lambda_l2 is set=7.959496542378681, reg_lambda=0.0 will be ignored. Current value: lambda_l2=7.959496542378681\n",
      "[LightGBM] [Warning] feature_fraction is set=0.5878608960956406, colsample_bytree=1.0 will be ignored. Current value: feature_fraction=0.5878608960956406\n",
      "[LightGBM] [Warning] bagging_freq is set=5, subsample_freq=0 will be ignored. Current value: bagging_freq=5\n"
     ]
    },
    {
     "name": "stderr",
     "output_type": "stream",
     "text": [
      "\u001b[32m[I 2021-07-08 12:44:15,380]\u001b[0m Trial 20 finished with value: 0.017005713482215638 and parameters: {'n_estimators': 150, 'num_leaves': 19, 'learning_rate': 0.7852457317625059, 'lambda_l1': 4.031051338842615e-05, 'lambda_l2': 7.959496542378681, 'feature_fraction': 0.5878608960956406, 'bagging_fraction': 0.9716393892164132, 'bagging_freq': 5, 'min_child_samples': 99}. Best is trial 13 with value: 0.011094750935057237.\u001b[0m\n"
     ]
    },
    {
     "name": "stdout",
     "output_type": "stream",
     "text": [
      "[LightGBM] [Warning] lambda_l1 is set=0.00468735260813725, reg_alpha=0.0 will be ignored. Current value: lambda_l1=0.00468735260813725\n",
      "[LightGBM] [Warning] bagging_fraction is set=0.403858358499818, subsample=1.0 will be ignored. Current value: bagging_fraction=0.403858358499818\n",
      "[LightGBM] [Warning] lambda_l2 is set=0.39714113102080356, reg_lambda=0.0 will be ignored. Current value: lambda_l2=0.39714113102080356\n",
      "[LightGBM] [Warning] feature_fraction is set=0.7235927662147407, colsample_bytree=1.0 will be ignored. Current value: feature_fraction=0.7235927662147407\n",
      "[LightGBM] [Warning] bagging_freq is set=1, subsample_freq=0 will be ignored. Current value: bagging_freq=1\n"
     ]
    },
    {
     "name": "stderr",
     "output_type": "stream",
     "text": [
      "\u001b[32m[I 2021-07-08 12:44:17,279]\u001b[0m Trial 21 finished with value: 0.013493686544063865 and parameters: {'n_estimators': 150, 'num_leaves': 24, 'learning_rate': 0.4127165434732075, 'lambda_l1': 0.00468735260813725, 'lambda_l2': 0.39714113102080356, 'feature_fraction': 0.7235927662147407, 'bagging_fraction': 0.403858358499818, 'bagging_freq': 1, 'min_child_samples': 45}. Best is trial 13 with value: 0.011094750935057237.\u001b[0m\n"
     ]
    },
    {
     "name": "stdout",
     "output_type": "stream",
     "text": [
      "[LightGBM] [Warning] lambda_l1 is set=0.0032269340223907827, reg_alpha=0.0 will be ignored. Current value: lambda_l1=0.0032269340223907827\n",
      "[LightGBM] [Warning] bagging_fraction is set=0.46190893890102025, subsample=1.0 will be ignored. Current value: bagging_fraction=0.46190893890102025\n",
      "[LightGBM] [Warning] lambda_l2 is set=0.24809480522609173, reg_lambda=0.0 will be ignored. Current value: lambda_l2=0.24809480522609173\n",
      "[LightGBM] [Warning] feature_fraction is set=0.6856528750407125, colsample_bytree=1.0 will be ignored. Current value: feature_fraction=0.6856528750407125\n",
      "[LightGBM] [Warning] bagging_freq is set=2, subsample_freq=0 will be ignored. Current value: bagging_freq=2\n"
     ]
    },
    {
     "name": "stderr",
     "output_type": "stream",
     "text": [
      "\u001b[32m[I 2021-07-08 12:44:19,320]\u001b[0m Trial 22 finished with value: 0.013222735562711248 and parameters: {'n_estimators': 150, 'num_leaves': 24, 'learning_rate': 0.30205270356412833, 'lambda_l1': 0.0032269340223907827, 'lambda_l2': 0.24809480522609173, 'feature_fraction': 0.6856528750407125, 'bagging_fraction': 0.46190893890102025, 'bagging_freq': 2, 'min_child_samples': 57}. Best is trial 13 with value: 0.011094750935057237.\u001b[0m\n"
     ]
    },
    {
     "name": "stdout",
     "output_type": "stream",
     "text": [
      "[LightGBM] [Warning] lambda_l1 is set=0.04664201482202141, reg_alpha=0.0 will be ignored. Current value: lambda_l1=0.04664201482202141\n",
      "[LightGBM] [Warning] bagging_fraction is set=0.5736785485213165, subsample=1.0 will be ignored. Current value: bagging_fraction=0.5736785485213165\n",
      "[LightGBM] [Warning] lambda_l2 is set=2.7464160417019126, reg_lambda=0.0 will be ignored. Current value: lambda_l2=2.7464160417019126\n",
      "[LightGBM] [Warning] feature_fraction is set=0.7571187353661541, colsample_bytree=1.0 will be ignored. Current value: feature_fraction=0.7571187353661541\n",
      "[LightGBM] [Warning] bagging_freq is set=3, subsample_freq=0 will be ignored. Current value: bagging_freq=3\n"
     ]
    },
    {
     "name": "stderr",
     "output_type": "stream",
     "text": [
      "\u001b[32m[I 2021-07-08 12:44:21,955]\u001b[0m Trial 23 finished with value: 0.01178368811761505 and parameters: {'n_estimators': 150, 'num_leaves': 15, 'learning_rate': 0.15251026569603163, 'lambda_l1': 0.04664201482202141, 'lambda_l2': 2.7464160417019126, 'feature_fraction': 0.7571187353661541, 'bagging_fraction': 0.5736785485213165, 'bagging_freq': 3, 'min_child_samples': 50}. Best is trial 13 with value: 0.011094750935057237.\u001b[0m\n"
     ]
    },
    {
     "name": "stdout",
     "output_type": "stream",
     "text": [
      "[LightGBM] [Warning] lambda_l1 is set=0.03710646922304738, reg_alpha=0.0 will be ignored. Current value: lambda_l1=0.03710646922304738\n",
      "[LightGBM] [Warning] bagging_fraction is set=0.56297170449518, subsample=1.0 will be ignored. Current value: bagging_fraction=0.56297170449518\n",
      "[LightGBM] [Warning] lambda_l2 is set=5.50348712299922, reg_lambda=0.0 will be ignored. Current value: lambda_l2=5.50348712299922\n",
      "[LightGBM] [Warning] feature_fraction is set=0.781258634468319, colsample_bytree=1.0 will be ignored. Current value: feature_fraction=0.781258634468319\n",
      "[LightGBM] [Warning] bagging_freq is set=3, subsample_freq=0 will be ignored. Current value: bagging_freq=3\n"
     ]
    },
    {
     "name": "stderr",
     "output_type": "stream",
     "text": [
      "\u001b[32m[I 2021-07-08 12:44:24,623]\u001b[0m Trial 24 finished with value: 0.01171116336964546 and parameters: {'n_estimators': 150, 'num_leaves': 15, 'learning_rate': 0.13773345709324852, 'lambda_l1': 0.03710646922304738, 'lambda_l2': 5.50348712299922, 'feature_fraction': 0.781258634468319, 'bagging_fraction': 0.56297170449518, 'bagging_freq': 3, 'min_child_samples': 66}. Best is trial 13 with value: 0.011094750935057237.\u001b[0m\n"
     ]
    },
    {
     "name": "stdout",
     "output_type": "stream",
     "text": [
      "[LightGBM] [Warning] lambda_l1 is set=0.049142694001424285, reg_alpha=0.0 will be ignored. Current value: lambda_l1=0.049142694001424285\n",
      "[LightGBM] [Warning] bagging_fraction is set=0.6550822547649734, subsample=1.0 will be ignored. Current value: bagging_fraction=0.6550822547649734\n",
      "[LightGBM] [Warning] lambda_l2 is set=9.932248911016686, reg_lambda=0.0 will be ignored. Current value: lambda_l2=9.932248911016686\n",
      "[LightGBM] [Warning] feature_fraction is set=0.7809469219493586, colsample_bytree=1.0 will be ignored. Current value: feature_fraction=0.7809469219493586\n",
      "[LightGBM] [Warning] bagging_freq is set=3, subsample_freq=0 will be ignored. Current value: bagging_freq=3\n"
     ]
    },
    {
     "name": "stderr",
     "output_type": "stream",
     "text": [
      "\u001b[32m[I 2021-07-08 12:44:27,530]\u001b[0m Trial 25 finished with value: 0.011893557475910192 and parameters: {'n_estimators': 150, 'num_leaves': 18, 'learning_rate': 0.1292304832279674, 'lambda_l1': 0.049142694001424285, 'lambda_l2': 9.932248911016686, 'feature_fraction': 0.7809469219493586, 'bagging_fraction': 0.6550822547649734, 'bagging_freq': 3, 'min_child_samples': 63}. Best is trial 13 with value: 0.011094750935057237.\u001b[0m\n"
     ]
    },
    {
     "name": "stdout",
     "output_type": "stream",
     "text": [
      "[LightGBM] [Warning] lambda_l1 is set=5.634585674624128, reg_alpha=0.0 will be ignored. Current value: lambda_l1=5.634585674624128\n",
      "[LightGBM] [Warning] bagging_fraction is set=0.5740135703278433, subsample=1.0 will be ignored. Current value: bagging_fraction=0.5740135703278433\n",
      "[LightGBM] [Warning] lambda_l2 is set=2.332941148651878, reg_lambda=0.0 will be ignored. Current value: lambda_l2=2.332941148651878\n",
      "[LightGBM] [Warning] feature_fraction is set=0.6463913490900444, colsample_bytree=1.0 will be ignored. Current value: feature_fraction=0.6463913490900444\n",
      "[LightGBM] [Warning] bagging_freq is set=2, subsample_freq=0 will be ignored. Current value: bagging_freq=2\n"
     ]
    },
    {
     "name": "stderr",
     "output_type": "stream",
     "text": [
      "\u001b[32m[I 2021-07-08 12:44:28,927]\u001b[0m Trial 26 finished with value: 0.03267012324170159 and parameters: {'n_estimators': 150, 'num_leaves': 16, 'learning_rate': 0.14400167793644789, 'lambda_l1': 5.634585674624128, 'lambda_l2': 2.332941148651878, 'feature_fraction': 0.6463913490900444, 'bagging_fraction': 0.5740135703278433, 'bagging_freq': 2, 'min_child_samples': 46}. Best is trial 13 with value: 0.011094750935057237.\u001b[0m\n"
     ]
    },
    {
     "name": "stdout",
     "output_type": "stream",
     "text": [
      "[LightGBM] [Warning] lambda_l1 is set=2.1194250202593476, reg_alpha=0.0 will be ignored. Current value: lambda_l1=2.1194250202593476\n",
      "[LightGBM] [Warning] bagging_fraction is set=0.7290857425712447, subsample=1.0 will be ignored. Current value: bagging_fraction=0.7290857425712447\n",
      "[LightGBM] [Warning] lambda_l2 is set=0.0046321142311767215, reg_lambda=0.0 will be ignored. Current value: lambda_l2=0.0046321142311767215\n",
      "[LightGBM] [Warning] feature_fraction is set=0.7680870184828228, colsample_bytree=1.0 will be ignored. Current value: feature_fraction=0.7680870184828228\n",
      "[LightGBM] [Warning] bagging_freq is set=3, subsample_freq=0 will be ignored. Current value: bagging_freq=3\n"
     ]
    },
    {
     "name": "stderr",
     "output_type": "stream",
     "text": [
      "\u001b[32m[I 2021-07-08 12:44:30,106]\u001b[0m Trial 27 finished with value: 0.02276605734926779 and parameters: {'n_estimators': 100, 'num_leaves': 20, 'learning_rate': 0.2843005787451508, 'lambda_l1': 2.1194250202593476, 'lambda_l2': 0.0046321142311767215, 'feature_fraction': 0.7680870184828228, 'bagging_fraction': 0.7290857425712447, 'bagging_freq': 3, 'min_child_samples': 38}. Best is trial 13 with value: 0.011094750935057237.\u001b[0m\n"
     ]
    },
    {
     "name": "stdout",
     "output_type": "stream",
     "text": [
      "[LightGBM] [Warning] lambda_l1 is set=0.06095118278802513, reg_alpha=0.0 will be ignored. Current value: lambda_l1=0.06095118278802513\n",
      "[LightGBM] [Warning] bagging_fraction is set=0.6530208847231477, subsample=1.0 will be ignored. Current value: bagging_fraction=0.6530208847231477\n",
      "[LightGBM] [Warning] lambda_l2 is set=2.7583169311928706, reg_lambda=0.0 will be ignored. Current value: lambda_l2=2.7583169311928706\n",
      "[LightGBM] [Warning] feature_fraction is set=0.818993835779866, colsample_bytree=1.0 will be ignored. Current value: feature_fraction=0.818993835779866\n",
      "[LightGBM] [Warning] bagging_freq is set=2, subsample_freq=0 will be ignored. Current value: bagging_freq=2\n"
     ]
    },
    {
     "name": "stderr",
     "output_type": "stream",
     "text": [
      "\u001b[32m[I 2021-07-08 12:44:33,313]\u001b[0m Trial 28 finished with value: 0.012956057834519561 and parameters: {'n_estimators': 150, 'num_leaves': 17, 'learning_rate': 0.13671661739869415, 'lambda_l1': 0.06095118278802513, 'lambda_l2': 2.7583169311928706, 'feature_fraction': 0.818993835779866, 'bagging_fraction': 0.6530208847231477, 'bagging_freq': 2, 'min_child_samples': 27}. Best is trial 13 with value: 0.011094750935057237.\u001b[0m\n"
     ]
    },
    {
     "name": "stdout",
     "output_type": "stream",
     "text": [
      "[LightGBM] [Warning] lambda_l1 is set=0.18140946707486413, reg_alpha=0.0 will be ignored. Current value: lambda_l1=0.18140946707486413\n",
      "[LightGBM] [Warning] bagging_fraction is set=0.503684338287112, subsample=1.0 will be ignored. Current value: bagging_fraction=0.503684338287112\n",
      "[LightGBM] [Warning] lambda_l2 is set=0.13390742104554196, reg_lambda=0.0 will be ignored. Current value: lambda_l2=0.13390742104554196\n",
      "[LightGBM] [Warning] feature_fraction is set=0.911190645094534, colsample_bytree=1.0 will be ignored. Current value: feature_fraction=0.911190645094534\n",
      "[LightGBM] [Warning] bagging_freq is set=4, subsample_freq=0 will be ignored. Current value: bagging_freq=4\n"
     ]
    },
    {
     "name": "stderr",
     "output_type": "stream",
     "text": [
      "\u001b[32m[I 2021-07-08 12:44:35,519]\u001b[0m Trial 29 finished with value: 0.6128084984024287 and parameters: {'n_estimators': 150, 'num_leaves': 22, 'learning_rate': 0.5901001437501544, 'lambda_l1': 0.18140946707486413, 'lambda_l2': 0.13390742104554196, 'feature_fraction': 0.911190645094534, 'bagging_fraction': 0.503684338287112, 'bagging_freq': 4, 'min_child_samples': 50}. Best is trial 13 with value: 0.011094750935057237.\u001b[0m\n"
     ]
    },
    {
     "name": "stdout",
     "output_type": "stream",
     "text": [
      "[LightGBM] [Warning] lambda_l1 is set=7.382569348563242e-05, reg_alpha=0.0 will be ignored. Current value: lambda_l1=7.382569348563242e-05\n",
      "[LightGBM] [Warning] bagging_fraction is set=0.57397293798512, subsample=1.0 will be ignored. Current value: bagging_fraction=0.57397293798512\n",
      "[LightGBM] [Warning] lambda_l2 is set=0.0029865141868594364, reg_lambda=0.0 will be ignored. Current value: lambda_l2=0.0029865141868594364\n",
      "[LightGBM] [Warning] feature_fraction is set=0.504280106161802, colsample_bytree=1.0 will be ignored. Current value: feature_fraction=0.504280106161802\n",
      "[LightGBM] [Warning] bagging_freq is set=3, subsample_freq=0 will be ignored. Current value: bagging_freq=3\n"
     ]
    },
    {
     "name": "stderr",
     "output_type": "stream",
     "text": [
      "\u001b[32m[I 2021-07-08 12:44:37,685]\u001b[0m Trial 30 finished with value: 0.017404380031957132 and parameters: {'n_estimators': 100, 'num_leaves': 18, 'learning_rate': 0.0702933099528596, 'lambda_l1': 7.382569348563242e-05, 'lambda_l2': 0.0029865141868594364, 'feature_fraction': 0.504280106161802, 'bagging_fraction': 0.57397293798512, 'bagging_freq': 3, 'min_child_samples': 28}. Best is trial 13 with value: 0.011094750935057237.\u001b[0m\n"
     ]
    },
    {
     "name": "stdout",
     "output_type": "stream",
     "text": [
      "[LightGBM] [Warning] lambda_l1 is set=0.017358830825092122, reg_alpha=0.0 will be ignored. Current value: lambda_l1=0.017358830825092122\n",
      "[LightGBM] [Warning] bagging_fraction is set=0.5499588039728969, subsample=1.0 will be ignored. Current value: bagging_fraction=0.5499588039728969\n",
      "[LightGBM] [Warning] lambda_l2 is set=2.658069386015015, reg_lambda=0.0 will be ignored. Current value: lambda_l2=2.658069386015015\n",
      "[LightGBM] [Warning] feature_fraction is set=0.6647606104339516, colsample_bytree=1.0 will be ignored. Current value: feature_fraction=0.6647606104339516\n",
      "[LightGBM] [Warning] bagging_freq is set=4, subsample_freq=0 will be ignored. Current value: bagging_freq=4\n"
     ]
    },
    {
     "name": "stderr",
     "output_type": "stream",
     "text": [
      "\u001b[32m[I 2021-07-08 12:44:40,009]\u001b[0m Trial 31 finished with value: 0.010586374808678904 and parameters: {'n_estimators': 150, 'num_leaves': 15, 'learning_rate': 0.16699396198672892, 'lambda_l1': 0.017358830825092122, 'lambda_l2': 2.658069386015015, 'feature_fraction': 0.6647606104339516, 'bagging_fraction': 0.5499588039728969, 'bagging_freq': 4, 'min_child_samples': 81}. Best is trial 31 with value: 0.010586374808678904.\u001b[0m\n"
     ]
    },
    {
     "name": "stdout",
     "output_type": "stream",
     "text": [
      "[LightGBM] [Warning] lambda_l1 is set=0.0011933069594902478, reg_alpha=0.0 will be ignored. Current value: lambda_l1=0.0011933069594902478\n",
      "[LightGBM] [Warning] bagging_fraction is set=0.6258570215515296, subsample=1.0 will be ignored. Current value: bagging_fraction=0.6258570215515296\n",
      "[LightGBM] [Warning] lambda_l2 is set=1.4079707286015928, reg_lambda=0.0 will be ignored. Current value: lambda_l2=1.4079707286015928\n",
      "[LightGBM] [Warning] feature_fraction is set=0.7649225049197378, colsample_bytree=1.0 will be ignored. Current value: feature_fraction=0.7649225049197378\n",
      "[LightGBM] [Warning] bagging_freq is set=4, subsample_freq=0 will be ignored. Current value: bagging_freq=4\n"
     ]
    },
    {
     "name": "stderr",
     "output_type": "stream",
     "text": [
      "\u001b[32m[I 2021-07-08 12:44:42,742]\u001b[0m Trial 32 finished with value: 0.012800760413384085 and parameters: {'n_estimators': 150, 'num_leaves': 15, 'learning_rate': 0.24924804058734112, 'lambda_l1': 0.0011933069594902478, 'lambda_l2': 1.4079707286015928, 'feature_fraction': 0.7649225049197378, 'bagging_fraction': 0.6258570215515296, 'bagging_freq': 4, 'min_child_samples': 71}. Best is trial 31 with value: 0.010586374808678904.\u001b[0m\n"
     ]
    },
    {
     "name": "stdout",
     "output_type": "stream",
     "text": [
      "[LightGBM] [Warning] lambda_l1 is set=0.016611452061679986, reg_alpha=0.0 will be ignored. Current value: lambda_l1=0.016611452061679986\n",
      "[LightGBM] [Warning] bagging_fraction is set=0.5666100992706169, subsample=1.0 will be ignored. Current value: bagging_fraction=0.5666100992706169\n",
      "[LightGBM] [Warning] lambda_l2 is set=2.900789228546512, reg_lambda=0.0 will be ignored. Current value: lambda_l2=2.900789228546512\n",
      "[LightGBM] [Warning] feature_fraction is set=0.6619250731049198, colsample_bytree=1.0 will be ignored. Current value: feature_fraction=0.6619250731049198\n",
      "[LightGBM] [Warning] bagging_freq is set=3, subsample_freq=0 will be ignored. Current value: bagging_freq=3\n"
     ]
    },
    {
     "name": "stderr",
     "output_type": "stream",
     "text": [
      "\u001b[32m[I 2021-07-08 12:44:45,129]\u001b[0m Trial 33 finished with value: 0.011977723585751077 and parameters: {'n_estimators': 150, 'num_leaves': 17, 'learning_rate': 0.10174409229642802, 'lambda_l1': 0.016611452061679986, 'lambda_l2': 2.900789228546512, 'feature_fraction': 0.6619250731049198, 'bagging_fraction': 0.5666100992706169, 'bagging_freq': 3, 'min_child_samples': 81}. Best is trial 31 with value: 0.010586374808678904.\u001b[0m\n"
     ]
    },
    {
     "name": "stdout",
     "output_type": "stream",
     "text": [
      "[LightGBM] [Warning] lambda_l1 is set=0.26001214520718535, reg_alpha=0.0 will be ignored. Current value: lambda_l1=0.26001214520718535\n",
      "[LightGBM] [Warning] bagging_fraction is set=0.48930752241304626, subsample=1.0 will be ignored. Current value: bagging_fraction=0.48930752241304626\n",
      "[LightGBM] [Warning] lambda_l2 is set=1.0402860936526156e-08, reg_lambda=0.0 will be ignored. Current value: lambda_l2=1.0402860936526156e-08\n",
      "[LightGBM] [Warning] feature_fraction is set=0.6048255578221071, colsample_bytree=1.0 will be ignored. Current value: feature_fraction=0.6048255578221071\n",
      "[LightGBM] [Warning] bagging_freq is set=2, subsample_freq=0 will be ignored. Current value: bagging_freq=2\n"
     ]
    },
    {
     "name": "stderr",
     "output_type": "stream",
     "text": [
      "\u001b[32m[I 2021-07-08 12:44:47,892]\u001b[0m Trial 34 finished with value: 0.013439959897175911 and parameters: {'n_estimators': 250, 'num_leaves': 16, 'learning_rate': 0.05812955601973305, 'lambda_l1': 0.26001214520718535, 'lambda_l2': 1.0402860936526156e-08, 'feature_fraction': 0.6048255578221071, 'bagging_fraction': 0.48930752241304626, 'bagging_freq': 2, 'min_child_samples': 65}. Best is trial 31 with value: 0.010586374808678904.\u001b[0m\n"
     ]
    },
    {
     "name": "stdout",
     "output_type": "stream",
     "text": [
      "[LightGBM] [Warning] lambda_l1 is set=0.019960118784527397, reg_alpha=0.0 will be ignored. Current value: lambda_l1=0.019960118784527397\n",
      "[LightGBM] [Warning] bagging_fraction is set=0.7063125489778781, subsample=1.0 will be ignored. Current value: bagging_fraction=0.7063125489778781\n",
      "[LightGBM] [Warning] lambda_l2 is set=9.825674438554023, reg_lambda=0.0 will be ignored. Current value: lambda_l2=9.825674438554023\n",
      "[LightGBM] [Warning] feature_fraction is set=0.7263590890526774, colsample_bytree=1.0 will be ignored. Current value: feature_fraction=0.7263590890526774\n",
      "[LightGBM] [Warning] bagging_freq is set=4, subsample_freq=0 will be ignored. Current value: bagging_freq=4\n"
     ]
    },
    {
     "name": "stderr",
     "output_type": "stream",
     "text": [
      "\u001b[32m[I 2021-07-08 12:44:50,812]\u001b[0m Trial 35 finished with value: 0.012195093563588137 and parameters: {'n_estimators': 150, 'num_leaves': 19, 'learning_rate': 0.1649503314788248, 'lambda_l1': 0.019960118784527397, 'lambda_l2': 9.825674438554023, 'feature_fraction': 0.7263590890526774, 'bagging_fraction': 0.7063125489778781, 'bagging_freq': 4, 'min_child_samples': 77}. Best is trial 31 with value: 0.010586374808678904.\u001b[0m\n"
     ]
    },
    {
     "name": "stdout",
     "output_type": "stream",
     "text": [
      "[LightGBM] [Warning] lambda_l1 is set=0.40881364268435294, reg_alpha=0.0 will be ignored. Current value: lambda_l1=0.40881364268435294\n",
      "[LightGBM] [Warning] bagging_fraction is set=0.552897104773597, subsample=1.0 will be ignored. Current value: bagging_fraction=0.552897104773597\n",
      "[LightGBM] [Warning] lambda_l2 is set=0.12898912275285418, reg_lambda=0.0 will be ignored. Current value: lambda_l2=0.12898912275285418\n",
      "[LightGBM] [Warning] feature_fraction is set=0.8245630293744568, colsample_bytree=1.0 will be ignored. Current value: feature_fraction=0.8245630293744568\n",
      "[LightGBM] [Warning] bagging_freq is set=3, subsample_freq=0 will be ignored. Current value: bagging_freq=3\n"
     ]
    },
    {
     "name": "stderr",
     "output_type": "stream",
     "text": [
      "\u001b[32m[I 2021-07-08 12:44:52,924]\u001b[0m Trial 36 finished with value: 0.013507404196656341 and parameters: {'n_estimators': 150, 'num_leaves': 16, 'learning_rate': 0.11380348415653754, 'lambda_l1': 0.40881364268435294, 'lambda_l2': 0.12898912275285418, 'feature_fraction': 0.8245630293744568, 'bagging_fraction': 0.552897104773597, 'bagging_freq': 3, 'min_child_samples': 58}. Best is trial 31 with value: 0.010586374808678904.\u001b[0m\n"
     ]
    },
    {
     "name": "stdout",
     "output_type": "stream",
     "text": [
      "[LightGBM] [Warning] lambda_l1 is set=3.96763164398429e-08, reg_alpha=0.0 will be ignored. Current value: lambda_l1=3.96763164398429e-08\n",
      "[LightGBM] [Warning] bagging_fraction is set=0.7698946753039295, subsample=1.0 will be ignored. Current value: bagging_fraction=0.7698946753039295\n",
      "[LightGBM] [Warning] lambda_l2 is set=0.014045430270773011, reg_lambda=0.0 will be ignored. Current value: lambda_l2=0.014045430270773011\n",
      "[LightGBM] [Warning] feature_fraction is set=0.8462799877493478, colsample_bytree=1.0 will be ignored. Current value: feature_fraction=0.8462799877493478\n",
      "[LightGBM] [Warning] bagging_freq is set=4, subsample_freq=0 will be ignored. Current value: bagging_freq=4\n"
     ]
    },
    {
     "name": "stderr",
     "output_type": "stream",
     "text": [
      "\u001b[32m[I 2021-07-08 12:44:57,407]\u001b[0m Trial 37 finished with value: 0.01625411533824051 and parameters: {'n_estimators': 250, 'num_leaves': 19, 'learning_rate': 0.19063546221861932, 'lambda_l1': 3.96763164398429e-08, 'lambda_l2': 0.014045430270773011, 'feature_fraction': 0.8462799877493478, 'bagging_fraction': 0.7698946753039295, 'bagging_freq': 4, 'min_child_samples': 91}. Best is trial 31 with value: 0.010586374808678904.\u001b[0m\n"
     ]
    },
    {
     "name": "stdout",
     "output_type": "stream",
     "text": [
      "[LightGBM] [Warning] lambda_l1 is set=0.0010142896147108703, reg_alpha=0.0 will be ignored. Current value: lambda_l1=0.0010142896147108703\n",
      "[LightGBM] [Warning] bagging_fraction is set=0.6807461443031627, subsample=1.0 will be ignored. Current value: bagging_fraction=0.6807461443031627\n",
      "[LightGBM] [Warning] lambda_l2 is set=4.242949868479563, reg_lambda=0.0 will be ignored. Current value: lambda_l2=4.242949868479563\n",
      "[LightGBM] [Warning] feature_fraction is set=0.5338212305715075, colsample_bytree=1.0 will be ignored. Current value: feature_fraction=0.5338212305715075\n",
      "[LightGBM] [Warning] bagging_freq is set=6, subsample_freq=0 will be ignored. Current value: bagging_freq=6\n"
     ]
    },
    {
     "name": "stderr",
     "output_type": "stream",
     "text": [
      "\u001b[32m[I 2021-07-08 12:45:00,510]\u001b[0m Trial 38 finished with value: 0.011184705334108412 and parameters: {'n_estimators': 200, 'num_leaves': 17, 'learning_rate': 0.23848499900077014, 'lambda_l1': 0.0010142896147108703, 'lambda_l2': 4.242949868479563, 'feature_fraction': 0.5338212305715075, 'bagging_fraction': 0.6807461443031627, 'bagging_freq': 6, 'min_child_samples': 86}. Best is trial 31 with value: 0.010586374808678904.\u001b[0m\n"
     ]
    },
    {
     "name": "stdout",
     "output_type": "stream",
     "text": [
      "[LightGBM] [Warning] lambda_l1 is set=0.0009184451909022432, reg_alpha=0.0 will be ignored. Current value: lambda_l1=0.0009184451909022432\n",
      "[LightGBM] [Warning] bagging_fraction is set=0.878313184115971, subsample=1.0 will be ignored. Current value: bagging_fraction=0.878313184115971\n",
      "[LightGBM] [Warning] lambda_l2 is set=5.281056374098029, reg_lambda=0.0 will be ignored. Current value: lambda_l2=5.281056374098029\n",
      "[LightGBM] [Warning] feature_fraction is set=0.5258089256111904, colsample_bytree=1.0 will be ignored. Current value: feature_fraction=0.5258089256111904\n",
      "[LightGBM] [Warning] bagging_freq is set=6, subsample_freq=0 will be ignored. Current value: bagging_freq=6\n"
     ]
    },
    {
     "name": "stderr",
     "output_type": "stream",
     "text": [
      "\u001b[32m[I 2021-07-08 12:45:04,121]\u001b[0m Trial 39 finished with value: 0.01139083482037332 and parameters: {'n_estimators': 200, 'num_leaves': 22, 'learning_rate': 0.543787922388375, 'lambda_l1': 0.0009184451909022432, 'lambda_l2': 5.281056374098029, 'feature_fraction': 0.5258089256111904, 'bagging_fraction': 0.878313184115971, 'bagging_freq': 6, 'min_child_samples': 84}. Best is trial 31 with value: 0.010586374808678904.\u001b[0m\n"
     ]
    },
    {
     "name": "stdout",
     "output_type": "stream",
     "text": [
      "[LightGBM] [Warning] lambda_l1 is set=9.789718576790147e-05, reg_alpha=0.0 will be ignored. Current value: lambda_l1=9.789718576790147e-05\n",
      "[LightGBM] [Warning] bagging_fraction is set=0.9108389604495541, subsample=1.0 will be ignored. Current value: bagging_fraction=0.9108389604495541\n",
      "[LightGBM] [Warning] lambda_l2 is set=0.10984131982204708, reg_lambda=0.0 will be ignored. Current value: lambda_l2=0.10984131982204708\n",
      "[LightGBM] [Warning] feature_fraction is set=0.5096540822177633, colsample_bytree=1.0 will be ignored. Current value: feature_fraction=0.5096540822177633\n",
      "[LightGBM] [Warning] bagging_freq is set=6, subsample_freq=0 will be ignored. Current value: bagging_freq=6\n"
     ]
    },
    {
     "name": "stderr",
     "output_type": "stream",
     "text": [
      "\u001b[32m[I 2021-07-08 12:45:06,810]\u001b[0m Trial 40 finished with value: 0.8445297603626815 and parameters: {'n_estimators': 200, 'num_leaves': 26, 'learning_rate': 0.5834723864009927, 'lambda_l1': 9.789718576790147e-05, 'lambda_l2': 0.10984131982204708, 'feature_fraction': 0.5096540822177633, 'bagging_fraction': 0.9108389604495541, 'bagging_freq': 6, 'min_child_samples': 84}. Best is trial 31 with value: 0.010586374808678904.\u001b[0m\n"
     ]
    },
    {
     "name": "stdout",
     "output_type": "stream",
     "text": [
      "[LightGBM] [Warning] lambda_l1 is set=0.0010797175948809629, reg_alpha=0.0 will be ignored. Current value: lambda_l1=0.0010797175948809629\n",
      "[LightGBM] [Warning] bagging_fraction is set=0.853696610510952, subsample=1.0 will be ignored. Current value: bagging_fraction=0.853696610510952\n",
      "[LightGBM] [Warning] lambda_l2 is set=5.069282289429096, reg_lambda=0.0 will be ignored. Current value: lambda_l2=5.069282289429096\n",
      "[LightGBM] [Warning] feature_fraction is set=0.5408402835529017, colsample_bytree=1.0 will be ignored. Current value: feature_fraction=0.5408402835529017\n",
      "[LightGBM] [Warning] bagging_freq is set=6, subsample_freq=0 will be ignored. Current value: bagging_freq=6\n"
     ]
    },
    {
     "name": "stderr",
     "output_type": "stream",
     "text": [
      "\u001b[32m[I 2021-07-08 12:45:10,402]\u001b[0m Trial 41 finished with value: 0.010202938923870626 and parameters: {'n_estimators': 200, 'num_leaves': 30, 'learning_rate': 0.24943761579088314, 'lambda_l1': 0.0010797175948809629, 'lambda_l2': 5.069282289429096, 'feature_fraction': 0.5408402835529017, 'bagging_fraction': 0.853696610510952, 'bagging_freq': 6, 'min_child_samples': 89}. Best is trial 41 with value: 0.010202938923870626.\u001b[0m\n"
     ]
    },
    {
     "name": "stdout",
     "output_type": "stream",
     "text": [
      "[LightGBM] [Warning] lambda_l1 is set=0.0010717489706928045, reg_alpha=0.0 will be ignored. Current value: lambda_l1=0.0010717489706928045\n",
      "[LightGBM] [Warning] bagging_fraction is set=0.8284452696972061, subsample=1.0 will be ignored. Current value: bagging_fraction=0.8284452696972061\n",
      "[LightGBM] [Warning] lambda_l2 is set=9.465002067023095, reg_lambda=0.0 will be ignored. Current value: lambda_l2=9.465002067023095\n",
      "[LightGBM] [Warning] feature_fraction is set=0.4709663626754216, colsample_bytree=1.0 will be ignored. Current value: feature_fraction=0.4709663626754216\n",
      "[LightGBM] [Warning] bagging_freq is set=6, subsample_freq=0 will be ignored. Current value: bagging_freq=6\n"
     ]
    },
    {
     "name": "stderr",
     "output_type": "stream",
     "text": [
      "\u001b[32m[I 2021-07-08 12:45:13,711]\u001b[0m Trial 42 finished with value: 0.010015277886790503 and parameters: {'n_estimators': 200, 'num_leaves': 31, 'learning_rate': 0.2566634700408301, 'lambda_l1': 0.0010717489706928045, 'lambda_l2': 9.465002067023095, 'feature_fraction': 0.4709663626754216, 'bagging_fraction': 0.8284452696972061, 'bagging_freq': 6, 'min_child_samples': 89}. Best is trial 42 with value: 0.010015277886790503.\u001b[0m\n"
     ]
    },
    {
     "name": "stdout",
     "output_type": "stream",
     "text": [
      "[LightGBM] [Warning] lambda_l1 is set=0.0011321336632776448, reg_alpha=0.0 will be ignored. Current value: lambda_l1=0.0011321336632776448\n",
      "[LightGBM] [Warning] bagging_fraction is set=0.8383979383502668, subsample=1.0 will be ignored. Current value: bagging_fraction=0.8383979383502668\n",
      "[LightGBM] [Warning] lambda_l2 is set=1.2214573155316626, reg_lambda=0.0 will be ignored. Current value: lambda_l2=1.2214573155316626\n",
      "[LightGBM] [Warning] feature_fraction is set=0.47037902364842193, colsample_bytree=1.0 will be ignored. Current value: feature_fraction=0.47037902364842193\n",
      "[LightGBM] [Warning] bagging_freq is set=6, subsample_freq=0 will be ignored. Current value: bagging_freq=6\n"
     ]
    },
    {
     "name": "stderr",
     "output_type": "stream",
     "text": [
      "\u001b[32m[I 2021-07-08 12:45:17,039]\u001b[0m Trial 43 finished with value: 0.011706641353562686 and parameters: {'n_estimators': 200, 'num_leaves': 31, 'learning_rate': 0.23613677349867435, 'lambda_l1': 0.0011321336632776448, 'lambda_l2': 1.2214573155316626, 'feature_fraction': 0.47037902364842193, 'bagging_fraction': 0.8383979383502668, 'bagging_freq': 6, 'min_child_samples': 92}. Best is trial 42 with value: 0.010015277886790503.\u001b[0m\n"
     ]
    },
    {
     "name": "stdout",
     "output_type": "stream",
     "text": [
      "[LightGBM] [Warning] lambda_l1 is set=4.1619350965038365e-06, reg_alpha=0.0 will be ignored. Current value: lambda_l1=4.1619350965038365e-06\n",
      "[LightGBM] [Warning] bagging_fraction is set=0.9468059150390183, subsample=1.0 will be ignored. Current value: bagging_fraction=0.9468059150390183\n",
      "[LightGBM] [Warning] lambda_l2 is set=9.78539579520295, reg_lambda=0.0 will be ignored. Current value: lambda_l2=9.78539579520295\n",
      "[LightGBM] [Warning] feature_fraction is set=0.4181225024679638, colsample_bytree=1.0 will be ignored. Current value: feature_fraction=0.4181225024679638\n",
      "[LightGBM] [Warning] bagging_freq is set=7, subsample_freq=0 will be ignored. Current value: bagging_freq=7\n"
     ]
    },
    {
     "name": "stderr",
     "output_type": "stream",
     "text": [
      "\u001b[32m[I 2021-07-08 12:45:20,353]\u001b[0m Trial 44 finished with value: 0.011811095229437745 and parameters: {'n_estimators': 200, 'num_leaves': 34, 'learning_rate': 0.3202836826165655, 'lambda_l1': 4.1619350965038365e-06, 'lambda_l2': 9.78539579520295, 'feature_fraction': 0.4181225024679638, 'bagging_fraction': 0.9468059150390183, 'bagging_freq': 7, 'min_child_samples': 87}. Best is trial 42 with value: 0.010015277886790503.\u001b[0m\n"
     ]
    },
    {
     "name": "stdout",
     "output_type": "stream",
     "text": [
      "[LightGBM] [Warning] lambda_l1 is set=0.0005461450928195228, reg_alpha=0.0 will be ignored. Current value: lambda_l1=0.0005461450928195228\n",
      "[LightGBM] [Warning] bagging_fraction is set=0.7888209271979725, subsample=1.0 will be ignored. Current value: bagging_fraction=0.7888209271979725\n",
      "[LightGBM] [Warning] lambda_l2 is set=4.0378004434851205, reg_lambda=0.0 will be ignored. Current value: lambda_l2=4.0378004434851205\n",
      "[LightGBM] [Warning] feature_fraction is set=0.46548424476760597, colsample_bytree=1.0 will be ignored. Current value: feature_fraction=0.46548424476760597\n",
      "[LightGBM] [Warning] bagging_freq is set=6, subsample_freq=0 will be ignored. Current value: bagging_freq=6\n"
     ]
    },
    {
     "name": "stderr",
     "output_type": "stream",
     "text": [
      "\u001b[32m[I 2021-07-08 12:45:23,539]\u001b[0m Trial 45 finished with value: 0.01037423858900243 and parameters: {'n_estimators': 200, 'num_leaves': 30, 'learning_rate': 0.2741134603678831, 'lambda_l1': 0.0005461450928195228, 'lambda_l2': 4.0378004434851205, 'feature_fraction': 0.46548424476760597, 'bagging_fraction': 0.7888209271979725, 'bagging_freq': 6, 'min_child_samples': 89}. Best is trial 42 with value: 0.010015277886790503.\u001b[0m\n"
     ]
    },
    {
     "name": "stdout",
     "output_type": "stream",
     "text": [
      "[LightGBM] [Warning] lambda_l1 is set=0.0005921680373154641, reg_alpha=0.0 will be ignored. Current value: lambda_l1=0.0005921680373154641\n",
      "[LightGBM] [Warning] bagging_fraction is set=0.782626777719867, subsample=1.0 will be ignored. Current value: bagging_fraction=0.782626777719867\n",
      "[LightGBM] [Warning] lambda_l2 is set=0.30826936092629603, reg_lambda=0.0 will be ignored. Current value: lambda_l2=0.30826936092629603\n",
      "[LightGBM] [Warning] feature_fraction is set=0.46448276854310255, colsample_bytree=1.0 will be ignored. Current value: feature_fraction=0.46448276854310255\n",
      "[LightGBM] [Warning] bagging_freq is set=5, subsample_freq=0 will be ignored. Current value: bagging_freq=5\n"
     ]
    },
    {
     "name": "stderr",
     "output_type": "stream",
     "text": [
      "\u001b[32m[I 2021-07-08 12:45:26,492]\u001b[0m Trial 46 finished with value: 0.02044567386146776 and parameters: {'n_estimators': 200, 'num_leaves': 30, 'learning_rate': 0.37030071838186973, 'lambda_l1': 0.0005921680373154641, 'lambda_l2': 0.30826936092629603, 'feature_fraction': 0.46448276854310255, 'bagging_fraction': 0.782626777719867, 'bagging_freq': 5, 'min_child_samples': 93}. Best is trial 42 with value: 0.010015277886790503.\u001b[0m\n"
     ]
    },
    {
     "name": "stdout",
     "output_type": "stream",
     "text": [
      "[LightGBM] [Warning] lambda_l1 is set=0.00016733671434545776, reg_alpha=0.0 will be ignored. Current value: lambda_l1=0.00016733671434545776\n",
      "[LightGBM] [Warning] bagging_fraction is set=0.8412902398761515, subsample=1.0 will be ignored. Current value: bagging_fraction=0.8412902398761515\n",
      "[LightGBM] [Warning] lambda_l2 is set=9.812582806459689e-05, reg_lambda=0.0 will be ignored. Current value: lambda_l2=9.812582806459689e-05\n",
      "[LightGBM] [Warning] feature_fraction is set=0.6188440069298804, colsample_bytree=1.0 will be ignored. Current value: feature_fraction=0.6188440069298804\n",
      "[LightGBM] [Warning] bagging_freq is set=7, subsample_freq=0 will be ignored. Current value: bagging_freq=7\n"
     ]
    },
    {
     "name": "stderr",
     "output_type": "stream",
     "text": [
      "\u001b[32m[I 2021-07-08 12:45:30,185]\u001b[0m Trial 47 finished with value: 0.015527536376819145 and parameters: {'n_estimators': 200, 'num_leaves': 29, 'learning_rate': 0.08768490007800958, 'lambda_l1': 0.00016733671434545776, 'lambda_l2': 9.812582806459689e-05, 'feature_fraction': 0.6188440069298804, 'bagging_fraction': 0.8412902398761515, 'bagging_freq': 7, 'min_child_samples': 73}. Best is trial 42 with value: 0.010015277886790503.\u001b[0m\n"
     ]
    },
    {
     "name": "stdout",
     "output_type": "stream",
     "text": [
      "[LightGBM] [Warning] lambda_l1 is set=2.402002789194294e-05, reg_alpha=0.0 will be ignored. Current value: lambda_l1=2.402002789194294e-05\n",
      "[LightGBM] [Warning] bagging_fraction is set=0.8876057345141705, subsample=1.0 will be ignored. Current value: bagging_fraction=0.8876057345141705\n",
      "[LightGBM] [Warning] lambda_l2 is set=1.8993426043396897, reg_lambda=0.0 will be ignored. Current value: lambda_l2=1.8993426043396897\n",
      "[LightGBM] [Warning] feature_fraction is set=0.41323822417585576, colsample_bytree=1.0 will be ignored. Current value: feature_fraction=0.41323822417585576\n",
      "[LightGBM] [Warning] bagging_freq is set=6, subsample_freq=0 will be ignored. Current value: bagging_freq=6\n"
     ]
    },
    {
     "name": "stderr",
     "output_type": "stream",
     "text": [
      "\u001b[32m[I 2021-07-08 12:45:33,274]\u001b[0m Trial 48 finished with value: 0.015893212501584188 and parameters: {'n_estimators': 200, 'num_leaves': 33, 'learning_rate': 0.4852528058926951, 'lambda_l1': 2.402002789194294e-05, 'lambda_l2': 1.8993426043396897, 'feature_fraction': 0.41323822417585576, 'bagging_fraction': 0.8876057345141705, 'bagging_freq': 6, 'min_child_samples': 100}. Best is trial 42 with value: 0.010015277886790503.\u001b[0m\n"
     ]
    },
    {
     "name": "stdout",
     "output_type": "stream",
     "text": [
      "[LightGBM] [Warning] lambda_l1 is set=2.1018069121551604e-06, reg_alpha=0.0 will be ignored. Current value: lambda_l1=2.1018069121551604e-06\n",
      "[LightGBM] [Warning] bagging_fraction is set=0.8399637715753058, subsample=1.0 will be ignored. Current value: bagging_fraction=0.8399637715753058\n",
      "[LightGBM] [Warning] lambda_l2 is set=0.6823265116996131, reg_lambda=0.0 will be ignored. Current value: lambda_l2=0.6823265116996131\n",
      "[LightGBM] [Warning] feature_fraction is set=0.47054246012143086, colsample_bytree=1.0 will be ignored. Current value: feature_fraction=0.47054246012143086\n",
      "[LightGBM] [Warning] bagging_freq is set=5, subsample_freq=0 will be ignored. Current value: bagging_freq=5\n"
     ]
    },
    {
     "name": "stderr",
     "output_type": "stream",
     "text": [
      "\u001b[32m[I 2021-07-08 12:45:36,638]\u001b[0m Trial 49 finished with value: 0.011202630029978903 and parameters: {'n_estimators': 200, 'num_leaves': 35, 'learning_rate': 0.20252081175239287, 'lambda_l1': 2.1018069121551604e-06, 'lambda_l2': 0.6823265116996131, 'feature_fraction': 0.47054246012143086, 'bagging_fraction': 0.8399637715753058, 'bagging_freq': 5, 'min_child_samples': 81}. Best is trial 42 with value: 0.010015277886790503.\u001b[0m\n"
     ]
    },
    {
     "name": "stdout",
     "output_type": "stream",
     "text": [
      "[LightGBM] [Warning] lambda_l1 is set=0.00014863288356394745, reg_alpha=0.0 will be ignored. Current value: lambda_l1=0.00014863288356394745\n",
      "[LightGBM] [Warning] bagging_fraction is set=0.7525553492493481, subsample=1.0 will be ignored. Current value: bagging_fraction=0.7525553492493481\n",
      "[LightGBM] [Warning] lambda_l2 is set=3.3378806979229534e-06, reg_lambda=0.0 will be ignored. Current value: lambda_l2=3.3378806979229534e-06\n",
      "[LightGBM] [Warning] feature_fraction is set=0.5652074512253505, colsample_bytree=1.0 will be ignored. Current value: feature_fraction=0.5652074512253505\n",
      "[LightGBM] [Warning] bagging_freq is set=7, subsample_freq=0 will be ignored. Current value: bagging_freq=7\n"
     ]
    },
    {
     "name": "stderr",
     "output_type": "stream",
     "text": [
      "\u001b[32m[I 2021-07-08 12:45:38,692]\u001b[0m Trial 50 finished with value: 13.67821987520203 and parameters: {'n_estimators': 200, 'num_leaves': 28, 'learning_rate': 0.2681873868697596, 'lambda_l1': 0.00014863288356394745, 'lambda_l2': 3.3378806979229534e-06, 'feature_fraction': 0.5652074512253505, 'bagging_fraction': 0.7525553492493481, 'bagging_freq': 7, 'min_child_samples': 89}. Best is trial 42 with value: 0.010015277886790503.\u001b[0m\n"
     ]
    },
    {
     "name": "stdout",
     "output_type": "stream",
     "text": [
      "[LightGBM] [Warning] lambda_l1 is set=0.0018750622740815012, reg_alpha=0.0 will be ignored. Current value: lambda_l1=0.0018750622740815012\n",
      "[LightGBM] [Warning] bagging_fraction is set=0.7876443768801613, subsample=1.0 will be ignored. Current value: bagging_fraction=0.7876443768801613\n",
      "[LightGBM] [Warning] lambda_l2 is set=4.619215741698179, reg_lambda=0.0 will be ignored. Current value: lambda_l2=4.619215741698179\n",
      "[LightGBM] [Warning] feature_fraction is set=0.5300516746138038, colsample_bytree=1.0 will be ignored. Current value: feature_fraction=0.5300516746138038\n",
      "[LightGBM] [Warning] bagging_freq is set=6, subsample_freq=0 will be ignored. Current value: bagging_freq=6\n"
     ]
    },
    {
     "name": "stderr",
     "output_type": "stream",
     "text": [
      "\u001b[32m[I 2021-07-08 12:45:42,052]\u001b[0m Trial 51 finished with value: 0.011080572961372877 and parameters: {'n_estimators': 200, 'num_leaves': 29, 'learning_rate': 0.2357761500601474, 'lambda_l1': 0.0018750622740815012, 'lambda_l2': 4.619215741698179, 'feature_fraction': 0.5300516746138038, 'bagging_fraction': 0.7876443768801613, 'bagging_freq': 6, 'min_child_samples': 95}. Best is trial 42 with value: 0.010015277886790503.\u001b[0m\n"
     ]
    },
    {
     "name": "stdout",
     "output_type": "stream",
     "text": [
      "[LightGBM] [Warning] lambda_l1 is set=0.0021589989101250414, reg_alpha=0.0 will be ignored. Current value: lambda_l1=0.0021589989101250414\n",
      "[LightGBM] [Warning] bagging_fraction is set=0.8031332052962092, subsample=1.0 will be ignored. Current value: bagging_fraction=0.8031332052962092\n",
      "[LightGBM] [Warning] lambda_l2 is set=9.532204990177773, reg_lambda=0.0 will be ignored. Current value: lambda_l2=9.532204990177773\n",
      "[LightGBM] [Warning] feature_fraction is set=0.44689756461910074, colsample_bytree=1.0 will be ignored. Current value: feature_fraction=0.44689756461910074\n",
      "[LightGBM] [Warning] bagging_freq is set=6, subsample_freq=0 will be ignored. Current value: bagging_freq=6\n"
     ]
    },
    {
     "name": "stderr",
     "output_type": "stream",
     "text": [
      "\u001b[32m[I 2021-07-08 12:45:45,200]\u001b[0m Trial 52 finished with value: 0.010923274540376837 and parameters: {'n_estimators': 200, 'num_leaves': 31, 'learning_rate': 0.19294960080527723, 'lambda_l1': 0.0021589989101250414, 'lambda_l2': 9.532204990177773, 'feature_fraction': 0.44689756461910074, 'bagging_fraction': 0.8031332052962092, 'bagging_freq': 6, 'min_child_samples': 93}. Best is trial 42 with value: 0.010015277886790503.\u001b[0m\n"
     ]
    },
    {
     "name": "stdout",
     "output_type": "stream",
     "text": [
      "[LightGBM] [Warning] lambda_l1 is set=0.012234048798074201, reg_alpha=0.0 will be ignored. Current value: lambda_l1=0.012234048798074201\n",
      "[LightGBM] [Warning] bagging_fraction is set=0.7968945827001034, subsample=1.0 will be ignored. Current value: bagging_fraction=0.7968945827001034\n",
      "[LightGBM] [Warning] lambda_l2 is set=4.496195075756792, reg_lambda=0.0 will be ignored. Current value: lambda_l2=4.496195075756792\n",
      "[LightGBM] [Warning] feature_fraction is set=0.4422790027086795, colsample_bytree=1.0 will be ignored. Current value: feature_fraction=0.4422790027086795\n",
      "[LightGBM] [Warning] bagging_freq is set=6, subsample_freq=0 will be ignored. Current value: bagging_freq=6\n"
     ]
    },
    {
     "name": "stderr",
     "output_type": "stream",
     "text": [
      "\u001b[32m[I 2021-07-08 12:45:48,221]\u001b[0m Trial 53 finished with value: 0.0112756982608895 and parameters: {'n_estimators': 200, 'num_leaves': 31, 'learning_rate': 0.2931685035984008, 'lambda_l1': 0.012234048798074201, 'lambda_l2': 4.496195075756792, 'feature_fraction': 0.4422790027086795, 'bagging_fraction': 0.7968945827001034, 'bagging_freq': 6, 'min_child_samples': 96}. Best is trial 42 with value: 0.010015277886790503.\u001b[0m\n"
     ]
    },
    {
     "name": "stdout",
     "output_type": "stream",
     "text": [
      "[LightGBM] [Warning] lambda_l1 is set=0.0017249662270787606, reg_alpha=0.0 will be ignored. Current value: lambda_l1=0.0017249662270787606\n",
      "[LightGBM] [Warning] bagging_fraction is set=0.8177389804720697, subsample=1.0 will be ignored. Current value: bagging_fraction=0.8177389804720697\n",
      "[LightGBM] [Warning] lambda_l2 is set=1.5692888727231684, reg_lambda=0.0 will be ignored. Current value: lambda_l2=1.5692888727231684\n",
      "[LightGBM] [Warning] feature_fraction is set=0.4358668337205209, colsample_bytree=1.0 will be ignored. Current value: feature_fraction=0.4358668337205209\n",
      "[LightGBM] [Warning] bagging_freq is set=6, subsample_freq=0 will be ignored. Current value: bagging_freq=6\n"
     ]
    },
    {
     "name": "stderr",
     "output_type": "stream",
     "text": [
      "\u001b[32m[I 2021-07-08 12:45:51,392]\u001b[0m Trial 54 finished with value: 0.012017620221725343 and parameters: {'n_estimators': 200, 'num_leaves': 32, 'learning_rate': 0.2134444895865738, 'lambda_l1': 0.0017249662270787606, 'lambda_l2': 1.5692888727231684, 'feature_fraction': 0.4358668337205209, 'bagging_fraction': 0.8177389804720697, 'bagging_freq': 6, 'min_child_samples': 77}. Best is trial 42 with value: 0.010015277886790503.\u001b[0m\n"
     ]
    },
    {
     "name": "stdout",
     "output_type": "stream",
     "text": [
      "[LightGBM] [Warning] lambda_l1 is set=0.0003582945362242854, reg_alpha=0.0 will be ignored. Current value: lambda_l1=0.0003582945362242854\n",
      "[LightGBM] [Warning] bagging_fraction is set=0.8600956958763737, subsample=1.0 will be ignored. Current value: bagging_fraction=0.8600956958763737\n",
      "[LightGBM] [Warning] lambda_l2 is set=0.04507500786338714, reg_lambda=0.0 will be ignored. Current value: lambda_l2=0.04507500786338714\n",
      "[LightGBM] [Warning] feature_fraction is set=0.4850678715261817, colsample_bytree=1.0 will be ignored. Current value: feature_fraction=0.4850678715261817\n",
      "[LightGBM] [Warning] bagging_freq is set=5, subsample_freq=0 will be ignored. Current value: bagging_freq=5\n"
     ]
    },
    {
     "name": "stderr",
     "output_type": "stream",
     "text": [
      "\u001b[32m[I 2021-07-08 12:45:54,178]\u001b[0m Trial 55 finished with value: 0.0560254921499288 and parameters: {'n_estimators': 200, 'num_leaves': 29, 'learning_rate': 0.34408523900157933, 'lambda_l1': 0.0003582945362242854, 'lambda_l2': 0.04507500786338714, 'feature_fraction': 0.4850678715261817, 'bagging_fraction': 0.8600956958763737, 'bagging_freq': 5, 'min_child_samples': 94}. Best is trial 42 with value: 0.010015277886790503.\u001b[0m\n"
     ]
    },
    {
     "name": "stdout",
     "output_type": "stream",
     "text": [
      "[LightGBM] [Warning] lambda_l1 is set=0.009698256972840156, reg_alpha=0.0 will be ignored. Current value: lambda_l1=0.009698256972840156\n",
      "[LightGBM] [Warning] bagging_fraction is set=0.7453652928969172, subsample=1.0 will be ignored. Current value: bagging_fraction=0.7453652928969172\n",
      "[LightGBM] [Warning] lambda_l2 is set=9.043650219836696, reg_lambda=0.0 will be ignored. Current value: lambda_l2=9.043650219836696\n",
      "[LightGBM] [Warning] feature_fraction is set=0.5361975265186607, colsample_bytree=1.0 will be ignored. Current value: feature_fraction=0.5361975265186607\n",
      "[LightGBM] [Warning] bagging_freq is set=7, subsample_freq=0 will be ignored. Current value: bagging_freq=7\n"
     ]
    },
    {
     "name": "stderr",
     "output_type": "stream",
     "text": [
      "\u001b[32m[I 2021-07-08 12:45:57,461]\u001b[0m Trial 56 finished with value: 0.010435143584607377 and parameters: {'n_estimators': 200, 'num_leaves': 27, 'learning_rate': 0.16505944043038526, 'lambda_l1': 0.009698256972840156, 'lambda_l2': 9.043650219836696, 'feature_fraction': 0.5361975265186607, 'bagging_fraction': 0.7453652928969172, 'bagging_freq': 7, 'min_child_samples': 89}. Best is trial 42 with value: 0.010015277886790503.\u001b[0m\n"
     ]
    },
    {
     "name": "stdout",
     "output_type": "stream",
     "text": [
      "[LightGBM] [Warning] lambda_l1 is set=0.00022873159441318716, reg_alpha=0.0 will be ignored. Current value: lambda_l1=0.00022873159441318716\n",
      "[LightGBM] [Warning] bagging_fraction is set=0.74074912416275, subsample=1.0 will be ignored. Current value: bagging_fraction=0.74074912416275\n",
      "[LightGBM] [Warning] lambda_l2 is set=9.119290520045668, reg_lambda=0.0 will be ignored. Current value: lambda_l2=9.119290520045668\n",
      "[LightGBM] [Warning] feature_fraction is set=0.40224857321685636, colsample_bytree=1.0 will be ignored. Current value: feature_fraction=0.40224857321685636\n",
      "[LightGBM] [Warning] bagging_freq is set=7, subsample_freq=0 will be ignored. Current value: bagging_freq=7\n"
     ]
    },
    {
     "name": "stderr",
     "output_type": "stream",
     "text": [
      "\u001b[32m[I 2021-07-08 12:46:00,746]\u001b[0m Trial 57 finished with value: 0.011863585482282403 and parameters: {'n_estimators': 200, 'num_leaves': 26, 'learning_rate': 0.16960715144715793, 'lambda_l1': 0.00022873159441318716, 'lambda_l2': 9.119290520045668, 'feature_fraction': 0.40224857321685636, 'bagging_fraction': 0.74074912416275, 'bagging_freq': 7, 'min_child_samples': 83}. Best is trial 42 with value: 0.010015277886790503.\u001b[0m\n"
     ]
    },
    {
     "name": "stdout",
     "output_type": "stream",
     "text": [
      "[LightGBM] [Warning] lambda_l1 is set=0.013310037080118112, reg_alpha=0.0 will be ignored. Current value: lambda_l1=0.013310037080118112\n",
      "[LightGBM] [Warning] bagging_fraction is set=0.7132861352059253, subsample=1.0 will be ignored. Current value: bagging_fraction=0.7132861352059253\n",
      "[LightGBM] [Warning] lambda_l2 is set=0.5816343798271962, reg_lambda=0.0 will be ignored. Current value: lambda_l2=0.5816343798271962\n",
      "[LightGBM] [Warning] feature_fraction is set=0.5839809472554998, colsample_bytree=1.0 will be ignored. Current value: feature_fraction=0.5839809472554998\n",
      "[LightGBM] [Warning] bagging_freq is set=7, subsample_freq=0 will be ignored. Current value: bagging_freq=7\n"
     ]
    },
    {
     "name": "stderr",
     "output_type": "stream",
     "text": [
      "\u001b[32m[I 2021-07-08 12:46:04,128]\u001b[0m Trial 58 finished with value: 0.011079888565285053 and parameters: {'n_estimators': 200, 'num_leaves': 38, 'learning_rate': 0.10078104324595925, 'lambda_l1': 0.013310037080118112, 'lambda_l2': 0.5816343798271962, 'feature_fraction': 0.5839809472554998, 'bagging_fraction': 0.7132861352059253, 'bagging_freq': 7, 'min_child_samples': 88}. Best is trial 42 with value: 0.010015277886790503.\u001b[0m\n"
     ]
    },
    {
     "name": "stdout",
     "output_type": "stream",
     "text": [
      "[LightGBM] [Warning] lambda_l1 is set=0.0030620966011768126, reg_alpha=0.0 will be ignored. Current value: lambda_l1=0.0030620966011768126\n",
      "[LightGBM] [Warning] bagging_fraction is set=0.761668386476525, subsample=1.0 will be ignored. Current value: bagging_fraction=0.761668386476525\n",
      "[LightGBM] [Warning] lambda_l2 is set=0.0008580230783596044, reg_lambda=0.0 will be ignored. Current value: lambda_l2=0.0008580230783596044\n",
      "[LightGBM] [Warning] feature_fraction is set=0.5487806952376687, colsample_bytree=1.0 will be ignored. Current value: feature_fraction=0.5487806952376687\n",
      "[LightGBM] [Warning] bagging_freq is set=7, subsample_freq=0 will be ignored. Current value: bagging_freq=7\n"
     ]
    },
    {
     "name": "stderr",
     "output_type": "stream",
     "text": [
      "\u001b[32m[I 2021-07-08 12:46:06,888]\u001b[0m Trial 59 finished with value: 0.013574517185601024 and parameters: {'n_estimators': 200, 'num_leaves': 35, 'learning_rate': 0.11990846790190114, 'lambda_l1': 0.0030620966011768126, 'lambda_l2': 0.0008580230783596044, 'feature_fraction': 0.5487806952376687, 'bagging_fraction': 0.761668386476525, 'bagging_freq': 7, 'min_child_samples': 79}. Best is trial 42 with value: 0.010015277886790503.\u001b[0m\n"
     ]
    },
    {
     "name": "stdout",
     "output_type": "stream",
     "text": [
      "[LightGBM] [Warning] lambda_l1 is set=0.09640886790827087, reg_alpha=0.0 will be ignored. Current value: lambda_l1=0.09640886790827087\n",
      "[LightGBM] [Warning] bagging_fraction is set=0.8154793228013136, subsample=1.0 will be ignored. Current value: bagging_fraction=0.8154793228013136\n",
      "[LightGBM] [Warning] lambda_l2 is set=9.578514438809956, reg_lambda=0.0 will be ignored. Current value: lambda_l2=9.578514438809956\n",
      "[LightGBM] [Warning] feature_fraction is set=0.44418337854233375, colsample_bytree=1.0 will be ignored. Current value: feature_fraction=0.44418337854233375\n",
      "[LightGBM] [Warning] bagging_freq is set=5, subsample_freq=0 will be ignored. Current value: bagging_freq=5\n"
     ]
    },
    {
     "name": "stderr",
     "output_type": "stream",
     "text": [
      "\u001b[32m[I 2021-07-08 12:46:09,980]\u001b[0m Trial 60 finished with value: 0.010626107980888446 and parameters: {'n_estimators': 200, 'num_leaves': 32, 'learning_rate': 0.15974236830417501, 'lambda_l1': 0.09640886790827087, 'lambda_l2': 9.578514438809956, 'feature_fraction': 0.44418337854233375, 'bagging_fraction': 0.8154793228013136, 'bagging_freq': 5, 'min_child_samples': 90}. Best is trial 42 with value: 0.010015277886790503.\u001b[0m\n"
     ]
    },
    {
     "name": "stdout",
     "output_type": "stream",
     "text": [
      "[LightGBM] [Warning] lambda_l1 is set=0.008009066445428668, reg_alpha=0.0 will be ignored. Current value: lambda_l1=0.008009066445428668\n",
      "[LightGBM] [Warning] bagging_fraction is set=0.8159699159420614, subsample=1.0 will be ignored. Current value: bagging_fraction=0.8159699159420614\n",
      "[LightGBM] [Warning] lambda_l2 is set=9.352865715996543, reg_lambda=0.0 will be ignored. Current value: lambda_l2=9.352865715996543\n",
      "[LightGBM] [Warning] feature_fraction is set=0.4411778830964176, colsample_bytree=1.0 will be ignored. Current value: feature_fraction=0.4411778830964176\n",
      "[LightGBM] [Warning] bagging_freq is set=5, subsample_freq=0 will be ignored. Current value: bagging_freq=5\n"
     ]
    },
    {
     "name": "stderr",
     "output_type": "stream",
     "text": [
      "\u001b[32m[I 2021-07-08 12:46:13,099]\u001b[0m Trial 61 finished with value: 0.010735383679560272 and parameters: {'n_estimators': 200, 'num_leaves': 32, 'learning_rate': 0.16140963641599476, 'lambda_l1': 0.008009066445428668, 'lambda_l2': 9.352865715996543, 'feature_fraction': 0.4411778830964176, 'bagging_fraction': 0.8159699159420614, 'bagging_freq': 5, 'min_child_samples': 91}. Best is trial 42 with value: 0.010015277886790503.\u001b[0m\n"
     ]
    },
    {
     "name": "stdout",
     "output_type": "stream",
     "text": [
      "[LightGBM] [Warning] lambda_l1 is set=0.08639626756697022, reg_alpha=0.0 will be ignored. Current value: lambda_l1=0.08639626756697022\n",
      "[LightGBM] [Warning] bagging_fraction is set=0.8267704855019425, subsample=1.0 will be ignored. Current value: bagging_fraction=0.8267704855019425\n",
      "[LightGBM] [Warning] lambda_l2 is set=1.3770072720669608, reg_lambda=0.0 will be ignored. Current value: lambda_l2=1.3770072720669608\n",
      "[LightGBM] [Warning] feature_fraction is set=0.48654724518903825, colsample_bytree=1.0 will be ignored. Current value: feature_fraction=0.48654724518903825\n",
      "[LightGBM] [Warning] bagging_freq is set=5, subsample_freq=0 will be ignored. Current value: bagging_freq=5\n"
     ]
    },
    {
     "name": "stderr",
     "output_type": "stream",
     "text": [
      "\u001b[32m[I 2021-07-08 12:46:15,909]\u001b[0m Trial 62 finished with value: 0.010110157417457731 and parameters: {'n_estimators': 200, 'num_leaves': 33, 'learning_rate': 0.1524012573377797, 'lambda_l1': 0.08639626756697022, 'lambda_l2': 1.3770072720669608, 'feature_fraction': 0.48654724518903825, 'bagging_fraction': 0.8267704855019425, 'bagging_freq': 5, 'min_child_samples': 90}. Best is trial 42 with value: 0.010015277886790503.\u001b[0m\n"
     ]
    },
    {
     "name": "stdout",
     "output_type": "stream",
     "text": [
      "[LightGBM] [Warning] lambda_l1 is set=0.11287155841908933, reg_alpha=0.0 will be ignored. Current value: lambda_l1=0.11287155841908933\n",
      "[LightGBM] [Warning] bagging_fraction is set=0.89904440202739, subsample=1.0 will be ignored. Current value: bagging_fraction=0.89904440202739\n",
      "[LightGBM] [Warning] lambda_l2 is set=1.6427592979303658, reg_lambda=0.0 will be ignored. Current value: lambda_l2=1.6427592979303658\n",
      "[LightGBM] [Warning] feature_fraction is set=0.4879306918986431, colsample_bytree=1.0 will be ignored. Current value: feature_fraction=0.4879306918986431\n",
      "[LightGBM] [Warning] bagging_freq is set=5, subsample_freq=0 will be ignored. Current value: bagging_freq=5\n"
     ]
    },
    {
     "name": "stderr",
     "output_type": "stream",
     "text": [
      "\u001b[32m[I 2021-07-08 12:46:18,697]\u001b[0m Trial 63 finished with value: 0.01038880883222419 and parameters: {'n_estimators': 200, 'num_leaves': 33, 'learning_rate': 0.15392011248863915, 'lambda_l1': 0.11287155841908933, 'lambda_l2': 1.6427592979303658, 'feature_fraction': 0.4879306918986431, 'bagging_fraction': 0.89904440202739, 'bagging_freq': 5, 'min_child_samples': 86}. Best is trial 42 with value: 0.010015277886790503.\u001b[0m\n"
     ]
    },
    {
     "name": "stdout",
     "output_type": "stream",
     "text": [
      "[LightGBM] [Warning] lambda_l1 is set=1.0382431148769036, reg_alpha=0.0 will be ignored. Current value: lambda_l1=1.0382431148769036\n",
      "[LightGBM] [Warning] bagging_fraction is set=0.9157544457978924, subsample=1.0 will be ignored. Current value: bagging_fraction=0.9157544457978924\n",
      "[LightGBM] [Warning] lambda_l2 is set=0.18798996283492062, reg_lambda=0.0 will be ignored. Current value: lambda_l2=0.18798996283492062\n",
      "[LightGBM] [Warning] feature_fraction is set=0.4816848901750928, colsample_bytree=1.0 will be ignored. Current value: feature_fraction=0.4816848901750928\n",
      "[LightGBM] [Warning] bagging_freq is set=5, subsample_freq=0 will be ignored. Current value: bagging_freq=5\n"
     ]
    },
    {
     "name": "stderr",
     "output_type": "stream",
     "text": [
      "\u001b[32m[I 2021-07-08 12:46:20,784]\u001b[0m Trial 64 finished with value: 0.014212615204553452 and parameters: {'n_estimators': 200, 'num_leaves': 36, 'learning_rate': 0.12084246077790538, 'lambda_l1': 1.0382431148769036, 'lambda_l2': 0.18798996283492062, 'feature_fraction': 0.4816848901750928, 'bagging_fraction': 0.9157544457978924, 'bagging_freq': 5, 'min_child_samples': 70}. Best is trial 42 with value: 0.010015277886790503.\u001b[0m\n"
     ]
    },
    {
     "name": "stdout",
     "output_type": "stream",
     "text": [
      "[LightGBM] [Warning] lambda_l1 is set=0.13976201017335688, reg_alpha=0.0 will be ignored. Current value: lambda_l1=0.13976201017335688\n",
      "[LightGBM] [Warning] bagging_fraction is set=0.8606001805821955, subsample=1.0 will be ignored. Current value: bagging_fraction=0.8606001805821955\n",
      "[LightGBM] [Warning] lambda_l2 is set=1.0787008834563425, reg_lambda=0.0 will be ignored. Current value: lambda_l2=1.0787008834563425\n",
      "[LightGBM] [Warning] feature_fraction is set=0.5103393733612508, colsample_bytree=1.0 will be ignored. Current value: feature_fraction=0.5103393733612508\n",
      "[LightGBM] [Warning] bagging_freq is set=5, subsample_freq=0 will be ignored. Current value: bagging_freq=5\n"
     ]
    },
    {
     "name": "stderr",
     "output_type": "stream",
     "text": [
      "\u001b[32m[I 2021-07-08 12:46:23,041]\u001b[0m Trial 65 finished with value: 0.011688497963947627 and parameters: {'n_estimators': 200, 'num_leaves': 33, 'learning_rate': 0.26534091720188846, 'lambda_l1': 0.13976201017335688, 'lambda_l2': 1.0787008834563425, 'feature_fraction': 0.5103393733612508, 'bagging_fraction': 0.8606001805821955, 'bagging_freq': 5, 'min_child_samples': 87}. Best is trial 42 with value: 0.010015277886790503.\u001b[0m\n"
     ]
    },
    {
     "name": "stdout",
     "output_type": "stream",
     "text": [
      "[LightGBM] [Warning] lambda_l1 is set=0.07946132923919359, reg_alpha=0.0 will be ignored. Current value: lambda_l1=0.07946132923919359\n",
      "[LightGBM] [Warning] bagging_fraction is set=0.8851900699769247, subsample=1.0 will be ignored. Current value: bagging_fraction=0.8851900699769247\n",
      "[LightGBM] [Warning] lambda_l2 is set=0.442762655943929, reg_lambda=0.0 will be ignored. Current value: lambda_l2=0.442762655943929\n",
      "[LightGBM] [Warning] feature_fraction is set=0.49597546892974287, colsample_bytree=1.0 will be ignored. Current value: feature_fraction=0.49597546892974287\n",
      "[LightGBM] [Warning] bagging_freq is set=4, subsample_freq=0 will be ignored. Current value: bagging_freq=4\n"
     ]
    },
    {
     "name": "stderr",
     "output_type": "stream",
     "text": [
      "\u001b[32m[I 2021-07-08 12:46:26,111]\u001b[0m Trial 66 finished with value: 0.011113911559491766 and parameters: {'n_estimators': 200, 'num_leaves': 30, 'learning_rate': 0.07716502425191102, 'lambda_l1': 0.07946132923919359, 'lambda_l2': 0.442762655943929, 'feature_fraction': 0.49597546892974287, 'bagging_fraction': 0.8851900699769247, 'bagging_freq': 4, 'min_child_samples': 97}. Best is trial 42 with value: 0.010015277886790503.\u001b[0m\n"
     ]
    },
    {
     "name": "stdout",
     "output_type": "stream",
     "text": [
      "[LightGBM] [Warning] lambda_l1 is set=0.025757449938713192, reg_alpha=0.0 will be ignored. Current value: lambda_l1=0.025757449938713192\n",
      "[LightGBM] [Warning] bagging_fraction is set=0.9174799930477201, subsample=1.0 will be ignored. Current value: bagging_fraction=0.9174799930477201\n",
      "[LightGBM] [Warning] lambda_l2 is set=3.405536408412949, reg_lambda=0.0 will be ignored. Current value: lambda_l2=3.405536408412949\n",
      "[LightGBM] [Warning] feature_fraction is set=0.5894417352754746, colsample_bytree=1.0 will be ignored. Current value: feature_fraction=0.5894417352754746\n",
      "[LightGBM] [Warning] bagging_freq is set=5, subsample_freq=0 will be ignored. Current value: bagging_freq=5\n"
     ]
    },
    {
     "name": "stderr",
     "output_type": "stream",
     "text": [
      "\u001b[32m[I 2021-07-08 12:46:30,850]\u001b[0m Trial 67 finished with value: 0.00967886438881175 and parameters: {'n_estimators': 250, 'num_leaves': 34, 'learning_rate': 0.2130818564423981, 'lambda_l1': 0.025757449938713192, 'lambda_l2': 3.405536408412949, 'feature_fraction': 0.5894417352754746, 'bagging_fraction': 0.9174799930477201, 'bagging_freq': 5, 'min_child_samples': 75}. Best is trial 67 with value: 0.00967886438881175.\u001b[0m\n"
     ]
    },
    {
     "name": "stdout",
     "output_type": "stream",
     "text": [
      "[LightGBM] [Warning] lambda_l1 is set=0.007826361581047474, reg_alpha=0.0 will be ignored. Current value: lambda_l1=0.007826361581047474\n",
      "[LightGBM] [Warning] bagging_fraction is set=0.9692183935840113, subsample=1.0 will be ignored. Current value: bagging_fraction=0.9692183935840113\n",
      "[LightGBM] [Warning] lambda_l2 is set=1.9071165638175462, reg_lambda=0.0 will be ignored. Current value: lambda_l2=1.9071165638175462\n",
      "[LightGBM] [Warning] feature_fraction is set=0.54173793410895, colsample_bytree=1.0 will be ignored. Current value: feature_fraction=0.54173793410895\n",
      "[LightGBM] [Warning] bagging_freq is set=5, subsample_freq=0 will be ignored. Current value: bagging_freq=5\n"
     ]
    },
    {
     "name": "stderr",
     "output_type": "stream",
     "text": [
      "\u001b[32m[I 2021-07-08 12:46:35,489]\u001b[0m Trial 68 finished with value: 0.014399183199179853 and parameters: {'n_estimators': 250, 'num_leaves': 34, 'learning_rate': 0.4007886227153876, 'lambda_l1': 0.007826361581047474, 'lambda_l2': 1.9071165638175462, 'feature_fraction': 0.54173793410895, 'bagging_fraction': 0.9692183935840113, 'bagging_freq': 5, 'min_child_samples': 84}. Best is trial 67 with value: 0.00967886438881175.\u001b[0m\n"
     ]
    },
    {
     "name": "stdout",
     "output_type": "stream",
     "text": [
      "[LightGBM] [Warning] lambda_l1 is set=0.025706392464678613, reg_alpha=0.0 will be ignored. Current value: lambda_l1=0.025706392464678613\n",
      "[LightGBM] [Warning] bagging_fraction is set=0.9125032818941217, subsample=1.0 will be ignored. Current value: bagging_fraction=0.9125032818941217\n",
      "[LightGBM] [Warning] lambda_l2 is set=3.8062449094265887, reg_lambda=0.0 will be ignored. Current value: lambda_l2=3.8062449094265887\n",
      "[LightGBM] [Warning] feature_fraction is set=0.5805277096565432, colsample_bytree=1.0 will be ignored. Current value: feature_fraction=0.5805277096565432\n",
      "[LightGBM] [Warning] bagging_freq is set=6, subsample_freq=0 will be ignored. Current value: bagging_freq=6\n"
     ]
    },
    {
     "name": "stderr",
     "output_type": "stream",
     "text": [
      "\u001b[32m[I 2021-07-08 12:46:39,409]\u001b[0m Trial 69 finished with value: 0.010072675787205535 and parameters: {'n_estimators': 200, 'num_leaves': 27, 'learning_rate': 0.1449016721145549, 'lambda_l1': 0.025706392464678613, 'lambda_l2': 3.8062449094265887, 'feature_fraction': 0.5805277096565432, 'bagging_fraction': 0.9125032818941217, 'bagging_freq': 6, 'min_child_samples': 75}. Best is trial 67 with value: 0.00967886438881175.\u001b[0m\n"
     ]
    },
    {
     "name": "stdout",
     "output_type": "stream",
     "text": [
      "[LightGBM] [Warning] lambda_l1 is set=0.388656806414241, reg_alpha=0.0 will be ignored. Current value: lambda_l1=0.388656806414241\n",
      "[LightGBM] [Warning] bagging_fraction is set=0.9364442882353621, subsample=1.0 will be ignored. Current value: bagging_fraction=0.9364442882353621\n",
      "[LightGBM] [Warning] lambda_l2 is set=0.014341133555974127, reg_lambda=0.0 will be ignored. Current value: lambda_l2=0.014341133555974127\n",
      "[LightGBM] [Warning] feature_fraction is set=0.5725470832118464, colsample_bytree=1.0 will be ignored. Current value: feature_fraction=0.5725470832118464\n",
      "[LightGBM] [Warning] bagging_freq is set=6, subsample_freq=0 will be ignored. Current value: bagging_freq=6\n"
     ]
    },
    {
     "name": "stderr",
     "output_type": "stream",
     "text": [
      "\u001b[32m[I 2021-07-08 12:46:42,117]\u001b[0m Trial 70 finished with value: 0.014915428316692318 and parameters: {'n_estimators': 250, 'num_leaves': 30, 'learning_rate': 0.14539182146539628, 'lambda_l1': 0.388656806414241, 'lambda_l2': 0.014341133555974127, 'feature_fraction': 0.5725470832118464, 'bagging_fraction': 0.9364442882353621, 'bagging_freq': 6, 'min_child_samples': 74}. Best is trial 67 with value: 0.00967886438881175.\u001b[0m\n"
     ]
    },
    {
     "name": "stdout",
     "output_type": "stream",
     "text": [
      "[LightGBM] [Warning] lambda_l1 is set=0.03752106784303497, reg_alpha=0.0 will be ignored. Current value: lambda_l1=0.03752106784303497\n",
      "[LightGBM] [Warning] bagging_fraction is set=0.9203253071008639, subsample=1.0 will be ignored. Current value: bagging_fraction=0.9203253071008639\n",
      "[LightGBM] [Warning] lambda_l2 is set=3.448934590426777, reg_lambda=0.0 will be ignored. Current value: lambda_l2=3.448934590426777\n",
      "[LightGBM] [Warning] feature_fraction is set=0.5207548194084513, colsample_bytree=1.0 will be ignored. Current value: feature_fraction=0.5207548194084513\n",
      "[LightGBM] [Warning] bagging_freq is set=6, subsample_freq=0 will be ignored. Current value: bagging_freq=6\n"
     ]
    },
    {
     "name": "stderr",
     "output_type": "stream",
     "text": [
      "\u001b[32m[I 2021-07-08 12:46:46,441]\u001b[0m Trial 71 finished with value: 0.010708900854292665 and parameters: {'n_estimators': 250, 'num_leaves': 27, 'learning_rate': 0.22642429883524953, 'lambda_l1': 0.03752106784303497, 'lambda_l2': 3.448934590426777, 'feature_fraction': 0.5207548194084513, 'bagging_fraction': 0.9203253071008639, 'bagging_freq': 6, 'min_child_samples': 76}. Best is trial 67 with value: 0.00967886438881175.\u001b[0m\n"
     ]
    },
    {
     "name": "stdout",
     "output_type": "stream",
     "text": [
      "[LightGBM] [Warning] lambda_l1 is set=0.02270798134247789, reg_alpha=0.0 will be ignored. Current value: lambda_l1=0.02270798134247789\n",
      "[LightGBM] [Warning] bagging_fraction is set=0.8983649392988717, subsample=1.0 will be ignored. Current value: bagging_fraction=0.8983649392988717\n",
      "[LightGBM] [Warning] lambda_l2 is set=0.7950243138869142, reg_lambda=0.0 will be ignored. Current value: lambda_l2=0.7950243138869142\n",
      "[LightGBM] [Warning] feature_fraction is set=0.593255988149953, colsample_bytree=1.0 will be ignored. Current value: feature_fraction=0.593255988149953\n",
      "[LightGBM] [Warning] bagging_freq is set=6, subsample_freq=0 will be ignored. Current value: bagging_freq=6\n"
     ]
    },
    {
     "name": "stderr",
     "output_type": "stream",
     "text": [
      "\u001b[32m[I 2021-07-08 12:46:49,863]\u001b[0m Trial 72 finished with value: 0.010963100863644168 and parameters: {'n_estimators': 200, 'num_leaves': 26, 'learning_rate': 0.20015723968245336, 'lambda_l1': 0.02270798134247789, 'lambda_l2': 0.7950243138869142, 'feature_fraction': 0.593255988149953, 'bagging_fraction': 0.8983649392988717, 'bagging_freq': 6, 'min_child_samples': 80}. Best is trial 67 with value: 0.00967886438881175.\u001b[0m\n"
     ]
    },
    {
     "name": "stdout",
     "output_type": "stream",
     "text": [
      "[LightGBM] [Warning] lambda_l1 is set=0.0005357279166516362, reg_alpha=0.0 will be ignored. Current value: lambda_l1=0.0005357279166516362\n",
      "[LightGBM] [Warning] bagging_fraction is set=0.8562045499814325, subsample=1.0 will be ignored. Current value: bagging_fraction=0.8562045499814325\n",
      "[LightGBM] [Warning] lambda_l2 is set=5.067512590933241, reg_lambda=0.0 will be ignored. Current value: lambda_l2=5.067512590933241\n",
      "[LightGBM] [Warning] feature_fraction is set=0.5569727460307569, colsample_bytree=1.0 will be ignored. Current value: feature_fraction=0.5569727460307569\n",
      "[LightGBM] [Warning] bagging_freq is set=6, subsample_freq=0 will be ignored. Current value: bagging_freq=6\n"
     ]
    },
    {
     "name": "stderr",
     "output_type": "stream",
     "text": [
      "\u001b[32m[I 2021-07-08 12:46:54,511]\u001b[0m Trial 73 finished with value: 0.011806668315801112 and parameters: {'n_estimators': 250, 'num_leaves': 28, 'learning_rate': 0.3094979395698609, 'lambda_l1': 0.0005357279166516362, 'lambda_l2': 5.067512590933241, 'feature_fraction': 0.5569727460307569, 'bagging_fraction': 0.8562045499814325, 'bagging_freq': 6, 'min_child_samples': 62}. Best is trial 67 with value: 0.00967886438881175.\u001b[0m\n"
     ]
    },
    {
     "name": "stdout",
     "output_type": "stream",
     "text": [
      "[LightGBM] [Warning] lambda_l1 is set=0.005463117160802299, reg_alpha=0.0 will be ignored. Current value: lambda_l1=0.005463117160802299\n",
      "[LightGBM] [Warning] bagging_fraction is set=0.8264149627971257, subsample=1.0 will be ignored. Current value: bagging_fraction=0.8264149627971257\n",
      "[LightGBM] [Warning] lambda_l2 is set=1.3275381865612048, reg_lambda=0.0 will be ignored. Current value: lambda_l2=1.3275381865612048\n",
      "[LightGBM] [Warning] feature_fraction is set=0.46371690552721134, colsample_bytree=1.0 will be ignored. Current value: feature_fraction=0.46371690552721134\n",
      "[LightGBM] [Warning] bagging_freq is set=5, subsample_freq=0 will be ignored. Current value: bagging_freq=5\n"
     ]
    },
    {
     "name": "stderr",
     "output_type": "stream",
     "text": [
      "\u001b[32m[I 2021-07-08 12:46:58,065]\u001b[0m Trial 74 finished with value: 0.010348604392267901 and parameters: {'n_estimators': 200, 'num_leaves': 34, 'learning_rate': 0.09985899297232288, 'lambda_l1': 0.005463117160802299, 'lambda_l2': 1.3275381865612048, 'feature_fraction': 0.46371690552721134, 'bagging_fraction': 0.8264149627971257, 'bagging_freq': 5, 'min_child_samples': 86}. Best is trial 67 with value: 0.00967886438881175.\u001b[0m\n"
     ]
    },
    {
     "name": "stdout",
     "output_type": "stream",
     "text": [
      "[LightGBM] [Warning] lambda_l1 is set=0.005423414684030354, reg_alpha=0.0 will be ignored. Current value: lambda_l1=0.005423414684030354\n",
      "[LightGBM] [Warning] bagging_fraction is set=0.9506810135806443, subsample=1.0 will be ignored. Current value: bagging_fraction=0.9506810135806443\n",
      "[LightGBM] [Warning] lambda_l2 is set=0.27106600183071095, reg_lambda=0.0 will be ignored. Current value: lambda_l2=0.27106600183071095\n",
      "[LightGBM] [Warning] feature_fraction is set=0.4917241683215227, colsample_bytree=1.0 will be ignored. Current value: feature_fraction=0.4917241683215227\n",
      "[LightGBM] [Warning] bagging_freq is set=5, subsample_freq=0 will be ignored. Current value: bagging_freq=5\n"
     ]
    },
    {
     "name": "stderr",
     "output_type": "stream",
     "text": [
      "\u001b[32m[I 2021-07-08 12:47:02,276]\u001b[0m Trial 75 finished with value: 0.011124577290800712 and parameters: {'n_estimators': 200, 'num_leaves': 38, 'learning_rate': 0.0981758458669914, 'lambda_l1': 0.005423414684030354, 'lambda_l2': 0.27106600183071095, 'feature_fraction': 0.4917241683215227, 'bagging_fraction': 0.9506810135806443, 'bagging_freq': 5, 'min_child_samples': 84}. Best is trial 67 with value: 0.00967886438881175.\u001b[0m\n"
     ]
    },
    {
     "name": "stdout",
     "output_type": "stream",
     "text": [
      "[LightGBM] [Warning] lambda_l1 is set=0.9552577814299649, reg_alpha=0.0 will be ignored. Current value: lambda_l1=0.9552577814299649\n",
      "[LightGBM] [Warning] bagging_fraction is set=0.8988738211675776, subsample=1.0 will be ignored. Current value: bagging_fraction=0.8988738211675776\n",
      "[LightGBM] [Warning] lambda_l2 is set=0.08440610694462881, reg_lambda=0.0 will be ignored. Current value: lambda_l2=0.08440610694462881\n",
      "[LightGBM] [Warning] feature_fraction is set=0.45800247746334555, colsample_bytree=1.0 will be ignored. Current value: feature_fraction=0.45800247746334555\n",
      "[LightGBM] [Warning] bagging_freq is set=5, subsample_freq=0 will be ignored. Current value: bagging_freq=5\n"
     ]
    },
    {
     "name": "stderr",
     "output_type": "stream",
     "text": [
      "\u001b[32m[I 2021-07-08 12:47:04,285]\u001b[0m Trial 76 finished with value: 0.014132079303231153 and parameters: {'n_estimators': 200, 'num_leaves': 34, 'learning_rate': 0.13395944172931665, 'lambda_l1': 0.9552577814299649, 'lambda_l2': 0.08440610694462881, 'feature_fraction': 0.45800247746334555, 'bagging_fraction': 0.8988738211675776, 'bagging_freq': 5, 'min_child_samples': 100}. Best is trial 67 with value: 0.00967886438881175.\u001b[0m\n"
     ]
    },
    {
     "name": "stdout",
     "output_type": "stream",
     "text": [
      "[LightGBM] [Warning] lambda_l1 is set=0.02702241093402833, reg_alpha=0.0 will be ignored. Current value: lambda_l1=0.02702241093402833\n",
      "[LightGBM] [Warning] bagging_fraction is set=0.8330577591504623, subsample=1.0 will be ignored. Current value: bagging_fraction=0.8330577591504623\n",
      "[LightGBM] [Warning] lambda_l2 is set=1.3112755451543407, reg_lambda=0.0 will be ignored. Current value: lambda_l2=1.3112755451543407\n",
      "[LightGBM] [Warning] feature_fraction is set=0.4278820299785665, colsample_bytree=1.0 will be ignored. Current value: feature_fraction=0.4278820299785665\n",
      "[LightGBM] [Warning] bagging_freq is set=5, subsample_freq=0 will be ignored. Current value: bagging_freq=5\n"
     ]
    },
    {
     "name": "stderr",
     "output_type": "stream",
     "text": [
      "\u001b[32m[I 2021-07-08 12:47:08,701]\u001b[0m Trial 77 finished with value: 0.011530317989644337 and parameters: {'n_estimators': 250, 'num_leaves': 36, 'learning_rate': 0.050589226849552686, 'lambda_l1': 0.02702241093402833, 'lambda_l2': 1.3112755451543407, 'feature_fraction': 0.4278820299785665, 'bagging_fraction': 0.8330577591504623, 'bagging_freq': 5, 'min_child_samples': 78}. Best is trial 67 with value: 0.00967886438881175.\u001b[0m\n"
     ]
    },
    {
     "name": "stdout",
     "output_type": "stream",
     "text": [
      "[LightGBM] [Warning] lambda_l1 is set=0.11448925881756192, reg_alpha=0.0 will be ignored. Current value: lambda_l1=0.11448925881756192\n",
      "[LightGBM] [Warning] bagging_fraction is set=0.8567216532637817, subsample=1.0 will be ignored. Current value: bagging_fraction=0.8567216532637817\n",
      "[LightGBM] [Warning] lambda_l2 is set=0.49265778419149897, reg_lambda=0.0 will be ignored. Current value: lambda_l2=0.49265778419149897\n",
      "[LightGBM] [Warning] feature_fraction is set=0.5145072668945121, colsample_bytree=1.0 will be ignored. Current value: feature_fraction=0.5145072668945121\n",
      "[LightGBM] [Warning] bagging_freq is set=6, subsample_freq=0 will be ignored. Current value: bagging_freq=6\n"
     ]
    },
    {
     "name": "stderr",
     "output_type": "stream",
     "text": [
      "\u001b[32m[I 2021-07-08 12:47:11,441]\u001b[0m Trial 78 finished with value: 0.010359686078223029 and parameters: {'n_estimators': 200, 'num_leaves': 32, 'learning_rate': 0.1064449332472267, 'lambda_l1': 0.11448925881756192, 'lambda_l2': 0.49265778419149897, 'feature_fraction': 0.5145072668945121, 'bagging_fraction': 0.8567216532637817, 'bagging_freq': 6, 'min_child_samples': 69}. Best is trial 67 with value: 0.00967886438881175.\u001b[0m\n"
     ]
    },
    {
     "name": "stdout",
     "output_type": "stream",
     "text": [
      "[LightGBM] [Warning] lambda_l1 is set=0.23353134166255038, reg_alpha=0.0 will be ignored. Current value: lambda_l1=0.23353134166255038\n",
      "[LightGBM] [Warning] bagging_fraction is set=0.8669802408966589, subsample=1.0 will be ignored. Current value: bagging_fraction=0.8669802408966589\n",
      "[LightGBM] [Warning] lambda_l2 is set=0.4463765441706431, reg_lambda=0.0 will be ignored. Current value: lambda_l2=0.4463765441706431\n",
      "[LightGBM] [Warning] feature_fraction is set=0.5136012905512372, colsample_bytree=1.0 will be ignored. Current value: feature_fraction=0.5136012905512372\n",
      "[LightGBM] [Warning] bagging_freq is set=6, subsample_freq=0 will be ignored. Current value: bagging_freq=6\n"
     ]
    },
    {
     "name": "stderr",
     "output_type": "stream",
     "text": [
      "\u001b[32m[I 2021-07-08 12:47:13,941]\u001b[0m Trial 79 finished with value: 0.01157851243125586 and parameters: {'n_estimators': 200, 'num_leaves': 32, 'learning_rate': 0.10838666011745175, 'lambda_l1': 0.23353134166255038, 'lambda_l2': 0.4463765441706431, 'feature_fraction': 0.5136012905512372, 'bagging_fraction': 0.8669802408966589, 'bagging_freq': 6, 'min_child_samples': 69}. Best is trial 67 with value: 0.00967886438881175.\u001b[0m\n"
     ]
    },
    {
     "name": "stdout",
     "output_type": "stream",
     "text": [
      "[LightGBM] [Warning] lambda_l1 is set=0.0033729142953516224, reg_alpha=0.0 will be ignored. Current value: lambda_l1=0.0033729142953516224\n",
      "[LightGBM] [Warning] bagging_fraction is set=0.8505671705953598, subsample=1.0 will be ignored. Current value: bagging_fraction=0.8505671705953598\n",
      "[LightGBM] [Warning] lambda_l2 is set=2.9264581737544613, reg_lambda=0.0 will be ignored. Current value: lambda_l2=2.9264581737544613\n",
      "[LightGBM] [Warning] feature_fraction is set=0.4564419537812072, colsample_bytree=1.0 will be ignored. Current value: feature_fraction=0.4564419537812072\n",
      "[LightGBM] [Warning] bagging_freq is set=6, subsample_freq=0 will be ignored. Current value: bagging_freq=6\n"
     ]
    },
    {
     "name": "stderr",
     "output_type": "stream",
     "text": [
      "\u001b[32m[I 2021-07-08 12:47:17,345]\u001b[0m Trial 80 finished with value: 0.010850884105337527 and parameters: {'n_estimators': 200, 'num_leaves': 30, 'learning_rate': 0.07768326185270698, 'lambda_l1': 0.0033729142953516224, 'lambda_l2': 2.9264581737544613, 'feature_fraction': 0.4564419537812072, 'bagging_fraction': 0.8505671705953598, 'bagging_freq': 6, 'min_child_samples': 75}. Best is trial 67 with value: 0.00967886438881175.\u001b[0m\n"
     ]
    },
    {
     "name": "stdout",
     "output_type": "stream",
     "text": [
      "[LightGBM] [Warning] lambda_l1 is set=0.11673749044901095, reg_alpha=0.0 will be ignored. Current value: lambda_l1=0.11673749044901095\n",
      "[LightGBM] [Warning] bagging_fraction is set=0.8749994030333049, subsample=1.0 will be ignored. Current value: bagging_fraction=0.8749994030333049\n",
      "[LightGBM] [Warning] lambda_l2 is set=1.7448086719832945, reg_lambda=0.0 will be ignored. Current value: lambda_l2=1.7448086719832945\n",
      "[LightGBM] [Warning] feature_fraction is set=0.47630345594974705, colsample_bytree=1.0 will be ignored. Current value: feature_fraction=0.47630345594974705\n",
      "[LightGBM] [Warning] bagging_freq is set=6, subsample_freq=0 will be ignored. Current value: bagging_freq=6\n"
     ]
    },
    {
     "name": "stderr",
     "output_type": "stream",
     "text": [
      "\u001b[32m[I 2021-07-08 12:47:21,050]\u001b[0m Trial 81 finished with value: 0.010273473425180661 and parameters: {'n_estimators': 200, 'num_leaves': 33, 'learning_rate': 0.09290096638491548, 'lambda_l1': 0.11673749044901095, 'lambda_l2': 1.7448086719832945, 'feature_fraction': 0.47630345594974705, 'bagging_fraction': 0.8749994030333049, 'bagging_freq': 6, 'min_child_samples': 82}. Best is trial 67 with value: 0.00967886438881175.\u001b[0m\n"
     ]
    },
    {
     "name": "stdout",
     "output_type": "stream",
     "text": [
      "[LightGBM] [Warning] lambda_l1 is set=0.057020226604106605, reg_alpha=0.0 will be ignored. Current value: lambda_l1=0.057020226604106605\n",
      "[LightGBM] [Warning] bagging_fraction is set=0.8741292950364092, subsample=1.0 will be ignored. Current value: bagging_fraction=0.8741292950364092\n",
      "[LightGBM] [Warning] lambda_l2 is set=0.7809592480475124, reg_lambda=0.0 will be ignored. Current value: lambda_l2=0.7809592480475124\n",
      "[LightGBM] [Warning] feature_fraction is set=0.4017383353401842, colsample_bytree=1.0 will be ignored. Current value: feature_fraction=0.4017383353401842\n",
      "[LightGBM] [Warning] bagging_freq is set=6, subsample_freq=0 will be ignored. Current value: bagging_freq=6\n"
     ]
    },
    {
     "name": "stderr",
     "output_type": "stream",
     "text": [
      "\u001b[32m[I 2021-07-08 12:47:24,893]\u001b[0m Trial 82 finished with value: 0.010530360531195156 and parameters: {'n_estimators': 200, 'num_leaves': 35, 'learning_rate': 0.08894618489637128, 'lambda_l1': 0.057020226604106605, 'lambda_l2': 0.7809592480475124, 'feature_fraction': 0.4017383353401842, 'bagging_fraction': 0.8741292950364092, 'bagging_freq': 6, 'min_child_samples': 82}. Best is trial 67 with value: 0.00967886438881175.\u001b[0m\n"
     ]
    },
    {
     "name": "stdout",
     "output_type": "stream",
     "text": [
      "[LightGBM] [Warning] lambda_l1 is set=0.5411667952322358, reg_alpha=0.0 will be ignored. Current value: lambda_l1=0.5411667952322358\n",
      "[LightGBM] [Warning] bagging_fraction is set=0.8284498744765072, subsample=1.0 will be ignored. Current value: bagging_fraction=0.8284498744765072\n",
      "[LightGBM] [Warning] lambda_l2 is set=0.1844730172188452, reg_lambda=0.0 will be ignored. Current value: lambda_l2=0.1844730172188452\n",
      "[LightGBM] [Warning] feature_fraction is set=0.6103908972769376, colsample_bytree=1.0 will be ignored. Current value: feature_fraction=0.6103908972769376\n",
      "[LightGBM] [Warning] bagging_freq is set=6, subsample_freq=0 will be ignored. Current value: bagging_freq=6\n"
     ]
    },
    {
     "name": "stderr",
     "output_type": "stream",
     "text": [
      "\u001b[32m[I 2021-07-08 12:47:28,097]\u001b[0m Trial 83 finished with value: 0.01287143046239131 and parameters: {'n_estimators': 200, 'num_leaves': 33, 'learning_rate': 0.08030757946981348, 'lambda_l1': 0.5411667952322358, 'lambda_l2': 0.1844730172188452, 'feature_fraction': 0.6103908972769376, 'bagging_fraction': 0.8284498744765072, 'bagging_freq': 6, 'min_child_samples': 72}. Best is trial 67 with value: 0.00967886438881175.\u001b[0m\n"
     ]
    },
    {
     "name": "stdout",
     "output_type": "stream",
     "text": [
      "[LightGBM] [Warning] lambda_l1 is set=3.12209581509846, reg_alpha=0.0 will be ignored. Current value: lambda_l1=3.12209581509846\n",
      "[LightGBM] [Warning] bagging_fraction is set=0.9304882220778261, subsample=1.0 will be ignored. Current value: bagging_fraction=0.9304882220778261\n",
      "[LightGBM] [Warning] lambda_l2 is set=2.5414115659207828, reg_lambda=0.0 will be ignored. Current value: lambda_l2=2.5414115659207828\n",
      "[LightGBM] [Warning] feature_fraction is set=0.4748838380262133, colsample_bytree=1.0 will be ignored. Current value: feature_fraction=0.4748838380262133\n",
      "[LightGBM] [Warning] bagging_freq is set=6, subsample_freq=0 will be ignored. Current value: bagging_freq=6\n"
     ]
    },
    {
     "name": "stderr",
     "output_type": "stream",
     "text": [
      "\u001b[32m[I 2021-07-08 12:47:31,230]\u001b[0m Trial 84 finished with value: 0.02191185558106107 and parameters: {'n_estimators': 200, 'num_leaves': 34, 'learning_rate': 0.06623108695910772, 'lambda_l1': 3.12209581509846, 'lambda_l2': 2.5414115659207828, 'feature_fraction': 0.4748838380262133, 'bagging_fraction': 0.9304882220778261, 'bagging_freq': 6, 'min_child_samples': 86}. Best is trial 67 with value: 0.00967886438881175.\u001b[0m\n"
     ]
    },
    {
     "name": "stdout",
     "output_type": "stream",
     "text": [
      "[LightGBM] [Warning] lambda_l1 is set=0.030865861280648766, reg_alpha=0.0 will be ignored. Current value: lambda_l1=0.030865861280648766\n",
      "[LightGBM] [Warning] bagging_fraction is set=0.7916746159460638, subsample=1.0 will be ignored. Current value: bagging_fraction=0.7916746159460638\n",
      "[LightGBM] [Warning] lambda_l2 is set=5.602485690929785, reg_lambda=0.0 will be ignored. Current value: lambda_l2=5.602485690929785\n",
      "[LightGBM] [Warning] feature_fraction is set=0.5010977467096934, colsample_bytree=1.0 will be ignored. Current value: feature_fraction=0.5010977467096934\n",
      "[LightGBM] [Warning] bagging_freq is set=6, subsample_freq=0 will be ignored. Current value: bagging_freq=6\n"
     ]
    },
    {
     "name": "stderr",
     "output_type": "stream",
     "text": [
      "\u001b[32m[I 2021-07-08 12:47:35,981]\u001b[0m Trial 85 finished with value: 0.010828859699223816 and parameters: {'n_estimators': 200, 'num_leaves': 31, 'learning_rate': 0.12138835671455377, 'lambda_l1': 0.030865861280648766, 'lambda_l2': 5.602485690929785, 'feature_fraction': 0.5010977467096934, 'bagging_fraction': 0.7916746159460638, 'bagging_freq': 6, 'min_child_samples': 67}. Best is trial 67 with value: 0.00967886438881175.\u001b[0m\n"
     ]
    },
    {
     "name": "stdout",
     "output_type": "stream",
     "text": [
      "[LightGBM] [Warning] lambda_l1 is set=0.0006865613531080206, reg_alpha=0.0 will be ignored. Current value: lambda_l1=0.0006865613531080206\n",
      "[LightGBM] [Warning] bagging_fraction is set=0.7785031017378359, subsample=1.0 will be ignored. Current value: bagging_fraction=0.7785031017378359\n",
      "[LightGBM] [Warning] lambda_l2 is set=1.0618588190227192, reg_lambda=0.0 will be ignored. Current value: lambda_l2=1.0618588190227192\n",
      "[LightGBM] [Warning] feature_fraction is set=0.42229375486664195, colsample_bytree=1.0 will be ignored. Current value: feature_fraction=0.42229375486664195\n",
      "[LightGBM] [Warning] bagging_freq is set=6, subsample_freq=0 will be ignored. Current value: bagging_freq=6\n"
     ]
    },
    {
     "name": "stderr",
     "output_type": "stream",
     "text": [
      "\u001b[32m[I 2021-07-08 12:47:38,033]\u001b[0m Trial 86 finished with value: 0.010840578223521797 and parameters: {'n_estimators': 100, 'num_leaves': 32, 'learning_rate': 0.09772472996155973, 'lambda_l1': 0.0006865613531080206, 'lambda_l2': 1.0618588190227192, 'feature_fraction': 0.42229375486664195, 'bagging_fraction': 0.7785031017378359, 'bagging_freq': 6, 'min_child_samples': 78}. Best is trial 67 with value: 0.00967886438881175.\u001b[0m\n"
     ]
    },
    {
     "name": "stdout",
     "output_type": "stream",
     "text": [
      "[LightGBM] [Warning] lambda_l1 is set=0.06898086313548067, reg_alpha=0.0 will be ignored. Current value: lambda_l1=0.06898086313548067\n",
      "[LightGBM] [Warning] bagging_fraction is set=0.8474663700019013, subsample=1.0 will be ignored. Current value: bagging_fraction=0.8474663700019013\n",
      "[LightGBM] [Warning] lambda_l2 is set=3.4484299662014695, reg_lambda=0.0 will be ignored. Current value: lambda_l2=3.4484299662014695\n",
      "[LightGBM] [Warning] feature_fraction is set=0.5731803731475125, colsample_bytree=1.0 will be ignored. Current value: feature_fraction=0.5731803731475125\n",
      "[LightGBM] [Warning] bagging_freq is set=6, subsample_freq=0 will be ignored. Current value: bagging_freq=6\n"
     ]
    },
    {
     "name": "stderr",
     "output_type": "stream",
     "text": [
      "\u001b[32m[I 2021-07-08 12:47:42,545]\u001b[0m Trial 87 finished with value: 0.014140804563090557 and parameters: {'n_estimators': 200, 'num_leaves': 36, 'learning_rate': 0.037587139159894395, 'lambda_l1': 0.06898086313548067, 'lambda_l2': 3.4484299662014695, 'feature_fraction': 0.5731803731475125, 'bagging_fraction': 0.8474663700019013, 'bagging_freq': 6, 'min_child_samples': 75}. Best is trial 67 with value: 0.00967886438881175.\u001b[0m\n"
     ]
    },
    {
     "name": "stdout",
     "output_type": "stream",
     "text": [
      "[LightGBM] [Warning] lambda_l1 is set=0.19174391898303503, reg_alpha=0.0 will be ignored. Current value: lambda_l1=0.19174391898303503\n",
      "[LightGBM] [Warning] bagging_fraction is set=0.8244499795334074, subsample=1.0 will be ignored. Current value: bagging_fraction=0.8244499795334074\n",
      "[LightGBM] [Warning] lambda_l2 is set=0.5008783035657547, reg_lambda=0.0 will be ignored. Current value: lambda_l2=0.5008783035657547\n",
      "[LightGBM] [Warning] feature_fraction is set=0.6357437738370033, colsample_bytree=1.0 will be ignored. Current value: feature_fraction=0.6357437738370033\n",
      "[LightGBM] [Warning] bagging_freq is set=6, subsample_freq=0 will be ignored. Current value: bagging_freq=6\n"
     ]
    },
    {
     "name": "stderr",
     "output_type": "stream",
     "text": [
      "\u001b[32m[I 2021-07-08 12:47:45,277]\u001b[0m Trial 88 finished with value: 0.012876585553116231 and parameters: {'n_estimators': 200, 'num_leaves': 29, 'learning_rate': 0.1780840746891476, 'lambda_l1': 0.19174391898303503, 'lambda_l2': 0.5008783035657547, 'feature_fraction': 0.6357437738370033, 'bagging_fraction': 0.8244499795334074, 'bagging_freq': 6, 'min_child_samples': 82}. Best is trial 67 with value: 0.00967886438881175.\u001b[0m\n"
     ]
    },
    {
     "name": "stdout",
     "output_type": "stream",
     "text": [
      "[LightGBM] [Warning] lambda_l1 is set=5.710661543331611e-05, reg_alpha=0.0 will be ignored. Current value: lambda_l1=5.710661543331611e-05\n",
      "[LightGBM] [Warning] bagging_fraction is set=0.8030387094906408, subsample=1.0 will be ignored. Current value: bagging_fraction=0.8030387094906408\n",
      "[LightGBM] [Warning] lambda_l2 is set=1.9187054491446605, reg_lambda=0.0 will be ignored. Current value: lambda_l2=1.9187054491446605\n",
      "[LightGBM] [Warning] feature_fraction is set=0.5214925543729799, colsample_bytree=1.0 will be ignored. Current value: feature_fraction=0.5214925543729799\n",
      "[LightGBM] [Warning] bagging_freq is set=7, subsample_freq=0 will be ignored. Current value: bagging_freq=7\n"
     ]
    },
    {
     "name": "stderr",
     "output_type": "stream",
     "text": [
      "\u001b[32m[I 2021-07-08 12:47:50,081]\u001b[0m Trial 89 finished with value: 0.011349792982773228 and parameters: {'n_estimators': 250, 'num_leaves': 31, 'learning_rate': 0.26192968362806635, 'lambda_l1': 5.710661543331611e-05, 'lambda_l2': 1.9187054491446605, 'feature_fraction': 0.5214925543729799, 'bagging_fraction': 0.8030387094906408, 'bagging_freq': 7, 'min_child_samples': 61}. Best is trial 67 with value: 0.00967886438881175.\u001b[0m\n"
     ]
    },
    {
     "name": "stdout",
     "output_type": "stream",
     "text": [
      "[LightGBM] [Warning] lambda_l1 is set=0.002464743548861007, reg_alpha=0.0 will be ignored. Current value: lambda_l1=0.002464743548861007\n",
      "[LightGBM] [Warning] bagging_fraction is set=0.8749233446733059, subsample=1.0 will be ignored. Current value: bagging_fraction=0.8749233446733059\n",
      "[LightGBM] [Warning] lambda_l2 is set=6.336746529227061, reg_lambda=0.0 will be ignored. Current value: lambda_l2=6.336746529227061\n",
      "[LightGBM] [Warning] feature_fraction is set=0.45813860225383457, colsample_bytree=1.0 will be ignored. Current value: feature_fraction=0.45813860225383457\n",
      "[LightGBM] [Warning] bagging_freq is set=5, subsample_freq=0 will be ignored. Current value: bagging_freq=5\n"
     ]
    },
    {
     "name": "stderr",
     "output_type": "stream",
     "text": [
      "\u001b[32m[I 2021-07-08 12:47:53,603]\u001b[0m Trial 90 finished with value: 0.011651968480229036 and parameters: {'n_estimators': 200, 'num_leaves': 33, 'learning_rate': 0.46656679063625933, 'lambda_l1': 0.002464743548861007, 'lambda_l2': 6.336746529227061, 'feature_fraction': 0.45813860225383457, 'bagging_fraction': 0.8749233446733059, 'bagging_freq': 5, 'min_child_samples': 69}. Best is trial 67 with value: 0.00967886438881175.\u001b[0m\n"
     ]
    },
    {
     "name": "stdout",
     "output_type": "stream",
     "text": [
      "[LightGBM] [Warning] lambda_l1 is set=0.11065766722763783, reg_alpha=0.0 will be ignored. Current value: lambda_l1=0.11065766722763783\n",
      "[LightGBM] [Warning] bagging_fraction is set=0.8981961007964481, subsample=1.0 will be ignored. Current value: bagging_fraction=0.8981961007964481\n",
      "[LightGBM] [Warning] lambda_l2 is set=1.7329872392551982, reg_lambda=0.0 will be ignored. Current value: lambda_l2=1.7329872392551982\n",
      "[LightGBM] [Warning] feature_fraction is set=0.4868991601114503, colsample_bytree=1.0 will be ignored. Current value: feature_fraction=0.4868991601114503\n",
      "[LightGBM] [Warning] bagging_freq is set=5, subsample_freq=0 will be ignored. Current value: bagging_freq=5\n"
     ]
    },
    {
     "name": "stderr",
     "output_type": "stream",
     "text": [
      "\u001b[32m[I 2021-07-08 12:47:56,856]\u001b[0m Trial 91 finished with value: 0.010423292253504262 and parameters: {'n_estimators': 200, 'num_leaves': 34, 'learning_rate': 0.1397867946786565, 'lambda_l1': 0.11065766722763783, 'lambda_l2': 1.7329872392551982, 'feature_fraction': 0.4868991601114503, 'bagging_fraction': 0.8981961007964481, 'bagging_freq': 5, 'min_child_samples': 86}. Best is trial 67 with value: 0.00967886438881175.\u001b[0m\n"
     ]
    },
    {
     "name": "stdout",
     "output_type": "stream",
     "text": [
      "[LightGBM] [Warning] lambda_l1 is set=0.004948337324185039, reg_alpha=0.0 will be ignored. Current value: lambda_l1=0.004948337324185039\n",
      "[LightGBM] [Warning] bagging_fraction is set=0.8913798788161371, subsample=1.0 will be ignored. Current value: bagging_fraction=0.8913798788161371\n",
      "[LightGBM] [Warning] lambda_l2 is set=1.237801268167815, reg_lambda=0.0 will be ignored. Current value: lambda_l2=1.237801268167815\n",
      "[LightGBM] [Warning] feature_fraction is set=0.4726408699208436, colsample_bytree=1.0 will be ignored. Current value: feature_fraction=0.4726408699208436\n",
      "[LightGBM] [Warning] bagging_freq is set=4, subsample_freq=0 will be ignored. Current value: bagging_freq=4\n"
     ]
    },
    {
     "name": "stderr",
     "output_type": "stream",
     "text": [
      "\u001b[32m[I 2021-07-08 12:48:00,562]\u001b[0m Trial 92 finished with value: 0.011167728036465213 and parameters: {'n_estimators': 200, 'num_leaves': 33, 'learning_rate': 0.11132737929523365, 'lambda_l1': 0.004948337324185039, 'lambda_l2': 1.237801268167815, 'feature_fraction': 0.4726408699208436, 'bagging_fraction': 0.8913798788161371, 'bagging_freq': 4, 'min_child_samples': 89}. Best is trial 67 with value: 0.00967886438881175.\u001b[0m\n"
     ]
    },
    {
     "name": "stdout",
     "output_type": "stream",
     "text": [
      "[LightGBM] [Warning] lambda_l1 is set=0.32954060333842927, reg_alpha=0.0 will be ignored. Current value: lambda_l1=0.32954060333842927\n",
      "[LightGBM] [Warning] bagging_fraction is set=0.9678638509007331, subsample=1.0 will be ignored. Current value: bagging_fraction=0.9678638509007331\n",
      "[LightGBM] [Warning] lambda_l2 is set=3.6668308433268284, reg_lambda=0.0 will be ignored. Current value: lambda_l2=3.6668308433268284\n",
      "[LightGBM] [Warning] feature_fraction is set=0.500699755549191, colsample_bytree=1.0 will be ignored. Current value: feature_fraction=0.500699755549191\n",
      "[LightGBM] [Warning] bagging_freq is set=5, subsample_freq=0 will be ignored. Current value: bagging_freq=5\n"
     ]
    },
    {
     "name": "stderr",
     "output_type": "stream",
     "text": [
      "\u001b[32m[I 2021-07-08 12:48:03,695]\u001b[0m Trial 93 finished with value: 0.010725573966637397 and parameters: {'n_estimators': 200, 'num_leaves': 35, 'learning_rate': 0.21858811597109676, 'lambda_l1': 0.32954060333842927, 'lambda_l2': 3.6668308433268284, 'feature_fraction': 0.500699755549191, 'bagging_fraction': 0.9678638509007331, 'bagging_freq': 5, 'min_child_samples': 93}. Best is trial 67 with value: 0.00967886438881175.\u001b[0m\n"
     ]
    },
    {
     "name": "stdout",
     "output_type": "stream",
     "text": [
      "[LightGBM] [Warning] lambda_l1 is set=0.0424671902326864, reg_alpha=0.0 will be ignored. Current value: lambda_l1=0.0424671902326864\n",
      "[LightGBM] [Warning] bagging_fraction is set=0.9220914916217932, subsample=1.0 will be ignored. Current value: bagging_fraction=0.9220914916217932\n",
      "[LightGBM] [Warning] lambda_l2 is set=0.6975466912280803, reg_lambda=0.0 will be ignored. Current value: lambda_l2=0.6975466912280803\n",
      "[LightGBM] [Warning] feature_fraction is set=0.5350861980274852, colsample_bytree=1.0 will be ignored. Current value: feature_fraction=0.5350861980274852\n",
      "[LightGBM] [Warning] bagging_freq is set=5, subsample_freq=0 will be ignored. Current value: bagging_freq=5\n"
     ]
    },
    {
     "name": "stderr",
     "output_type": "stream",
     "text": [
      "\u001b[32m[I 2021-07-08 12:48:07,874]\u001b[0m Trial 94 finished with value: 0.011860750240002434 and parameters: {'n_estimators': 200, 'num_leaves': 25, 'learning_rate': 0.06043498816569505, 'lambda_l1': 0.0424671902326864, 'lambda_l2': 0.6975466912280803, 'feature_fraction': 0.5350861980274852, 'bagging_fraction': 0.9220914916217932, 'bagging_freq': 5, 'min_child_samples': 80}. Best is trial 67 with value: 0.00967886438881175.\u001b[0m\n"
     ]
    },
    {
     "name": "stdout",
     "output_type": "stream",
     "text": [
      "[LightGBM] [Warning] lambda_l1 is set=0.1133050803531425, reg_alpha=0.0 will be ignored. Current value: lambda_l1=0.1133050803531425\n",
      "[LightGBM] [Warning] bagging_fraction is set=0.9543874920348677, subsample=1.0 will be ignored. Current value: bagging_fraction=0.9543874920348677\n",
      "[LightGBM] [Warning] lambda_l2 is set=0.3438602076334363, reg_lambda=0.0 will be ignored. Current value: lambda_l2=0.3438602076334363\n",
      "[LightGBM] [Warning] feature_fraction is set=0.545830310119006, colsample_bytree=1.0 will be ignored. Current value: feature_fraction=0.545830310119006\n",
      "[LightGBM] [Warning] bagging_freq is set=6, subsample_freq=0 will be ignored. Current value: bagging_freq=6\n"
     ]
    },
    {
     "name": "stderr",
     "output_type": "stream",
     "text": [
      "\u001b[32m[I 2021-07-08 12:48:10,560]\u001b[0m Trial 95 finished with value: 0.012925488398879807 and parameters: {'n_estimators': 200, 'num_leaves': 32, 'learning_rate': 0.14826636678241936, 'lambda_l1': 0.1133050803531425, 'lambda_l2': 0.3438602076334363, 'feature_fraction': 0.545830310119006, 'bagging_fraction': 0.9543874920348677, 'bagging_freq': 6, 'min_child_samples': 85}. Best is trial 67 with value: 0.00967886438881175.\u001b[0m\n"
     ]
    },
    {
     "name": "stdout",
     "output_type": "stream",
     "text": [
      "[LightGBM] [Warning] lambda_l1 is set=0.6633950007442254, reg_alpha=0.0 will be ignored. Current value: lambda_l1=0.6633950007442254\n",
      "[LightGBM] [Warning] bagging_fraction is set=0.9916214840017017, subsample=1.0 will be ignored. Current value: bagging_fraction=0.9916214840017017\n",
      "[LightGBM] [Warning] lambda_l2 is set=0.0712099177980073, reg_lambda=0.0 will be ignored. Current value: lambda_l2=0.0712099177980073\n",
      "[LightGBM] [Warning] feature_fraction is set=0.486213373280739, colsample_bytree=1.0 will be ignored. Current value: feature_fraction=0.486213373280739\n",
      "[LightGBM] [Warning] bagging_freq is set=5, subsample_freq=0 will be ignored. Current value: bagging_freq=5\n"
     ]
    },
    {
     "name": "stderr",
     "output_type": "stream",
     "text": [
      "\u001b[32m[I 2021-07-08 12:48:12,798]\u001b[0m Trial 96 finished with value: 0.017123743238563107 and parameters: {'n_estimators': 200, 'num_leaves': 28, 'learning_rate': 0.1854753598733025, 'lambda_l1': 0.6633950007442254, 'lambda_l2': 0.0712099177980073, 'feature_fraction': 0.486213373280739, 'bagging_fraction': 0.9916214840017017, 'bagging_freq': 5, 'min_child_samples': 98}. Best is trial 67 with value: 0.00967886438881175.\u001b[0m\n"
     ]
    },
    {
     "name": "stdout",
     "output_type": "stream",
     "text": [
      "[LightGBM] [Warning] lambda_l1 is set=0.014511322026505779, reg_alpha=0.0 will be ignored. Current value: lambda_l1=0.014511322026505779\n",
      "[LightGBM] [Warning] bagging_fraction is set=0.8640701587464179, subsample=1.0 will be ignored. Current value: bagging_fraction=0.8640701587464179\n",
      "[LightGBM] [Warning] lambda_l2 is set=2.1219873614054037, reg_lambda=0.0 will be ignored. Current value: lambda_l2=2.1219873614054037\n",
      "[LightGBM] [Warning] feature_fraction is set=0.514707760048612, colsample_bytree=1.0 will be ignored. Current value: feature_fraction=0.514707760048612\n",
      "[LightGBM] [Warning] bagging_freq is set=6, subsample_freq=0 will be ignored. Current value: bagging_freq=6\n"
     ]
    },
    {
     "name": "stderr",
     "output_type": "stream",
     "text": [
      "\u001b[32m[I 2021-07-08 12:48:16,425]\u001b[0m Trial 97 finished with value: 0.012421183485721543 and parameters: {'n_estimators': 200, 'num_leaves': 33, 'learning_rate': 0.34878116668338877, 'lambda_l1': 0.014511322026505779, 'lambda_l2': 2.1219873614054037, 'feature_fraction': 0.514707760048612, 'bagging_fraction': 0.8640701587464179, 'bagging_freq': 6, 'min_child_samples': 95}. Best is trial 67 with value: 0.00967886438881175.\u001b[0m\n"
     ]
    },
    {
     "name": "stdout",
     "output_type": "stream",
     "text": [
      "[LightGBM] [Warning] lambda_l1 is set=0.15299908313924512, reg_alpha=0.0 will be ignored. Current value: lambda_l1=0.15299908313924512\n",
      "[LightGBM] [Warning] bagging_fraction is set=0.9078232454003623, subsample=1.0 will be ignored. Current value: bagging_fraction=0.9078232454003623\n",
      "[LightGBM] [Warning] lambda_l2 is set=6.699768018950106, reg_lambda=0.0 will be ignored. Current value: lambda_l2=6.699768018950106\n",
      "[LightGBM] [Warning] feature_fraction is set=0.5951443692496223, colsample_bytree=1.0 will be ignored. Current value: feature_fraction=0.5951443692496223\n",
      "[LightGBM] [Warning] bagging_freq is set=6, subsample_freq=0 will be ignored. Current value: bagging_freq=6\n"
     ]
    },
    {
     "name": "stderr",
     "output_type": "stream",
     "text": [
      "\u001b[32m[I 2021-07-08 12:48:20,702]\u001b[0m Trial 98 finished with value: 0.010412473334761422 and parameters: {'n_estimators': 200, 'num_leaves': 31, 'learning_rate': 0.09376354168324742, 'lambda_l1': 0.15299908313924512, 'lambda_l2': 6.699768018950106, 'feature_fraction': 0.5951443692496223, 'bagging_fraction': 0.9078232454003623, 'bagging_freq': 6, 'min_child_samples': 91}. Best is trial 67 with value: 0.00967886438881175.\u001b[0m\n"
     ]
    },
    {
     "name": "stdout",
     "output_type": "stream",
     "text": [
      "[LightGBM] [Warning] lambda_l1 is set=1.9693722833814369, reg_alpha=0.0 will be ignored. Current value: lambda_l1=1.9693722833814369\n",
      "[LightGBM] [Warning] bagging_fraction is set=0.8457607631081625, subsample=1.0 will be ignored. Current value: bagging_fraction=0.8457607631081625\n",
      "[LightGBM] [Warning] lambda_l2 is set=0.2057826818272584, reg_lambda=0.0 will be ignored. Current value: lambda_l2=0.2057826818272584\n",
      "[LightGBM] [Warning] feature_fraction is set=0.4533367514755159, colsample_bytree=1.0 will be ignored. Current value: feature_fraction=0.4533367514755159\n",
      "[LightGBM] [Warning] bagging_freq is set=5, subsample_freq=0 will be ignored. Current value: bagging_freq=5\n"
     ]
    },
    {
     "name": "stderr",
     "output_type": "stream",
     "text": [
      "\u001b[32m[I 2021-07-08 12:48:22,756]\u001b[0m Trial 99 finished with value: 0.0166684231009352 and parameters: {'n_estimators': 200, 'num_leaves': 30, 'learning_rate': 0.12815657490985014, 'lambda_l1': 1.9693722833814369, 'lambda_l2': 0.2057826818272584, 'feature_fraction': 0.4533367514755159, 'bagging_fraction': 0.8457607631081625, 'bagging_freq': 5, 'min_child_samples': 87}. Best is trial 67 with value: 0.00967886438881175.\u001b[0m\n"
     ]
    }
   ],
   "source": [
    "from sklearn.model_selection import RandomizedSearchCV\n",
    "\n",
    "clf_lgb = LGBMClassifier()\n",
    "\n",
    "def objective(trial):\n",
    "    est = [100, 150, 200, 250]\n",
    "    param = {\n",
    "        'n_estimators': trial.suggest_categorical('n_estimators', est),\n",
    "        'num_leaves' : trial.suggest_int('num_leaves', 15, 40),\n",
    "        'learning_rate' : trial.suggest_loguniform('learning_rate', 0.01, 0.8),\n",
    "        'lambda_l1': trial.suggest_loguniform('lambda_l1', 1e-8, 10.0),\n",
    "        'lambda_l2': trial.suggest_loguniform('lambda_l2', 1e-8, 10.0),\n",
    "        'num_leaves': trial.suggest_int('num_leaves', 2, 256),\n",
    "        'feature_fraction': trial.suggest_uniform('feature_fraction', 0.4, 1.0),\n",
    "        'bagging_fraction': trial.suggest_uniform('bagging_fraction', 0.4, 1.0),\n",
    "        'bagging_freq': trial.suggest_int('bagging_freq', 1, 7),\n",
    "        'min_child_samples': trial.suggest_int('min_child_samples', 5, 100),\n",
    "            }\n",
    "    clf = LGBMClassifier(**param)\n",
    "    clf.fit(x_train_lgb, y_train)\n",
    "    return log_loss(y_val, clf.predict_proba(x_val_lgb.reset_index().drop('index', axis = 1)))\n",
    "\n",
    "import optuna\n",
    "study = optuna.create_study(direction='minimize')\n",
    "study.optimize(objective, n_trials=100)\n"
   ]
  },
  {
   "cell_type": "code",
   "execution_count": 484,
   "id": "37edcf76",
   "metadata": {},
   "outputs": [
    {
     "data": {
      "text/plain": [
       "{'n_estimators': 250,\n",
       " 'num_leaves': 34,\n",
       " 'learning_rate': 0.2130818564423981,\n",
       " 'lambda_l1': 0.025757449938713192,\n",
       " 'lambda_l2': 3.405536408412949,\n",
       " 'feature_fraction': 0.5894417352754746,\n",
       " 'bagging_fraction': 0.9174799930477201,\n",
       " 'bagging_freq': 5,\n",
       " 'min_child_samples': 75}"
      ]
     },
     "execution_count": 484,
     "metadata": {},
     "output_type": "execute_result"
    }
   ],
   "source": [
    "best = study.best_params\n",
    "best"
   ]
  },
  {
   "cell_type": "code",
   "execution_count": 489,
   "id": "1d7423f6",
   "metadata": {},
   "outputs": [
    {
     "name": "stdout",
     "output_type": "stream",
     "text": [
      "[LightGBM] [Warning] lambda_l1 is set=0.025757449938713192, reg_alpha=0.0 will be ignored. Current value: lambda_l1=0.025757449938713192\n",
      "[LightGBM] [Warning] bagging_fraction is set=0.9174799930477201, subsample=1.0 will be ignored. Current value: bagging_fraction=0.9174799930477201\n",
      "[LightGBM] [Warning] lambda_l2 is set=3.405536408412949, reg_lambda=0.0 will be ignored. Current value: lambda_l2=3.405536408412949\n",
      "[LightGBM] [Warning] feature_fraction is set=0.5894417352754746, colsample_bytree=1.0 will be ignored. Current value: feature_fraction=0.5894417352754746\n",
      "[LightGBM] [Warning] bagging_freq is set=5, subsample_freq=0 will be ignored. Current value: bagging_freq=5\n",
      "****************************************************************************************************\n",
      "Train error for LightGBM Classifier is  0.00017021813719157107\n",
      "Cross Validation error for LightGBM Classifier is  0.00967886438881175\n"
     ]
    }
   ],
   "source": [
    "clf_lgb = LGBMClassifier(n_estimators= 250,\n",
    "                     num_leaves= 34,\n",
    "                     learning_rate= 0.2130818564423981,\n",
    "                     lambda_l1= 0.025757449938713192,\n",
    "                     lambda_l2= 3.405536408412949,\n",
    "                     feature_fraction= 0.5894417352754746,\n",
    "                     bagging_fraction= 0.9174799930477201,\n",
    "                     bagging_freq= 5,\n",
    "                     min_child_samples= 75\n",
    "                    )\n",
    "clf_lgb.fit(x_train_lgb, y_train)\n",
    "print('*'*100)\n",
    "\n",
    "print('Train error for LightGBM Classifier is ', log_loss(y_train, clf_lgb.predict_proba(x_train_lgb)))\n",
    "print('Cross Validation error for LightGBM Classifier is ',log_loss(y_val, clf_lgb.predict_proba(x_val_lgb)))"
   ]
  },
  {
   "cell_type": "code",
   "execution_count": 488,
   "id": "62370603",
   "metadata": {},
   "outputs": [],
   "source": [
    "def plot_confusion_matrix(test_y, predict_y):\n",
    "    C = confusion_matrix(test_y, predict_y)\n",
    "    print(\"Number of misclassified points \",(len(test_y)-np.trace(C))/len(test_y)*100)\n",
    "    # C = 9,9 matrix, each cell (i,j) represents number of points of class i are predicted class j\n",
    "    \n",
    "    A =(((C.T)/(C.sum(axis=1))).T)\n",
    "    #divid each element of the confusion matrix with the sum of elements in that column\n",
    "    \n",
    "    # C = [[1, 2],\n",
    "    #     [3, 4]]\n",
    "    # C.T = [[1, 3],\n",
    "    #        [2, 4]]\n",
    "    # C.sum(axis = 1)  axis=0 corresonds to columns and axis=1 corresponds to rows in two diamensional array\n",
    "    # C.sum(axix =1) = [[3, 7]]\n",
    "    # ((C.T)/(C.sum(axis=1))) = [[1/3, 3/7]\n",
    "    #                           [2/3, 4/7]]\n",
    "\n",
    "    # ((C.T)/(C.sum(axis=1))).T = [[1/3, 2/3]\n",
    "    #                           [3/7, 4/7]]\n",
    "    # sum of row elements = 1\n",
    "    \n",
    "    B =(C/C.sum(axis=0))\n",
    "    #divid each element of the confusion matrix with the sum of elements in that row\n",
    "    # C = [[1, 2],\n",
    "    #     [3, 4]]\n",
    "    # C.sum(axis = 0)  axis=0 corresonds to columns and axis=1 corresponds to rows in two diamensional array\n",
    "    # C.sum(axix =0) = [[4, 6]]\n",
    "    # (C/C.sum(axis=0)) = [[1/4, 2/6],\n",
    "    #                      [3/4, 4/6]] \n",
    "    \n",
    "    labels = [1,2,3,4,5,6,7,8,9]\n",
    "    cmap=sns.light_palette(\"green\")\n",
    "    # representing A in heatmap format\n",
    "    print(\"-\"*50, \"Confusion matrix\", \"-\"*50)\n",
    "    plt.figure(figsize=(10,5))\n",
    "    sns.heatmap(C, annot=True, cmap=cmap, fmt=\".3f\", xticklabels=labels, yticklabels=labels)\n",
    "    plt.xlabel('Predicted Class')\n",
    "    plt.ylabel('Original Class')\n",
    "    plt.show()\n",
    "\n",
    "    print(\"-\"*50, \"Precision matrix\", \"-\"*50)\n",
    "    plt.figure(figsize=(10,5))\n",
    "    sns.heatmap(B, annot=True, cmap=cmap, fmt=\".3f\", xticklabels=labels, yticklabels=labels)\n",
    "    plt.xlabel('Predicted Class')\n",
    "    plt.ylabel('Original Class')\n",
    "    plt.show()\n",
    "    print(\"Sum of columns in precision matrix\",B.sum(axis=0))\n",
    "    \n",
    "    # representing B in heatmap format\n",
    "    print(\"-\"*50, \"Recall matrix\"    , \"-\"*50)\n",
    "    plt.figure(figsize=(10,5))\n",
    "    sns.heatmap(A, annot=True, cmap=cmap, fmt=\".3f\", xticklabels=labels, yticklabels=labels)\n",
    "    plt.xlabel('Predicted Class')\n",
    "    plt.ylabel('Original Class')\n",
    "    plt.show()\n",
    "    print(\"Sum of rows in precision matrix\",A.sum(axis=1))"
   ]
  },
  {
   "cell_type": "code",
   "execution_count": 495,
   "id": "ee8ab22b",
   "metadata": {},
   "outputs": [
    {
     "name": "stdout",
     "output_type": "stream",
     "text": [
      "The train log loss is: 0.00017021813719157107\n",
      "The cross validation log loss is: 0.00967886438881175\n",
      "============================================================ Matrix for Training data ============================================================\n",
      "Number of misclassified points  0.0\n",
      "-------------------------------------------------- Confusion matrix --------------------------------------------------\n"
     ]
    },
    {
     "data": {
      "image/png": "[encoded data removed]",
      "text/plain": [
       "<Figure size 720x360 with 2 Axes>"
      ]
     },
     "metadata": {
      "needs_background": "light"
     },
     "output_type": "display_data"
    },
    {
     "name": "stdout",
     "output_type": "stream",
     "text": [
      "-------------------------------------------------- Precision matrix --------------------------------------------------\n"
     ]
    },
    {
     "data": {
      "image/png": "[encoded data removed]",
      "text/plain": [
       "<Figure size 720x360 with 2 Axes>"
      ]
     },
     "metadata": {
      "needs_background": "light"
     },
     "output_type": "display_data"
    },
    {
     "name": "stdout",
     "output_type": "stream",
     "text": [
      "Sum of columns in precision matrix [1. 1. 1. 1. 1. 1. 1. 1. 1.]\n",
      "-------------------------------------------------- Recall matrix --------------------------------------------------\n"
     ]
    },
    {
     "data": {
      "image/png": "[encoded data removed]",
      "text/plain": [
       "<Figure size 720x360 with 2 Axes>"
      ]
     },
     "metadata": {
      "needs_background": "light"
     },
     "output_type": "display_data"
    },
    {
     "name": "stdout",
     "output_type": "stream",
     "text": [
      "Sum of rows in precision matrix [1. 1. 1. 1. 1. 1. 1. 1. 1.]\n",
      "============================================================ Matrix for Validation data ============================================================\n",
      "Number of misclassified points  0.25763709974236293\n",
      "-------------------------------------------------- Confusion matrix --------------------------------------------------\n"
     ]
    },
    {
     "data": {
      "image/png": "[encoded data removed]",
      "text/plain": [
       "<Figure size 720x360 with 2 Axes>"
      ]
     },
     "metadata": {
      "needs_background": "light"
     },
     "output_type": "display_data"
    },
    {
     "name": "stdout",
     "output_type": "stream",
     "text": [
      "-------------------------------------------------- Precision matrix --------------------------------------------------\n"
     ]
    },
    {
     "data": {
      "image/png": "[encoded data removed]",
      "text/plain": [
       "<Figure size 720x360 with 2 Axes>"
      ]
     },
     "metadata": {
      "needs_background": "light"
     },
     "output_type": "display_data"
    },
    {
     "name": "stdout",
     "output_type": "stream",
     "text": [
      "Sum of columns in precision matrix [1. 1. 1. 1. 1. 1. 1. 1. 1.]\n",
      "-------------------------------------------------- Recall matrix --------------------------------------------------\n"
     ]
    },
    {
     "data": {
      "image/png": "[encoded data removed]",
      "text/plain": [
       "<Figure size 720x360 with 2 Axes>"
      ]
     },
     "metadata": {
      "needs_background": "light"
     },
     "output_type": "display_data"
    },
    {
     "name": "stdout",
     "output_type": "stream",
     "text": [
      "Sum of rows in precision matrix [1. 1. 1. 1. 1. 1. 1. 1. 1.]\n"
     ]
    }
   ],
   "source": [
    "predict_y = clf_lgb.predict_proba(x_train_lgb)\n",
    "print (\"The train log loss is:\",log_loss(y_train, predict_y))\n",
    "\n",
    "predict_y = clf_lgb.predict_proba(x_val_lgb)\n",
    "print(\"The cross validation log loss is:\",log_loss(y_val, predict_y))\n",
    "\n",
    "print('='*60, 'Matrix for Training data', '='*60)\n",
    "plot_confusion_matrix(y_train, clf_lgb.predict(x_train_lgb))\n",
    "\n",
    "print('='*60, 'Matrix for Validation data', '='*60)\n",
    "plot_confusion_matrix(y_val, clf_lgb.predict(x_val_lgb))"
   ]
  },
  {
   "cell_type": "code",
   "execution_count": null,
   "id": "927f062e",
   "metadata": {},
   "outputs": [],
   "source": []
  }
 ],
 "metadata": {
  "environment": {
   "name": "tf2-gpu.2-5.m71",
   "type": "gcloud",
   "uri": "gcr.io/deeplearning-platform-release/tf2-gpu.2-5:m71"
  },
  "kernelspec": {
   "display_name": "Python 3",
   "language": "python",
   "name": "python3"
  },
  "language_info": {
   "codemirror_mode": {
    "name": "ipython",
    "version": 3
   },
   "file_extension": ".py",
   "mimetype": "text/x-python",
   "name": "python",
   "nbconvert_exporter": "python",
   "pygments_lexer": "ipython3",
   "version": "3.7.10"
  }
 },
 "nbformat": 4,
 "nbformat_minor": 5
}
